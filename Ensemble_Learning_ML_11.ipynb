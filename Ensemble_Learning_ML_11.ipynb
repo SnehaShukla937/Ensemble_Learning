{
 "cells": [
  {
   "cell_type": "markdown",
   "metadata": {
    "colab_type": "text",
    "id": "e-b_DoOqD5v_"
   },
   "source": [
    "# **Ensemble Learning** \n",
    "* A Supervised Learning approach.\n",
    "* Uses group of classifiers/regressors for classification.\n",
    "* The goal of ensemble methods is to combine the predictions of several base estimators built with a given learning algorithm in order to improve generalizability / robustness over a single estimator.\n",
    "* Two families of ensemble methods:\n",
    " \n",
    " **averaging methods**- the driving principle is to build several estimators independently and then to average their predictions. On average, the combined estimator is usually better than any of the single base estimator because its variance is reduced.\n",
    "Examples: Bagging methods, Forests of randomized trees.\n",
    "\n",
    " **boosting methods**- base estimators are built sequentially and one tries to reduce the bias of the combined estimator. The motivation is to combine several weak models to produce a powerful ensemble.\n",
    "Examples: AdaBoost, Gradient Tree Boosting.\n",
    "\n",
    "\n",
    "\n"
   ]
  },
  {
   "cell_type": "markdown",
   "metadata": {
    "colab_type": "text",
    "id": "LtWkJNwQOfcP"
   },
   "source": [
    "### **Ensemble learning Types:**\n",
    "\n",
    "\n",
    "1.   **Bootstrap Aggregating or Bagging:** \n",
    "     * Bootstrap sampling is sampling with replacements means training samples get replaced with whole dataset before you draw another samples.\n",
    "     *Combine predictions by averaging the output (regreesion).\n",
    "     *Combine predictions by voting (classfication).\n",
    "     * can be applied to many classifiers such as ANN, CART etc.\n",
    "\n",
    "**Bagging methods come in many flavours but mostly differ from each other by the way they draw random subsets of the training set:**\n",
    "\n",
    "> When samples are drawn with replacement, then the method is known as **Bagging**.\n",
    "\n",
    ">When random subsets of the dataset are drawn as random subsets of the samples (samples are drawn without replacement),then this algorithm is known as **Pasting**.\n",
    "\n",
    ">When random subsets of the dataset are drawn as random subsets of the features, then the method is known as **Random Subspaces**.\n",
    "\n",
    ">Finally, when base estimators are built on subsets of both samples and features, then the method is known as **Random Patches**.\n",
    "\n",
    "2.  **Boosting:**\n",
    "    * Train weak classifiers.\n",
    "    * Add them to a final strong classifier by weighting (weighted by accuracy).\n",
    "    * Once added, the data are reweighted. In which analysis is performed by following terms-\n",
    "         * Misclassified samples gained weight.\n",
    "         * Correctly classified samples lose weight.\n",
    "         * Algo are forced to learn more from misclassified samples.\n",
    "\n",
    "2.  **Stacking:**\n",
    "    * Also known as stacked generalization.\n",
    "    * combine information from multiple predictive model to generate new model.\n",
    "    * sometimes stacking (also known as 2nd level model) will outperform each of individual model due to its smoothing nature and ability to highlight base model where it performs best and discredit each basemodel where it performs poorly.\n",
    "    * Thats why stacking is very effective when there is different types of base models.\n",
    "    * steps used by stacking:\n",
    "\n",
    "         1. Train the learning algo.\n",
    "         2. Train combiner algo by using the predictions from step 1.\n",
    "        \n",
    "         \n",
    "\n",
    "\n",
    "\n"
   ]
  },
  {
   "cell_type": "markdown",
   "metadata": {
    "colab_type": "text",
    "id": "z1vur_pnOegZ"
   },
   "source": [
    "### **Other Ensemble methods:**  [learn by Google search]\n",
    "\n",
    "*   Bayes optimal classifier\n",
    "*   Bayesian Parameter Averaging\n",
    "*   Baysian Model Combination\n",
    "*   Bucket of  models\n",
    "\n"
   ]
  },
  {
   "cell_type": "markdown",
   "metadata": {
    "colab_type": "text",
    "id": "ldZ5lEzMeHh-"
   },
   "source": [
    "## **Bagging:**"
   ]
  },
  {
   "cell_type": "code",
   "execution_count": 3,
   "metadata": {
    "colab": {},
    "colab_type": "code",
    "id": "l7DPUEiAePKS"
   },
   "outputs": [],
   "source": [
    "import numpy as np\n",
    "import pandas as pd\n",
    "import matplotlib\n",
    "import matplotlib.pyplot as plt\n",
    "%matplotlib inline\n",
    "import seaborn as sns\n",
    "import sklearn\n",
    "sns.set_style('whitegrid')"
   ]
  },
  {
   "cell_type": "code",
   "execution_count": 4,
   "metadata": {
    "colab": {
     "base_uri": "https://localhost:8080/",
     "height": 134
    },
    "colab_type": "code",
    "id": "LiSEPYYpeXxQ",
    "outputId": "4583fe4b-22f3-43c0-e93d-f4b8c4d6f83f"
   },
   "outputs": [
    {
     "name": "stdout",
     "output_type": "stream",
     "text": [
      "1.18.5\n",
      "1.0.5\n",
      "3.2.2\n",
      "0.10.1\n",
      "0.22.2.post1\n",
      "3.6.9 (default, Jul 17 2020, 12:50:27) \n",
      "[GCC 8.4.0]\n"
     ]
    }
   ],
   "source": [
    "print(np.__version__)\n",
    "print(pd.__version__)\n",
    "print(matplotlib.__version__)\n",
    "print(sns.__version__)\n",
    "print(sklearn.__version__)\n",
    "import sys\n",
    "print(sys.version)"
   ]
  },
  {
   "cell_type": "code",
   "execution_count": 5,
   "metadata": {
    "colab": {
     "base_uri": "https://localhost:8080/",
     "height": 195
    },
    "colab_type": "code",
    "id": "UnTBI__9e7MA",
    "outputId": "4f508d9c-ac8c-4239-e559-c724e1013dd1"
   },
   "outputs": [
    {
     "data": {
      "text/html": [
       "<div>\n",
       "<style scoped>\n",
       "    .dataframe tbody tr th:only-of-type {\n",
       "        vertical-align: middle;\n",
       "    }\n",
       "\n",
       "    .dataframe tbody tr th {\n",
       "        vertical-align: top;\n",
       "    }\n",
       "\n",
       "    .dataframe thead th {\n",
       "        text-align: right;\n",
       "    }\n",
       "</style>\n",
       "<table border=\"1\" class=\"dataframe\">\n",
       "  <thead>\n",
       "    <tr style=\"text-align: right;\">\n",
       "      <th></th>\n",
       "      <th>survived</th>\n",
       "      <th>pclass</th>\n",
       "      <th>sex</th>\n",
       "      <th>age</th>\n",
       "      <th>sibsp</th>\n",
       "      <th>parch</th>\n",
       "      <th>fare</th>\n",
       "      <th>embarked</th>\n",
       "      <th>class</th>\n",
       "      <th>who</th>\n",
       "      <th>adult_male</th>\n",
       "      <th>deck</th>\n",
       "      <th>embark_town</th>\n",
       "      <th>alive</th>\n",
       "      <th>alone</th>\n",
       "    </tr>\n",
       "  </thead>\n",
       "  <tbody>\n",
       "    <tr>\n",
       "      <th>0</th>\n",
       "      <td>0</td>\n",
       "      <td>3</td>\n",
       "      <td>male</td>\n",
       "      <td>22.0</td>\n",
       "      <td>1</td>\n",
       "      <td>0</td>\n",
       "      <td>7.2500</td>\n",
       "      <td>S</td>\n",
       "      <td>Third</td>\n",
       "      <td>man</td>\n",
       "      <td>True</td>\n",
       "      <td>NaN</td>\n",
       "      <td>Southampton</td>\n",
       "      <td>no</td>\n",
       "      <td>False</td>\n",
       "    </tr>\n",
       "    <tr>\n",
       "      <th>1</th>\n",
       "      <td>1</td>\n",
       "      <td>1</td>\n",
       "      <td>female</td>\n",
       "      <td>38.0</td>\n",
       "      <td>1</td>\n",
       "      <td>0</td>\n",
       "      <td>71.2833</td>\n",
       "      <td>C</td>\n",
       "      <td>First</td>\n",
       "      <td>woman</td>\n",
       "      <td>False</td>\n",
       "      <td>C</td>\n",
       "      <td>Cherbourg</td>\n",
       "      <td>yes</td>\n",
       "      <td>False</td>\n",
       "    </tr>\n",
       "    <tr>\n",
       "      <th>2</th>\n",
       "      <td>1</td>\n",
       "      <td>3</td>\n",
       "      <td>female</td>\n",
       "      <td>26.0</td>\n",
       "      <td>0</td>\n",
       "      <td>0</td>\n",
       "      <td>7.9250</td>\n",
       "      <td>S</td>\n",
       "      <td>Third</td>\n",
       "      <td>woman</td>\n",
       "      <td>False</td>\n",
       "      <td>NaN</td>\n",
       "      <td>Southampton</td>\n",
       "      <td>yes</td>\n",
       "      <td>True</td>\n",
       "    </tr>\n",
       "    <tr>\n",
       "      <th>3</th>\n",
       "      <td>1</td>\n",
       "      <td>1</td>\n",
       "      <td>female</td>\n",
       "      <td>35.0</td>\n",
       "      <td>1</td>\n",
       "      <td>0</td>\n",
       "      <td>53.1000</td>\n",
       "      <td>S</td>\n",
       "      <td>First</td>\n",
       "      <td>woman</td>\n",
       "      <td>False</td>\n",
       "      <td>C</td>\n",
       "      <td>Southampton</td>\n",
       "      <td>yes</td>\n",
       "      <td>False</td>\n",
       "    </tr>\n",
       "    <tr>\n",
       "      <th>4</th>\n",
       "      <td>0</td>\n",
       "      <td>3</td>\n",
       "      <td>male</td>\n",
       "      <td>35.0</td>\n",
       "      <td>0</td>\n",
       "      <td>0</td>\n",
       "      <td>8.0500</td>\n",
       "      <td>S</td>\n",
       "      <td>Third</td>\n",
       "      <td>man</td>\n",
       "      <td>True</td>\n",
       "      <td>NaN</td>\n",
       "      <td>Southampton</td>\n",
       "      <td>no</td>\n",
       "      <td>True</td>\n",
       "    </tr>\n",
       "  </tbody>\n",
       "</table>\n",
       "</div>"
      ],
      "text/plain": [
       "   survived  pclass     sex   age  ...  deck  embark_town  alive  alone\n",
       "0         0       3    male  22.0  ...   NaN  Southampton     no  False\n",
       "1         1       1  female  38.0  ...     C    Cherbourg    yes  False\n",
       "2         1       3  female  26.0  ...   NaN  Southampton    yes   True\n",
       "3         1       1  female  35.0  ...     C  Southampton    yes  False\n",
       "4         0       3    male  35.0  ...   NaN  Southampton     no   True\n",
       "\n",
       "[5 rows x 15 columns]"
      ]
     },
     "execution_count": 5,
     "metadata": {
      "tags": []
     },
     "output_type": "execute_result"
    }
   ],
   "source": [
    "df = sns.load_dataset('titanic')\n",
    "df.head()"
   ]
  },
  {
   "cell_type": "code",
   "execution_count": 6,
   "metadata": {
    "colab": {
     "base_uri": "https://localhost:8080/",
     "height": 34
    },
    "colab_type": "code",
    "id": "C0aWOcxTfETI",
    "outputId": "83297426-ea8d-4761-ba76-c87bf5125685"
   },
   "outputs": [
    {
     "data": {
      "text/plain": [
       "(891, 15)"
      ]
     },
     "execution_count": 6,
     "metadata": {
      "tags": []
     },
     "output_type": "execute_result"
    }
   ],
   "source": [
    "df.shape"
   ]
  },
  {
   "cell_type": "code",
   "execution_count": 7,
   "metadata": {
    "colab": {
     "base_uri": "https://localhost:8080/",
     "height": 286
    },
    "colab_type": "code",
    "id": "17_LmuoUfGuj",
    "outputId": "b6a203bb-5b3f-4bd8-ed6c-c64aff7fa13e"
   },
   "outputs": [
    {
     "data": {
      "text/plain": [
       "survived         0\n",
       "pclass           0\n",
       "sex              0\n",
       "age            177\n",
       "sibsp            0\n",
       "parch            0\n",
       "fare             0\n",
       "embarked         2\n",
       "class            0\n",
       "who              0\n",
       "adult_male       0\n",
       "deck           688\n",
       "embark_town      2\n",
       "alive            0\n",
       "alone            0\n",
       "dtype: int64"
      ]
     },
     "execution_count": 7,
     "metadata": {
      "tags": []
     },
     "output_type": "execute_result"
    }
   ],
   "source": [
    "df.isnull().sum()"
   ]
  },
  {
   "cell_type": "code",
   "execution_count": 8,
   "metadata": {
    "colab": {
     "base_uri": "https://localhost:8080/",
     "height": 344
    },
    "colab_type": "code",
    "id": "xTv2mM5xfPPs",
    "outputId": "0cfb440b-a397-42e2-ef37-ab84e2102346"
   },
   "outputs": [
    {
     "data": {
      "text/plain": [
       "<matplotlib.axes._subplots.AxesSubplot at 0x7f4d0e01b0b8>"
      ]
     },
     "execution_count": 8,
     "metadata": {
      "tags": []
     },
     "output_type": "execute_result"
    },
    {
     "data": {
      "image/png": "[encoded data removed]",
      "text/plain": [
       "<Figure size 432x288 with 2 Axes>"
      ]
     },
     "metadata": {
      "tags": []
     },
     "output_type": "display_data"
    }
   ],
   "source": [
    "sns.heatmap(df.isnull())"
   ]
  },
  {
   "cell_type": "code",
   "execution_count": 9,
   "metadata": {
    "colab": {},
    "colab_type": "code",
    "id": "bfFJwbtCfTlK"
   },
   "outputs": [],
   "source": [
    "df['age'] = df['age'].fillna(df['age'].mean()) # we remove all the null values of 'age' into mean of 'age'."
   ]
  },
  {
   "cell_type": "code",
   "execution_count": 10,
   "metadata": {
    "colab": {
     "base_uri": "https://localhost:8080/",
     "height": 34
    },
    "colab_type": "code",
    "id": "JgM_3y1fguCm",
    "outputId": "82a39b22-98e1-4740-d9cc-3bf5bd76107d"
   },
   "outputs": [
    {
     "data": {
      "text/plain": [
       "(891, 15)"
      ]
     },
     "execution_count": 10,
     "metadata": {
      "tags": []
     },
     "output_type": "execute_result"
    }
   ],
   "source": [
    "df.shape # very less after removing null values ...not good for practical purpose."
   ]
  },
  {
   "cell_type": "code",
   "execution_count": 11,
   "metadata": {
    "colab": {
     "base_uri": "https://localhost:8080/",
     "height": 34
    },
    "colab_type": "code",
    "id": "InU_kPPjglvV",
    "outputId": "e69623bc-f190-4ff8-d3a0-986c2d80114e"
   },
   "outputs": [
    {
     "data": {
      "text/plain": [
       "(891, 14)"
      ]
     },
     "execution_count": 11,
     "metadata": {
      "tags": []
     },
     "output_type": "execute_result"
    }
   ],
   "source": [
    "df = df.drop(['deck'],axis = 1) # remove 'deck' feature as it contains multiple null values.\n",
    "df.shape"
   ]
  },
  {
   "cell_type": "code",
   "execution_count": 12,
   "metadata": {
    "colab": {
     "base_uri": "https://localhost:8080/",
     "height": 34
    },
    "colab_type": "code",
    "id": "hE6W2T1YhEKr",
    "outputId": "2df467cf-5c09-45cc-dc50-eee1e3701156"
   },
   "outputs": [
    {
     "data": {
      "text/plain": [
       "(889, 14)"
      ]
     },
     "execution_count": 12,
     "metadata": {
      "tags": []
     },
     "output_type": "execute_result"
    }
   ],
   "source": [
    "df.dropna(inplace=True) # will remove remainng 4 null values by droping complete row. size reduced but not affect much in model proecessing.\n",
    "df.shape"
   ]
  },
  {
   "cell_type": "code",
   "execution_count": 13,
   "metadata": {
    "colab": {
     "base_uri": "https://localhost:8080/",
     "height": 269
    },
    "colab_type": "code",
    "id": "6iXxGs_Yfbd3",
    "outputId": "dba0872f-f0c7-4592-bd98-e7eb475085cc"
   },
   "outputs": [
    {
     "data": {
      "text/plain": [
       "survived       0\n",
       "pclass         0\n",
       "sex            0\n",
       "age            0\n",
       "sibsp          0\n",
       "parch          0\n",
       "fare           0\n",
       "embarked       0\n",
       "class          0\n",
       "who            0\n",
       "adult_male     0\n",
       "embark_town    0\n",
       "alive          0\n",
       "alone          0\n",
       "dtype: int64"
      ]
     },
     "execution_count": 13,
     "metadata": {
      "tags": []
     },
     "output_type": "execute_result"
    }
   ],
   "source": [
    "df.isnull().sum()"
   ]
  },
  {
   "cell_type": "code",
   "execution_count": 14,
   "metadata": {
    "colab": {
     "base_uri": "https://localhost:8080/",
     "height": 344
    },
    "colab_type": "code",
    "id": "O2xYqCmLffp-",
    "outputId": "3eed7fef-31b9-4d17-d705-9ba73ddc8ac3"
   },
   "outputs": [
    {
     "data": {
      "text/plain": [
       "<matplotlib.axes._subplots.AxesSubplot at 0x7f4d0a4d2ac8>"
      ]
     },
     "execution_count": 14,
     "metadata": {
      "tags": []
     },
     "output_type": "execute_result"
    },
    {
     "data": {
      "image/png": "[encoded data removed]",
      "text/plain": [
       "<Figure size 432x288 with 2 Axes>"
      ]
     },
     "metadata": {
      "tags": []
     },
     "output_type": "display_data"
    }
   ],
   "source": [
    "sns.heatmap(df.isnull())\n"
   ]
  },
  {
   "cell_type": "code",
   "execution_count": 15,
   "metadata": {
    "colab": {
     "base_uri": "https://localhost:8080/",
     "height": 34
    },
    "colab_type": "code",
    "id": "PSZlkdAcfkL5",
    "outputId": "1e19ef21-f5aa-4bb7-a441-26d663986e51"
   },
   "outputs": [
    {
     "data": {
      "text/plain": [
       "array([3, 1, 2])"
      ]
     },
     "execution_count": 15,
     "metadata": {
      "tags": []
     },
     "output_type": "execute_result"
    }
   ],
   "source": [
    "df['pclass'].unique()"
   ]
  },
  {
   "cell_type": "code",
   "execution_count": 16,
   "metadata": {
    "colab": {
     "base_uri": "https://localhost:8080/",
     "height": 84
    },
    "colab_type": "code",
    "id": "Y46tDNAHgFY_",
    "outputId": "bd44947d-775b-49aa-8d9f-51476a21787b"
   },
   "outputs": [
    {
     "data": {
      "text/plain": [
       "3    491\n",
       "1    214\n",
       "2    184\n",
       "Name: pclass, dtype: int64"
      ]
     },
     "execution_count": 16,
     "metadata": {
      "tags": []
     },
     "output_type": "execute_result"
    }
   ],
   "source": [
    "df['pclass'].value_counts()"
   ]
  },
  {
   "cell_type": "code",
   "execution_count": 17,
   "metadata": {
    "colab": {
     "base_uri": "https://localhost:8080/",
     "height": 34
    },
    "colab_type": "code",
    "id": "KqaqxtDXgKs8",
    "outputId": "87a3b4d3-d17c-4820-fd58-ca0cb47218bd"
   },
   "outputs": [
    {
     "data": {
      "text/plain": [
       "array(['male', 'female'], dtype=object)"
      ]
     },
     "execution_count": 17,
     "metadata": {
      "tags": []
     },
     "output_type": "execute_result"
    }
   ],
   "source": [
    "df['sex'].unique()"
   ]
  },
  {
   "cell_type": "code",
   "execution_count": 18,
   "metadata": {
    "colab": {
     "base_uri": "https://localhost:8080/",
     "height": 67
    },
    "colab_type": "code",
    "id": "JOoNJlx8gWNq",
    "outputId": "eb043a98-bc67-4139-fb67-38cdae989e0c"
   },
   "outputs": [
    {
     "data": {
      "text/plain": [
       "male      577\n",
       "female    312\n",
       "Name: sex, dtype: int64"
      ]
     },
     "execution_count": 18,
     "metadata": {
      "tags": []
     },
     "output_type": "execute_result"
    }
   ],
   "source": [
    "df['sex'].value_counts()"
   ]
  },
  {
   "cell_type": "code",
   "execution_count": 19,
   "metadata": {
    "colab": {
     "base_uri": "https://localhost:8080/",
     "height": 282
    },
    "colab_type": "code",
    "id": "lkitGUZxgZwn",
    "outputId": "c179c7f9-5916-492e-ee1d-6d617bba1e80"
   },
   "outputs": [
    {
     "data": {
      "text/plain": [
       "<matplotlib.axes._subplots.AxesSubplot at 0x7f4d09f02208>"
      ]
     },
     "execution_count": 19,
     "metadata": {
      "tags": []
     },
     "output_type": "execute_result"
    },
    {
     "data": {
      "image/png": "[encoded data removed]",
      "text/plain": [
       "<Figure size 432x288 with 1 Axes>"
      ]
     },
     "metadata": {
      "tags": []
     },
     "output_type": "display_data"
    }
   ],
   "source": [
    "df['age'].hist(bins = 20)"
   ]
  },
  {
   "cell_type": "markdown",
   "metadata": {
    "colab_type": "text",
    "id": "M36KbOs5cQLv"
   },
   "source": [
    "### **Data Preprocessing:**"
   ]
  },
  {
   "cell_type": "code",
   "execution_count": 20,
   "metadata": {
    "colab": {},
    "colab_type": "code",
    "id": "KWTDtOUHhlVC"
   },
   "outputs": [],
   "source": [
    "x = df[['pclass','sex','age']].copy()"
   ]
  },
  {
   "cell_type": "code",
   "execution_count": 21,
   "metadata": {
    "colab": {
     "base_uri": "https://localhost:8080/",
     "height": 195
    },
    "colab_type": "code",
    "id": "A5WmhlE-ctj8",
    "outputId": "66392d69-994b-4ac5-857d-25567603341f"
   },
   "outputs": [
    {
     "data": {
      "text/html": [
       "<div>\n",
       "<style scoped>\n",
       "    .dataframe tbody tr th:only-of-type {\n",
       "        vertical-align: middle;\n",
       "    }\n",
       "\n",
       "    .dataframe tbody tr th {\n",
       "        vertical-align: top;\n",
       "    }\n",
       "\n",
       "    .dataframe thead th {\n",
       "        text-align: right;\n",
       "    }\n",
       "</style>\n",
       "<table border=\"1\" class=\"dataframe\">\n",
       "  <thead>\n",
       "    <tr style=\"text-align: right;\">\n",
       "      <th></th>\n",
       "      <th>pclass</th>\n",
       "      <th>sex</th>\n",
       "      <th>age</th>\n",
       "    </tr>\n",
       "  </thead>\n",
       "  <tbody>\n",
       "    <tr>\n",
       "      <th>0</th>\n",
       "      <td>3</td>\n",
       "      <td>male</td>\n",
       "      <td>22.0</td>\n",
       "    </tr>\n",
       "    <tr>\n",
       "      <th>1</th>\n",
       "      <td>1</td>\n",
       "      <td>female</td>\n",
       "      <td>38.0</td>\n",
       "    </tr>\n",
       "    <tr>\n",
       "      <th>2</th>\n",
       "      <td>3</td>\n",
       "      <td>female</td>\n",
       "      <td>26.0</td>\n",
       "    </tr>\n",
       "    <tr>\n",
       "      <th>3</th>\n",
       "      <td>1</td>\n",
       "      <td>female</td>\n",
       "      <td>35.0</td>\n",
       "    </tr>\n",
       "    <tr>\n",
       "      <th>4</th>\n",
       "      <td>3</td>\n",
       "      <td>male</td>\n",
       "      <td>35.0</td>\n",
       "    </tr>\n",
       "  </tbody>\n",
       "</table>\n",
       "</div>"
      ],
      "text/plain": [
       "   pclass     sex   age\n",
       "0       3    male  22.0\n",
       "1       1  female  38.0\n",
       "2       3  female  26.0\n",
       "3       1  female  35.0\n",
       "4       3    male  35.0"
      ]
     },
     "execution_count": 21,
     "metadata": {
      "tags": []
     },
     "output_type": "execute_result"
    }
   ],
   "source": [
    "x.head()"
   ]
  },
  {
   "cell_type": "code",
   "execution_count": 22,
   "metadata": {
    "colab": {},
    "colab_type": "code",
    "id": "NiNCJPNHcvGz"
   },
   "outputs": [],
   "source": [
    "from sklearn.preprocessing import LabelEncoder\n",
    "\n",
    "le = LabelEncoder()"
   ]
  },
  {
   "cell_type": "code",
   "execution_count": 23,
   "metadata": {
    "colab": {
     "base_uri": "https://localhost:8080/",
     "height": 195
    },
    "colab_type": "code",
    "id": "e4elfVmkdFvO",
    "outputId": "59daa905-efd7-4825-83e8-4dcca72702ed"
   },
   "outputs": [
    {
     "data": {
      "text/html": [
       "<div>\n",
       "<style scoped>\n",
       "    .dataframe tbody tr th:only-of-type {\n",
       "        vertical-align: middle;\n",
       "    }\n",
       "\n",
       "    .dataframe tbody tr th {\n",
       "        vertical-align: top;\n",
       "    }\n",
       "\n",
       "    .dataframe thead th {\n",
       "        text-align: right;\n",
       "    }\n",
       "</style>\n",
       "<table border=\"1\" class=\"dataframe\">\n",
       "  <thead>\n",
       "    <tr style=\"text-align: right;\">\n",
       "      <th></th>\n",
       "      <th>pclass</th>\n",
       "      <th>sex</th>\n",
       "      <th>age</th>\n",
       "    </tr>\n",
       "  </thead>\n",
       "  <tbody>\n",
       "    <tr>\n",
       "      <th>0</th>\n",
       "      <td>3</td>\n",
       "      <td>1</td>\n",
       "      <td>22.0</td>\n",
       "    </tr>\n",
       "    <tr>\n",
       "      <th>1</th>\n",
       "      <td>1</td>\n",
       "      <td>0</td>\n",
       "      <td>38.0</td>\n",
       "    </tr>\n",
       "    <tr>\n",
       "      <th>2</th>\n",
       "      <td>3</td>\n",
       "      <td>0</td>\n",
       "      <td>26.0</td>\n",
       "    </tr>\n",
       "    <tr>\n",
       "      <th>3</th>\n",
       "      <td>1</td>\n",
       "      <td>0</td>\n",
       "      <td>35.0</td>\n",
       "    </tr>\n",
       "    <tr>\n",
       "      <th>4</th>\n",
       "      <td>3</td>\n",
       "      <td>1</td>\n",
       "      <td>35.0</td>\n",
       "    </tr>\n",
       "  </tbody>\n",
       "</table>\n",
       "</div>"
      ],
      "text/plain": [
       "   pclass  sex   age\n",
       "0       3    1  22.0\n",
       "1       1    0  38.0\n",
       "2       3    0  26.0\n",
       "3       1    0  35.0\n",
       "4       3    1  35.0"
      ]
     },
     "execution_count": 23,
     "metadata": {
      "tags": []
     },
     "output_type": "execute_result"
    }
   ],
   "source": [
    "x['sex'] = le.fit_transform(x['sex'])\n",
    "x.head()"
   ]
  },
  {
   "cell_type": "code",
   "execution_count": 24,
   "metadata": {
    "colab": {
     "base_uri": "https://localhost:8080/",
     "height": 34
    },
    "colab_type": "code",
    "id": "PcyVvmR-dTad",
    "outputId": "552358cc-f419-448a-dd0e-f072fd44109d"
   },
   "outputs": [
    {
     "data": {
      "text/plain": [
       "(889, 3)"
      ]
     },
     "execution_count": 24,
     "metadata": {
      "tags": []
     },
     "output_type": "execute_result"
    }
   ],
   "source": [
    "x.shape"
   ]
  },
  {
   "cell_type": "code",
   "execution_count": 25,
   "metadata": {
    "colab": {
     "base_uri": "https://localhost:8080/",
     "height": 284
    },
    "colab_type": "code",
    "id": "jXsqCB1fdjji",
    "outputId": "18ac6c2e-f9bf-457c-f37c-1a3f1c5eb9ec"
   },
   "outputs": [
    {
     "data": {
      "text/html": [
       "<div>\n",
       "<style scoped>\n",
       "    .dataframe tbody tr th:only-of-type {\n",
       "        vertical-align: middle;\n",
       "    }\n",
       "\n",
       "    .dataframe tbody tr th {\n",
       "        vertical-align: top;\n",
       "    }\n",
       "\n",
       "    .dataframe thead th {\n",
       "        text-align: right;\n",
       "    }\n",
       "</style>\n",
       "<table border=\"1\" class=\"dataframe\">\n",
       "  <thead>\n",
       "    <tr style=\"text-align: right;\">\n",
       "      <th></th>\n",
       "      <th>pclass</th>\n",
       "      <th>sex</th>\n",
       "      <th>age</th>\n",
       "    </tr>\n",
       "  </thead>\n",
       "  <tbody>\n",
       "    <tr>\n",
       "      <th>count</th>\n",
       "      <td>889.000000</td>\n",
       "      <td>889.000000</td>\n",
       "      <td>889.000000</td>\n",
       "    </tr>\n",
       "    <tr>\n",
       "      <th>mean</th>\n",
       "      <td>2.311586</td>\n",
       "      <td>0.649044</td>\n",
       "      <td>29.653446</td>\n",
       "    </tr>\n",
       "    <tr>\n",
       "      <th>std</th>\n",
       "      <td>0.834700</td>\n",
       "      <td>0.477538</td>\n",
       "      <td>12.968366</td>\n",
       "    </tr>\n",
       "    <tr>\n",
       "      <th>min</th>\n",
       "      <td>1.000000</td>\n",
       "      <td>0.000000</td>\n",
       "      <td>0.420000</td>\n",
       "    </tr>\n",
       "    <tr>\n",
       "      <th>25%</th>\n",
       "      <td>2.000000</td>\n",
       "      <td>0.000000</td>\n",
       "      <td>22.000000</td>\n",
       "    </tr>\n",
       "    <tr>\n",
       "      <th>50%</th>\n",
       "      <td>3.000000</td>\n",
       "      <td>1.000000</td>\n",
       "      <td>29.699118</td>\n",
       "    </tr>\n",
       "    <tr>\n",
       "      <th>75%</th>\n",
       "      <td>3.000000</td>\n",
       "      <td>1.000000</td>\n",
       "      <td>35.000000</td>\n",
       "    </tr>\n",
       "    <tr>\n",
       "      <th>max</th>\n",
       "      <td>3.000000</td>\n",
       "      <td>1.000000</td>\n",
       "      <td>80.000000</td>\n",
       "    </tr>\n",
       "  </tbody>\n",
       "</table>\n",
       "</div>"
      ],
      "text/plain": [
       "           pclass         sex         age\n",
       "count  889.000000  889.000000  889.000000\n",
       "mean     2.311586    0.649044   29.653446\n",
       "std      0.834700    0.477538   12.968366\n",
       "min      1.000000    0.000000    0.420000\n",
       "25%      2.000000    0.000000   22.000000\n",
       "50%      3.000000    1.000000   29.699118\n",
       "75%      3.000000    1.000000   35.000000\n",
       "max      3.000000    1.000000   80.000000"
      ]
     },
     "execution_count": 25,
     "metadata": {
      "tags": []
     },
     "output_type": "execute_result"
    }
   ],
   "source": [
    "x.describe()"
   ]
  },
  {
   "cell_type": "code",
   "execution_count": 26,
   "metadata": {
    "colab": {
     "base_uri": "https://localhost:8080/",
     "height": 185
    },
    "colab_type": "code",
    "id": "qHGoZ0OMdlLG",
    "outputId": "b98464d3-9330-4263-ed2c-480a7b770423"
   },
   "outputs": [
    {
     "name": "stdout",
     "output_type": "stream",
     "text": [
      "<class 'pandas.core.frame.DataFrame'>\n",
      "Int64Index: 889 entries, 0 to 890\n",
      "Data columns (total 3 columns):\n",
      " #   Column  Non-Null Count  Dtype  \n",
      "---  ------  --------------  -----  \n",
      " 0   pclass  889 non-null    int64  \n",
      " 1   sex     889 non-null    int64  \n",
      " 2   age     889 non-null    float64\n",
      "dtypes: float64(1), int64(2)\n",
      "memory usage: 27.8 KB\n"
     ]
    }
   ],
   "source": [
    "x.info()"
   ]
  },
  {
   "cell_type": "code",
   "execution_count": 27,
   "metadata": {
    "colab": {
     "base_uri": "https://localhost:8080/",
     "height": 118
    },
    "colab_type": "code",
    "id": "ew9YfiyBh3k9",
    "outputId": "a7057982-bd1d-4c02-c4a5-76efd401e3af"
   },
   "outputs": [
    {
     "data": {
      "text/plain": [
       "0    0\n",
       "1    1\n",
       "2    1\n",
       "3    1\n",
       "4    0\n",
       "Name: survived, dtype: int64"
      ]
     },
     "execution_count": 27,
     "metadata": {
      "tags": []
     },
     "output_type": "execute_result"
    }
   ],
   "source": [
    "y = df['survived']\n",
    "y.head()"
   ]
  },
  {
   "cell_type": "code",
   "execution_count": 28,
   "metadata": {
    "colab": {
     "base_uri": "https://localhost:8080/",
     "height": 67
    },
    "colab_type": "code",
    "id": "Ttl6ovwSiBhz",
    "outputId": "942fa6c4-fa6e-4d76-c523-a964401c3910"
   },
   "outputs": [
    {
     "data": {
      "text/plain": [
       "0    549\n",
       "1    340\n",
       "Name: survived, dtype: int64"
      ]
     },
     "execution_count": 28,
     "metadata": {
      "tags": []
     },
     "output_type": "execute_result"
    }
   ],
   "source": [
    "y.value_counts()"
   ]
  },
  {
   "cell_type": "markdown",
   "metadata": {
    "colab_type": "text",
    "id": "Z0LjVArpiTuY"
   },
   "source": [
    "### **Model Fitting:[Bagging with Decision Tree]**"
   ]
  },
  {
   "cell_type": "code",
   "execution_count": 29,
   "metadata": {
    "colab": {},
    "colab_type": "code",
    "id": "K71n5xRRiHez"
   },
   "outputs": [],
   "source": [
    "from sklearn.tree import DecisionTreeClassifier\n",
    "from sklearn.preprocessing import LabelBinarizer\n",
    "from sklearn.ensemble import BaggingClassifier\n",
    "from sklearn.model_selection import train_test_split,cross_val_predict,cross_val_score\n",
    "from sklearn.metrics import accuracy_score,confusion_matrix,classification_report,roc_auc_score"
   ]
  },
  {
   "cell_type": "code",
   "execution_count": 31,
   "metadata": {
    "colab": {},
    "colab_type": "code",
    "id": "vJ4iMCoZirG9"
   },
   "outputs": [],
   "source": [
    "x_train,x_test,y_train,y_test = train_test_split(x,y,test_size = 0.3,random_state=42)"
   ]
  },
  {
   "cell_type": "code",
   "execution_count": 32,
   "metadata": {
    "colab": {},
    "colab_type": "code",
    "id": "_d6PA9JUi85b"
   },
   "outputs": [],
   "source": [
    "def print_score(model,x_train,y_train,x_test,y_test,part):\n",
    "  lb = LabelBinarizer()\n",
    "  lb.fit(y_train)\n",
    "  if part == 'train':\n",
    "    y_pred = model.predict(x_train)\n",
    "    print(\"Training Performance:\\n\\n\")\n",
    "    print(\"Accuracy:{0:.4f}\\n\".format(accuracy_score(y_train,y_pred)))\n",
    "    print(\"Clasification Report:\\n{}\\n\".format(classification_report(y_train,y_pred)))\n",
    "    print(\"Confusion Matrix:\\n{}\\n\".format(confusion_matrix(y_train,y_pred)))\n",
    "    print(\"ROC_AUC_Score:{0:.4f}\\n\".format(roc_auc_score(y_train,y_pred)))\n",
    "    res = cross_val_score(model,x_train,y_train,cv = 10,scoring='accuracy')\n",
    "    print(\"Average accuracy:\\t{0:.4f}\".format(np.mean(res)))\n",
    "    print(\"Average std:\\t\\t{0:.4f}\".format(np.std(res)))\n",
    "  elif part == 'test':\n",
    "    y_pred = model.predict(x_test)\n",
    "    print(\"Testing Performance:\\n\\n\")\n",
    "    print(\"Accuracy:{0:.4f}\\n\".format(accuracy_score(y_test,y_pred)))\n",
    "    print(\"Clasification Report:\\n{}\\n\".format(classification_report(y_test,y_pred)))\n",
    "    print(\"Confusion Matrix:\\n{}\\n\".format(confusion_matrix(y_test,y_pred)))\n",
    "    print(\"ROC_AUC_Score:{0:.4f}\\n\".format(roc_auc_score(y_test,y_pred)))\n",
    "    "
   ]
  },
  {
   "cell_type": "code",
   "execution_count": 33,
   "metadata": {
    "colab": {},
    "colab_type": "code",
    "id": "rq5sh3eyo2wS"
   },
   "outputs": [],
   "source": [
    "# Decision TRee Classifier\n",
    "\n",
    "clfTree = DecisionTreeClassifier()"
   ]
  },
  {
   "cell_type": "code",
   "execution_count": 34,
   "metadata": {
    "colab": {
     "base_uri": "https://localhost:8080/",
     "height": 118
    },
    "colab_type": "code",
    "id": "I6P0-1BLpeIG",
    "outputId": "cd8a9250-2cca-4fa1-c818-4c64efe182ee"
   },
   "outputs": [
    {
     "data": {
      "text/plain": [
       "DecisionTreeClassifier(ccp_alpha=0.0, class_weight=None, criterion='gini',\n",
       "                       max_depth=None, max_features=None, max_leaf_nodes=None,\n",
       "                       min_impurity_decrease=0.0, min_impurity_split=None,\n",
       "                       min_samples_leaf=1, min_samples_split=2,\n",
       "                       min_weight_fraction_leaf=0.0, presort='deprecated',\n",
       "                       random_state=None, splitter='best')"
      ]
     },
     "execution_count": 34,
     "metadata": {
      "tags": []
     },
     "output_type": "execute_result"
    }
   ],
   "source": [
    "clfTree.fit(x_train,y_train)"
   ]
  },
  {
   "cell_type": "code",
   "execution_count": 35,
   "metadata": {
    "colab": {
     "base_uri": "https://localhost:8080/",
     "height": 840
    },
    "colab_type": "code",
    "id": "nsBizmC4pjJ7",
    "outputId": "3d2c2a8b-27dd-4b2b-dc9c-8b46a8552e4d"
   },
   "outputs": [
    {
     "name": "stdout",
     "output_type": "stream",
     "text": [
      "Training Performance:\n",
      "\n",
      "\n",
      "Accuracy:0.8810\n",
      "\n",
      "Clasification Report:\n",
      "              precision    recall  f1-score   support\n",
      "\n",
      "           0       0.86      0.96      0.91       382\n",
      "           1       0.92      0.76      0.83       240\n",
      "\n",
      "    accuracy                           0.88       622\n",
      "   macro avg       0.89      0.86      0.87       622\n",
      "weighted avg       0.88      0.88      0.88       622\n",
      "\n",
      "\n",
      "Confusion Matrix:\n",
      "[[365  17]\n",
      " [ 57 183]]\n",
      "\n",
      "ROC_AUC_Score:0.8590\n",
      "\n",
      "Average accuracy:\t0.8022\n",
      "Average std:\t\t0.0293\n",
      "\n",
      "***************************************************************\n",
      "\n",
      "Testing Performance:\n",
      "\n",
      "\n",
      "Accuracy:0.8165\n",
      "\n",
      "Clasification Report:\n",
      "              precision    recall  f1-score   support\n",
      "\n",
      "           0       0.82      0.90      0.86       167\n",
      "           1       0.80      0.68      0.74       100\n",
      "\n",
      "    accuracy                           0.82       267\n",
      "   macro avg       0.81      0.79      0.80       267\n",
      "weighted avg       0.82      0.82      0.81       267\n",
      "\n",
      "\n",
      "Confusion Matrix:\n",
      "[[150  17]\n",
      " [ 32  68]]\n",
      "\n",
      "ROC_AUC_Score:0.7891\n",
      "\n"
     ]
    }
   ],
   "source": [
    "print_score(clfTree,x_train,y_train,x_test,y_test,part = 'train')\n",
    "print(\"\\n***************************************************************\\n\")\n",
    "print_score(clfTree,x_train,y_train,x_test,y_test,part = 'test')"
   ]
  },
  {
   "cell_type": "code",
   "execution_count": 36,
   "metadata": {
    "colab": {},
    "colab_type": "code",
    "id": "0LaqKaAspzCV"
   },
   "outputs": [],
   "source": [
    "# Bagging (oob_score == False) Classifier"
   ]
  },
  {
   "cell_type": "markdown",
   "metadata": {
    "colab_type": "text",
    "id": "1pa9jt-Rtp4l"
   },
   "source": [
    "**Out-of-bag (OOB) error**, also called out-of-bag estimate, is a method of measuring the prediction error of random forests, boosted decision trees, and other machine learning models utilizing bootstrap aggregating (bagging) to sub-sample data samples used for training. OOB is the mean prediction error on each training sample xᵢ, using only the trees that did not have xᵢ in their bootstrap sample.\n",
    "\n",
    "Subsampling allows one to define an out-of-bag estimate of the prediction performance improvement by evaluating predictions on those observations which were not used in the building of the next base learner.\n",
    "\n"
   ]
  },
  {
   "cell_type": "code",
   "execution_count": 37,
   "metadata": {
    "colab": {},
    "colab_type": "code",
    "id": "k3w7Ym92p-mC"
   },
   "outputs": [],
   "source": [
    "clfbag = BaggingClassifier(base_estimator=clfTree,n_estimators=1000,bootstrap=True,n_jobs=-1,random_state=42)"
   ]
  },
  {
   "cell_type": "code",
   "execution_count": 38,
   "metadata": {
    "colab": {
     "base_uri": "https://localhost:8080/",
     "height": 319
    },
    "colab_type": "code",
    "id": "9ZBrQAoguKBR",
    "outputId": "92cdb1d5-31f4-4582-b7a9-20e2d4b10418"
   },
   "outputs": [
    {
     "data": {
      "text/plain": [
       "BaggingClassifier(base_estimator=DecisionTreeClassifier(ccp_alpha=0.0,\n",
       "                                                        class_weight=None,\n",
       "                                                        criterion='gini',\n",
       "                                                        max_depth=None,\n",
       "                                                        max_features=None,\n",
       "                                                        max_leaf_nodes=None,\n",
       "                                                        min_impurity_decrease=0.0,\n",
       "                                                        min_impurity_split=None,\n",
       "                                                        min_samples_leaf=1,\n",
       "                                                        min_samples_split=2,\n",
       "                                                        min_weight_fraction_leaf=0.0,\n",
       "                                                        presort='deprecated',\n",
       "                                                        random_state=None,\n",
       "                                                        splitter='best'),\n",
       "                  bootstrap=True, bootstrap_features=False, max_features=1.0,\n",
       "                  max_samples=1.0, n_estimators=1000, n_jobs=-1,\n",
       "                  oob_score=False, random_state=42, verbose=0,\n",
       "                  warm_start=False)"
      ]
     },
     "execution_count": 38,
     "metadata": {
      "tags": []
     },
     "output_type": "execute_result"
    }
   ],
   "source": [
    "clfbag.fit(x_train,y_train)"
   ]
  },
  {
   "cell_type": "code",
   "execution_count": 39,
   "metadata": {
    "colab": {
     "base_uri": "https://localhost:8080/",
     "height": 840
    },
    "colab_type": "code",
    "id": "LPzV47yjuTpx",
    "outputId": "05971401-9d86-47c8-8b1a-60e430716c72"
   },
   "outputs": [
    {
     "name": "stdout",
     "output_type": "stream",
     "text": [
      "Training Performance:\n",
      "\n",
      "\n",
      "Accuracy:0.8810\n",
      "\n",
      "Clasification Report:\n",
      "              precision    recall  f1-score   support\n",
      "\n",
      "           0       0.89      0.92      0.90       382\n",
      "           1       0.87      0.82      0.84       240\n",
      "\n",
      "    accuracy                           0.88       622\n",
      "   macro avg       0.88      0.87      0.87       622\n",
      "weighted avg       0.88      0.88      0.88       622\n",
      "\n",
      "\n",
      "Confusion Matrix:\n",
      "[[352  30]\n",
      " [ 44 196]]\n",
      "\n",
      "ROC_AUC_Score:0.8691\n",
      "\n",
      "Average accuracy:\t0.8006\n",
      "Average std:\t\t0.0333\n",
      "\n",
      "*****************************************************************\n",
      "\n",
      "Testing Performance:\n",
      "\n",
      "\n",
      "Accuracy:0.7978\n",
      "\n",
      "Clasification Report:\n",
      "              precision    recall  f1-score   support\n",
      "\n",
      "           0       0.83      0.86      0.84       167\n",
      "           1       0.74      0.70      0.72       100\n",
      "\n",
      "    accuracy                           0.80       267\n",
      "   macro avg       0.79      0.78      0.78       267\n",
      "weighted avg       0.80      0.80      0.80       267\n",
      "\n",
      "\n",
      "Confusion Matrix:\n",
      "[[143  24]\n",
      " [ 30  70]]\n",
      "\n",
      "ROC_AUC_Score:0.7781\n",
      "\n"
     ]
    }
   ],
   "source": [
    "print_score(clfbag,x_train,y_train,x_test,y_test,part = 'train')\n",
    "print(\"\\n*****************************************************************\\n\")\n",
    "print_score(clfbag,x_train,y_train,x_test,y_test,part = 'test')"
   ]
  },
  {
   "cell_type": "code",
   "execution_count": 40,
   "metadata": {
    "colab": {},
    "colab_type": "code",
    "id": "IxA-81ZwuqUx"
   },
   "outputs": [],
   "source": [
    "# Bagging (oob_score == True)\n",
    "# gives generalization accuracy.\n",
    "\n",
    "clfbag2 = BaggingClassifier(base_estimator=clfTree,n_estimators=1000,oob_score = True,bootstrap=True,n_jobs=-1,random_state=42)"
   ]
  },
  {
   "cell_type": "code",
   "execution_count": 41,
   "metadata": {
    "colab": {
     "base_uri": "https://localhost:8080/",
     "height": 302
    },
    "colab_type": "code",
    "id": "gnwqlw2SwV5B",
    "outputId": "8d8e7ebc-c9c5-458a-fa83-c23578e4fd93"
   },
   "outputs": [
    {
     "data": {
      "text/plain": [
       "BaggingClassifier(base_estimator=DecisionTreeClassifier(ccp_alpha=0.0,\n",
       "                                                        class_weight=None,\n",
       "                                                        criterion='gini',\n",
       "                                                        max_depth=None,\n",
       "                                                        max_features=None,\n",
       "                                                        max_leaf_nodes=None,\n",
       "                                                        min_impurity_decrease=0.0,\n",
       "                                                        min_impurity_split=None,\n",
       "                                                        min_samples_leaf=1,\n",
       "                                                        min_samples_split=2,\n",
       "                                                        min_weight_fraction_leaf=0.0,\n",
       "                                                        presort='deprecated',\n",
       "                                                        random_state=None,\n",
       "                                                        splitter='best'),\n",
       "                  bootstrap=True, bootstrap_features=False, max_features=1.0,\n",
       "                  max_samples=1.0, n_estimators=1000, n_jobs=-1, oob_score=True,\n",
       "                  random_state=42, verbose=0, warm_start=False)"
      ]
     },
     "execution_count": 41,
     "metadata": {
      "tags": []
     },
     "output_type": "execute_result"
    }
   ],
   "source": [
    "clfbag2.fit(x_train,y_train)"
   ]
  },
  {
   "cell_type": "code",
   "execution_count": 42,
   "metadata": {
    "colab": {
     "base_uri": "https://localhost:8080/",
     "height": 34
    },
    "colab_type": "code",
    "id": "i_N5il9UwZVH",
    "outputId": "65765259-69cc-4f83-fa07-9b8189c38e7e"
   },
   "outputs": [
    {
     "data": {
      "text/plain": [
       "0.7958199356913184"
      ]
     },
     "execution_count": 42,
     "metadata": {
      "tags": []
     },
     "output_type": "execute_result"
    }
   ],
   "source": [
    "clfbag2.oob_score_"
   ]
  },
  {
   "cell_type": "code",
   "execution_count": 43,
   "metadata": {
    "colab": {
     "base_uri": "https://localhost:8080/",
     "height": 840
    },
    "colab_type": "code",
    "id": "J32lJvuLweyS",
    "outputId": "06f3726a-737e-4cbd-9ede-fe7480550d63"
   },
   "outputs": [
    {
     "name": "stdout",
     "output_type": "stream",
     "text": [
      "Training Performance:\n",
      "\n",
      "\n",
      "Accuracy:0.8810\n",
      "\n",
      "Clasification Report:\n",
      "              precision    recall  f1-score   support\n",
      "\n",
      "           0       0.89      0.92      0.90       382\n",
      "           1       0.87      0.82      0.84       240\n",
      "\n",
      "    accuracy                           0.88       622\n",
      "   macro avg       0.88      0.87      0.87       622\n",
      "weighted avg       0.88      0.88      0.88       622\n",
      "\n",
      "\n",
      "Confusion Matrix:\n",
      "[[352  30]\n",
      " [ 44 196]]\n",
      "\n",
      "ROC_AUC_Score:0.8691\n",
      "\n",
      "Average accuracy:\t0.8006\n",
      "Average std:\t\t0.0333\n",
      "\n",
      "*****************************************************************\n",
      "\n",
      "Testing Performance:\n",
      "\n",
      "\n",
      "Accuracy:0.7978\n",
      "\n",
      "Clasification Report:\n",
      "              precision    recall  f1-score   support\n",
      "\n",
      "           0       0.83      0.86      0.84       167\n",
      "           1       0.74      0.70      0.72       100\n",
      "\n",
      "    accuracy                           0.80       267\n",
      "   macro avg       0.79      0.78      0.78       267\n",
      "weighted avg       0.80      0.80      0.80       267\n",
      "\n",
      "\n",
      "Confusion Matrix:\n",
      "[[143  24]\n",
      " [ 30  70]]\n",
      "\n",
      "ROC_AUC_Score:0.7781\n",
      "\n"
     ]
    }
   ],
   "source": [
    "print_score(clfbag2,x_train,y_train,x_test,y_test,part = 'train')\n",
    "print(\"\\n*****************************************************************\\n\")\n",
    "print_score(clfbag2,x_train,y_train,x_test,y_test,part = 'test')"
   ]
  },
  {
   "cell_type": "markdown",
   "metadata": {
    "colab_type": "text",
    "id": "UUuqJingy6DM"
   },
   "source": [
    "### **Model Fitting:[Random Forest]**\n",
    "\n",
    "* Ensemble of decision trees.\n",
    "* trained via bagging method (repeated sampling with replacements).\n",
    "   *   Bagging : sample from samples.\n",
    "   * RF : sample from predictors. m = squrt(p) for classification and m = p/3 for regression.\n",
    "   *utilize uncorrelated trees.\n",
    "* RF : samples both observations and features of training data.\n",
    "* Bagging: samples only observations at random. Decision tree select best feature when splitting a node. \n",
    "\n",
    "\n"
   ]
  },
  {
   "cell_type": "code",
   "execution_count": 44,
   "metadata": {
    "colab": {},
    "colab_type": "code",
    "id": "8E85s-nIwkjC"
   },
   "outputs": [],
   "source": [
    "from sklearn.ensemble import RandomForestClassifier"
   ]
  },
  {
   "cell_type": "code",
   "execution_count": 45,
   "metadata": {
    "colab": {
     "base_uri": "https://localhost:8080/",
     "height": 402
    },
    "colab_type": "code",
    "id": "SCz6GHQI17a8",
    "outputId": "01ecfe29-60f0-43f6-bae8-a23ac2a8fc15"
   },
   "outputs": [
    {
     "data": {
      "text/html": [
       "<div>\n",
       "<style scoped>\n",
       "    .dataframe tbody tr th:only-of-type {\n",
       "        vertical-align: middle;\n",
       "    }\n",
       "\n",
       "    .dataframe tbody tr th {\n",
       "        vertical-align: top;\n",
       "    }\n",
       "\n",
       "    .dataframe thead th {\n",
       "        text-align: right;\n",
       "    }\n",
       "</style>\n",
       "<table border=\"1\" class=\"dataframe\">\n",
       "  <thead>\n",
       "    <tr style=\"text-align: right;\">\n",
       "      <th></th>\n",
       "      <th>pclass</th>\n",
       "      <th>sex</th>\n",
       "      <th>age</th>\n",
       "    </tr>\n",
       "  </thead>\n",
       "  <tbody>\n",
       "    <tr>\n",
       "      <th>0</th>\n",
       "      <td>3</td>\n",
       "      <td>1</td>\n",
       "      <td>22.000000</td>\n",
       "    </tr>\n",
       "    <tr>\n",
       "      <th>1</th>\n",
       "      <td>1</td>\n",
       "      <td>0</td>\n",
       "      <td>38.000000</td>\n",
       "    </tr>\n",
       "    <tr>\n",
       "      <th>2</th>\n",
       "      <td>3</td>\n",
       "      <td>0</td>\n",
       "      <td>26.000000</td>\n",
       "    </tr>\n",
       "    <tr>\n",
       "      <th>3</th>\n",
       "      <td>1</td>\n",
       "      <td>0</td>\n",
       "      <td>35.000000</td>\n",
       "    </tr>\n",
       "    <tr>\n",
       "      <th>4</th>\n",
       "      <td>3</td>\n",
       "      <td>1</td>\n",
       "      <td>35.000000</td>\n",
       "    </tr>\n",
       "    <tr>\n",
       "      <th>...</th>\n",
       "      <td>...</td>\n",
       "      <td>...</td>\n",
       "      <td>...</td>\n",
       "    </tr>\n",
       "    <tr>\n",
       "      <th>886</th>\n",
       "      <td>2</td>\n",
       "      <td>1</td>\n",
       "      <td>27.000000</td>\n",
       "    </tr>\n",
       "    <tr>\n",
       "      <th>887</th>\n",
       "      <td>1</td>\n",
       "      <td>0</td>\n",
       "      <td>19.000000</td>\n",
       "    </tr>\n",
       "    <tr>\n",
       "      <th>888</th>\n",
       "      <td>3</td>\n",
       "      <td>0</td>\n",
       "      <td>29.699118</td>\n",
       "    </tr>\n",
       "    <tr>\n",
       "      <th>889</th>\n",
       "      <td>1</td>\n",
       "      <td>1</td>\n",
       "      <td>26.000000</td>\n",
       "    </tr>\n",
       "    <tr>\n",
       "      <th>890</th>\n",
       "      <td>3</td>\n",
       "      <td>1</td>\n",
       "      <td>32.000000</td>\n",
       "    </tr>\n",
       "  </tbody>\n",
       "</table>\n",
       "<p>889 rows × 3 columns</p>\n",
       "</div>"
      ],
      "text/plain": [
       "     pclass  sex        age\n",
       "0         3    1  22.000000\n",
       "1         1    0  38.000000\n",
       "2         3    0  26.000000\n",
       "3         1    0  35.000000\n",
       "4         3    1  35.000000\n",
       "..      ...  ...        ...\n",
       "886       2    1  27.000000\n",
       "887       1    0  19.000000\n",
       "888       3    0  29.699118\n",
       "889       1    1  26.000000\n",
       "890       3    1  32.000000\n",
       "\n",
       "[889 rows x 3 columns]"
      ]
     },
     "execution_count": 45,
     "metadata": {
      "tags": []
     },
     "output_type": "execute_result"
    }
   ],
   "source": [
    "x"
   ]
  },
  {
   "cell_type": "code",
   "execution_count": 46,
   "metadata": {
    "colab": {
     "base_uri": "https://localhost:8080/",
     "height": 218
    },
    "colab_type": "code",
    "id": "V-ibtpzT1-u1",
    "outputId": "57f27554-8449-4054-98a5-5b5ee7108a7c"
   },
   "outputs": [
    {
     "data": {
      "text/plain": [
       "0      0\n",
       "1      1\n",
       "2      1\n",
       "3      1\n",
       "4      0\n",
       "      ..\n",
       "886    0\n",
       "887    1\n",
       "888    0\n",
       "889    1\n",
       "890    0\n",
       "Name: survived, Length: 889, dtype: int64"
      ]
     },
     "execution_count": 46,
     "metadata": {
      "tags": []
     },
     "output_type": "execute_result"
    }
   ],
   "source": [
    "y"
   ]
  },
  {
   "cell_type": "code",
   "execution_count": 47,
   "metadata": {
    "colab": {},
    "colab_type": "code",
    "id": "pyVgeObF1hdW"
   },
   "outputs": [],
   "source": [
    "x_train,x_test,y_train,y_test = train_test_split(x,y,test_size = 0.1,random_state=42)"
   ]
  },
  {
   "cell_type": "code",
   "execution_count": 48,
   "metadata": {
    "colab": {},
    "colab_type": "code",
    "id": "U4GoK9j814we"
   },
   "outputs": [],
   "source": [
    "clfRF = RandomForestClassifier(random_state=42,n_estimators=100)"
   ]
  },
  {
   "cell_type": "code",
   "execution_count": 49,
   "metadata": {
    "colab": {
     "base_uri": "https://localhost:8080/",
     "height": 151
    },
    "colab_type": "code",
    "id": "LwRAhQTm2IJg",
    "outputId": "f637200f-a4dc-43cb-e1c5-a72e2796270f"
   },
   "outputs": [
    {
     "data": {
      "text/plain": [
       "RandomForestClassifier(bootstrap=True, ccp_alpha=0.0, class_weight=None,\n",
       "                       criterion='gini', max_depth=None, max_features='auto',\n",
       "                       max_leaf_nodes=None, max_samples=None,\n",
       "                       min_impurity_decrease=0.0, min_impurity_split=None,\n",
       "                       min_samples_leaf=1, min_samples_split=2,\n",
       "                       min_weight_fraction_leaf=0.0, n_estimators=100,\n",
       "                       n_jobs=None, oob_score=False, random_state=42, verbose=0,\n",
       "                       warm_start=False)"
      ]
     },
     "execution_count": 49,
     "metadata": {
      "tags": []
     },
     "output_type": "execute_result"
    }
   ],
   "source": [
    "clfRF.fit(x_train,y_train)"
   ]
  },
  {
   "cell_type": "code",
   "execution_count": 50,
   "metadata": {
    "colab": {
     "base_uri": "https://localhost:8080/",
     "height": 840
    },
    "colab_type": "code",
    "id": "zJ7hUS5D2NY1",
    "outputId": "b5e5c171-3021-4a6e-dba7-82191be0ef0c"
   },
   "outputs": [
    {
     "name": "stdout",
     "output_type": "stream",
     "text": [
      "Training Performance:\n",
      "\n",
      "\n",
      "Accuracy:0.8775\n",
      "\n",
      "Clasification Report:\n",
      "              precision    recall  f1-score   support\n",
      "\n",
      "           0       0.87      0.94      0.90       491\n",
      "           1       0.89      0.78      0.83       309\n",
      "\n",
      "    accuracy                           0.88       800\n",
      "   macro avg       0.88      0.86      0.87       800\n",
      "weighted avg       0.88      0.88      0.88       800\n",
      "\n",
      "\n",
      "Confusion Matrix:\n",
      "[[462  29]\n",
      " [ 69 240]]\n",
      "\n",
      "ROC_AUC_Score:0.8588\n",
      "\n",
      "Average accuracy:\t0.8088\n",
      "Average std:\t\t0.0268\n",
      "\n",
      "*****************************************************************\n",
      "\n",
      "Testing Performance:\n",
      "\n",
      "\n",
      "Accuracy:0.8315\n",
      "\n",
      "Clasification Report:\n",
      "              precision    recall  f1-score   support\n",
      "\n",
      "           0       0.86      0.88      0.87        58\n",
      "           1       0.77      0.74      0.75        31\n",
      "\n",
      "    accuracy                           0.83        89\n",
      "   macro avg       0.82      0.81      0.81        89\n",
      "weighted avg       0.83      0.83      0.83        89\n",
      "\n",
      "\n",
      "Confusion Matrix:\n",
      "[[51  7]\n",
      " [ 8 23]]\n",
      "\n",
      "ROC_AUC_Score:0.8106\n",
      "\n"
     ]
    }
   ],
   "source": [
    "print_score(clfRF,x_train,y_train,x_test,y_test,part = 'train')\n",
    "print(\"\\n*****************************************************************\\n\")\n",
    "print_score(clfRF,x_train,y_train,x_test,y_test,part = 'test')"
   ]
  },
  {
   "cell_type": "markdown",
   "metadata": {
    "colab_type": "text",
    "id": "4XDP8p084Duu"
   },
   "source": [
    "### **Using GridSearchCV:**"
   ]
  },
  {
   "cell_type": "code",
   "execution_count": 51,
   "metadata": {
    "colab": {},
    "colab_type": "code",
    "id": "4IRdVoLn2cIM"
   },
   "outputs": [],
   "source": [
    "from sklearn.model_selection import GridSearchCV"
   ]
  },
  {
   "cell_type": "code",
   "execution_count": 52,
   "metadata": {
    "colab": {},
    "colab_type": "code",
    "id": "WFi9UXuO4UG2"
   },
   "outputs": [],
   "source": [
    "rfModel = RandomForestClassifier(random_state=42)"
   ]
  },
  {
   "cell_type": "code",
   "execution_count": 53,
   "metadata": {
    "colab": {},
    "colab_type": "code",
    "id": "NO7eBUxB4Zj8"
   },
   "outputs": [],
   "source": [
    "params = {\n",
    "    'max_depth':[3,None],\n",
    "    'min_samples_split':[2,3,10],\n",
    "    'min_samples_leaf':[1,3,10],\n",
    "    'bootstrap':[True,False],\n",
    "    'criterion':['gini','entropy']\n",
    "}"
   ]
  },
  {
   "cell_type": "code",
   "execution_count": 54,
   "metadata": {
    "colab": {},
    "colab_type": "code",
    "id": "_dPKSrYz46n1"
   },
   "outputs": [],
   "source": [
    "grid_search = GridSearchCV(rfModel,params,scoring = 'accuracy',n_jobs = -1,iid = False,cv = 5,verbose = 1)"
   ]
  },
  {
   "cell_type": "code",
   "execution_count": 55,
   "metadata": {
    "colab": {
     "base_uri": "https://localhost:8080/",
     "height": 524
    },
    "colab_type": "code",
    "id": "XslGuCV55X1a",
    "outputId": "2ae67fbb-bb00-4e1b-e315-97320f77400a"
   },
   "outputs": [
    {
     "name": "stdout",
     "output_type": "stream",
     "text": [
      "Fitting 5 folds for each of 72 candidates, totalling 360 fits\n"
     ]
    },
    {
     "name": "stderr",
     "output_type": "stream",
     "text": [
      "[Parallel(n_jobs=-1)]: Using backend LokyBackend with 2 concurrent workers.\n",
      "[Parallel(n_jobs=-1)]: Done  46 tasks      | elapsed:    6.1s\n",
      "[Parallel(n_jobs=-1)]: Done 196 tasks      | elapsed:   25.6s\n",
      "[Parallel(n_jobs=-1)]: Done 360 out of 360 | elapsed:   43.2s finished\n",
      "/usr/local/lib/python3.6/dist-packages/sklearn/model_selection/_search.py:823: FutureWarning: The parameter 'iid' is deprecated in 0.22 and will be removed in 0.24.\n",
      "  \"removed in 0.24.\", FutureWarning\n"
     ]
    },
    {
     "data": {
      "text/plain": [
       "GridSearchCV(cv=5, error_score=nan,\n",
       "             estimator=RandomForestClassifier(bootstrap=True, ccp_alpha=0.0,\n",
       "                                              class_weight=None,\n",
       "                                              criterion='gini', max_depth=None,\n",
       "                                              max_features='auto',\n",
       "                                              max_leaf_nodes=None,\n",
       "                                              max_samples=None,\n",
       "                                              min_impurity_decrease=0.0,\n",
       "                                              min_impurity_split=None,\n",
       "                                              min_samples_leaf=1,\n",
       "                                              min_samples_split=2,\n",
       "                                              min_weight_fraction_leaf=0.0,\n",
       "                                              n_estimators=100, n_jobs=None,\n",
       "                                              oob_score=False, random_state=42,\n",
       "                                              verbose=0, warm_start=False),\n",
       "             iid=False, n_jobs=-1,\n",
       "             param_grid={'bootstrap': [True, False],\n",
       "                         'criterion': ['gini', 'entropy'],\n",
       "                         'max_depth': [3, None], 'min_samples_leaf': [1, 3, 10],\n",
       "                         'min_samples_split': [2, 3, 10]},\n",
       "             pre_dispatch='2*n_jobs', refit=True, return_train_score=False,\n",
       "             scoring='accuracy', verbose=1)"
      ]
     },
     "execution_count": 55,
     "metadata": {
      "tags": []
     },
     "output_type": "execute_result"
    }
   ],
   "source": [
    "grid_search.fit(x_train,y_train)"
   ]
  },
  {
   "cell_type": "code",
   "execution_count": 56,
   "metadata": {
    "colab": {
     "base_uri": "https://localhost:8080/",
     "height": 34
    },
    "colab_type": "code",
    "id": "bcygFlga5gwt",
    "outputId": "da6670a9-bfde-4fbe-cfee-ab5b27e8018c"
   },
   "outputs": [
    {
     "data": {
      "text/plain": [
       "0.8075000000000001"
      ]
     },
     "execution_count": 56,
     "metadata": {
      "tags": []
     },
     "output_type": "execute_result"
    }
   ],
   "source": [
    "grid_search.best_score_"
   ]
  },
  {
   "cell_type": "code",
   "execution_count": 57,
   "metadata": {
    "colab": {
     "base_uri": "https://localhost:8080/",
     "height": 336
    },
    "colab_type": "code",
    "id": "4r1ZV1Hx54-E",
    "outputId": "0c585bbf-17a2-480d-e47f-c113ef563c3f"
   },
   "outputs": [
    {
     "data": {
      "text/plain": [
       "{'bootstrap': False,\n",
       " 'ccp_alpha': 0.0,\n",
       " 'class_weight': None,\n",
       " 'criterion': 'entropy',\n",
       " 'max_depth': 3,\n",
       " 'max_features': 'auto',\n",
       " 'max_leaf_nodes': None,\n",
       " 'max_samples': None,\n",
       " 'min_impurity_decrease': 0.0,\n",
       " 'min_impurity_split': None,\n",
       " 'min_samples_leaf': 1,\n",
       " 'min_samples_split': 2,\n",
       " 'min_weight_fraction_leaf': 0.0,\n",
       " 'n_estimators': 100,\n",
       " 'n_jobs': None,\n",
       " 'oob_score': False,\n",
       " 'random_state': 42,\n",
       " 'verbose': 0,\n",
       " 'warm_start': False}"
      ]
     },
     "execution_count": 57,
     "metadata": {
      "tags": []
     },
     "output_type": "execute_result"
    }
   ],
   "source": [
    "grid_search.best_estimator_.get_params()"
   ]
  },
  {
   "cell_type": "code",
   "execution_count": 58,
   "metadata": {
    "colab": {
     "base_uri": "https://localhost:8080/",
     "height": 101
    },
    "colab_type": "code",
    "id": "2XjFW1F-57_1",
    "outputId": "4f02542b-4639-450e-ca6d-4a8c265e3519"
   },
   "outputs": [
    {
     "data": {
      "text/plain": [
       "{'bootstrap': False,\n",
       " 'criterion': 'entropy',\n",
       " 'max_depth': 3,\n",
       " 'min_samples_leaf': 1,\n",
       " 'min_samples_split': 2}"
      ]
     },
     "execution_count": 58,
     "metadata": {
      "tags": []
     },
     "output_type": "execute_result"
    }
   ],
   "source": [
    "grid_search.best_params_"
   ]
  },
  {
   "cell_type": "code",
   "execution_count": 59,
   "metadata": {
    "colab": {
     "base_uri": "https://localhost:8080/",
     "height": 2036
    },
    "colab_type": "code",
    "id": "CdkH5PEa6HcS",
    "outputId": "abe9c1b6-175b-4785-f809-b6b274ccaa10"
   },
   "outputs": [
    {
     "name": "stderr",
     "output_type": "stream",
     "text": [
      "[Parallel(n_jobs=-1)]: Using backend LokyBackend with 2 concurrent workers.\n"
     ]
    },
    {
     "name": "stdout",
     "output_type": "stream",
     "text": [
      "Training Performance:\n",
      "\n",
      "\n",
      "Accuracy:0.8075\n",
      "\n",
      "Clasification Report:\n",
      "              precision    recall  f1-score   support\n",
      "\n",
      "           0       0.77      0.98      0.86       491\n",
      "           1       0.94      0.54      0.68       309\n",
      "\n",
      "    accuracy                           0.81       800\n",
      "   macro avg       0.85      0.76      0.77       800\n",
      "weighted avg       0.84      0.81      0.79       800\n",
      "\n",
      "\n",
      "Confusion Matrix:\n",
      "[[480  11]\n",
      " [143 166]]\n",
      "\n",
      "ROC_AUC_Score:0.7574\n",
      "\n",
      "Fitting 5 folds for each of 72 candidates, totalling 360 fits\n"
     ]
    },
    {
     "name": "stderr",
     "output_type": "stream",
     "text": [
      "[Parallel(n_jobs=-1)]: Done  46 tasks      | elapsed:    5.9s\n",
      "[Parallel(n_jobs=-1)]: Done 196 tasks      | elapsed:   25.1s\n",
      "[Parallel(n_jobs=-1)]: Done 360 out of 360 | elapsed:   42.5s finished\n",
      "/usr/local/lib/python3.6/dist-packages/sklearn/model_selection/_search.py:823: FutureWarning: The parameter 'iid' is deprecated in 0.22 and will be removed in 0.24.\n",
      "  \"removed in 0.24.\", FutureWarning\n",
      "[Parallel(n_jobs=-1)]: Using backend LokyBackend with 2 concurrent workers.\n"
     ]
    },
    {
     "name": "stdout",
     "output_type": "stream",
     "text": [
      "Fitting 5 folds for each of 72 candidates, totalling 360 fits\n"
     ]
    },
    {
     "name": "stderr",
     "output_type": "stream",
     "text": [
      "[Parallel(n_jobs=-1)]: Done  46 tasks      | elapsed:    5.8s\n",
      "[Parallel(n_jobs=-1)]: Done 196 tasks      | elapsed:   24.9s\n",
      "[Parallel(n_jobs=-1)]: Done 360 out of 360 | elapsed:   42.5s finished\n",
      "/usr/local/lib/python3.6/dist-packages/sklearn/model_selection/_search.py:823: FutureWarning: The parameter 'iid' is deprecated in 0.22 and will be removed in 0.24.\n",
      "  \"removed in 0.24.\", FutureWarning\n",
      "[Parallel(n_jobs=-1)]: Using backend LokyBackend with 2 concurrent workers.\n"
     ]
    },
    {
     "name": "stdout",
     "output_type": "stream",
     "text": [
      "Fitting 5 folds for each of 72 candidates, totalling 360 fits\n"
     ]
    },
    {
     "name": "stderr",
     "output_type": "stream",
     "text": [
      "[Parallel(n_jobs=-1)]: Done  46 tasks      | elapsed:    5.8s\n",
      "[Parallel(n_jobs=-1)]: Done 196 tasks      | elapsed:   25.2s\n",
      "[Parallel(n_jobs=-1)]: Done 360 out of 360 | elapsed:   42.6s finished\n",
      "/usr/local/lib/python3.6/dist-packages/sklearn/model_selection/_search.py:823: FutureWarning: The parameter 'iid' is deprecated in 0.22 and will be removed in 0.24.\n",
      "  \"removed in 0.24.\", FutureWarning\n",
      "[Parallel(n_jobs=-1)]: Using backend LokyBackend with 2 concurrent workers.\n"
     ]
    },
    {
     "name": "stdout",
     "output_type": "stream",
     "text": [
      "Fitting 5 folds for each of 72 candidates, totalling 360 fits\n"
     ]
    },
    {
     "name": "stderr",
     "output_type": "stream",
     "text": [
      "[Parallel(n_jobs=-1)]: Done  46 tasks      | elapsed:    5.8s\n",
      "[Parallel(n_jobs=-1)]: Done 196 tasks      | elapsed:   25.1s\n",
      "[Parallel(n_jobs=-1)]: Done 360 out of 360 | elapsed:   42.5s finished\n",
      "/usr/local/lib/python3.6/dist-packages/sklearn/model_selection/_search.py:823: FutureWarning: The parameter 'iid' is deprecated in 0.22 and will be removed in 0.24.\n",
      "  \"removed in 0.24.\", FutureWarning\n",
      "[Parallel(n_jobs=-1)]: Using backend LokyBackend with 2 concurrent workers.\n"
     ]
    },
    {
     "name": "stdout",
     "output_type": "stream",
     "text": [
      "Fitting 5 folds for each of 72 candidates, totalling 360 fits\n"
     ]
    },
    {
     "name": "stderr",
     "output_type": "stream",
     "text": [
      "[Parallel(n_jobs=-1)]: Done  46 tasks      | elapsed:    5.8s\n",
      "[Parallel(n_jobs=-1)]: Done 196 tasks      | elapsed:   25.1s\n",
      "[Parallel(n_jobs=-1)]: Done 360 out of 360 | elapsed:   42.7s finished\n",
      "/usr/local/lib/python3.6/dist-packages/sklearn/model_selection/_search.py:823: FutureWarning: The parameter 'iid' is deprecated in 0.22 and will be removed in 0.24.\n",
      "  \"removed in 0.24.\", FutureWarning\n",
      "[Parallel(n_jobs=-1)]: Using backend LokyBackend with 2 concurrent workers.\n"
     ]
    },
    {
     "name": "stdout",
     "output_type": "stream",
     "text": [
      "Fitting 5 folds for each of 72 candidates, totalling 360 fits\n"
     ]
    },
    {
     "name": "stderr",
     "output_type": "stream",
     "text": [
      "[Parallel(n_jobs=-1)]: Done  46 tasks      | elapsed:    5.8s\n",
      "[Parallel(n_jobs=-1)]: Done 196 tasks      | elapsed:   24.9s\n",
      "[Parallel(n_jobs=-1)]: Done 360 out of 360 | elapsed:   42.4s finished\n",
      "/usr/local/lib/python3.6/dist-packages/sklearn/model_selection/_search.py:823: FutureWarning: The parameter 'iid' is deprecated in 0.22 and will be removed in 0.24.\n",
      "  \"removed in 0.24.\", FutureWarning\n",
      "[Parallel(n_jobs=-1)]: Using backend LokyBackend with 2 concurrent workers.\n"
     ]
    },
    {
     "name": "stdout",
     "output_type": "stream",
     "text": [
      "Fitting 5 folds for each of 72 candidates, totalling 360 fits\n"
     ]
    },
    {
     "name": "stderr",
     "output_type": "stream",
     "text": [
      "[Parallel(n_jobs=-1)]: Done  46 tasks      | elapsed:    5.9s\n",
      "[Parallel(n_jobs=-1)]: Done 196 tasks      | elapsed:   25.0s\n",
      "[Parallel(n_jobs=-1)]: Done 360 out of 360 | elapsed:   42.2s finished\n",
      "/usr/local/lib/python3.6/dist-packages/sklearn/model_selection/_search.py:823: FutureWarning: The parameter 'iid' is deprecated in 0.22 and will be removed in 0.24.\n",
      "  \"removed in 0.24.\", FutureWarning\n",
      "[Parallel(n_jobs=-1)]: Using backend LokyBackend with 2 concurrent workers.\n"
     ]
    },
    {
     "name": "stdout",
     "output_type": "stream",
     "text": [
      "Fitting 5 folds for each of 72 candidates, totalling 360 fits\n"
     ]
    },
    {
     "name": "stderr",
     "output_type": "stream",
     "text": [
      "[Parallel(n_jobs=-1)]: Done  46 tasks      | elapsed:    5.8s\n",
      "[Parallel(n_jobs=-1)]: Done 196 tasks      | elapsed:   24.9s\n",
      "[Parallel(n_jobs=-1)]: Done 360 out of 360 | elapsed:   42.2s finished\n",
      "/usr/local/lib/python3.6/dist-packages/sklearn/model_selection/_search.py:823: FutureWarning: The parameter 'iid' is deprecated in 0.22 and will be removed in 0.24.\n",
      "  \"removed in 0.24.\", FutureWarning\n",
      "[Parallel(n_jobs=-1)]: Using backend LokyBackend with 2 concurrent workers.\n"
     ]
    },
    {
     "name": "stdout",
     "output_type": "stream",
     "text": [
      "Fitting 5 folds for each of 72 candidates, totalling 360 fits\n"
     ]
    },
    {
     "name": "stderr",
     "output_type": "stream",
     "text": [
      "[Parallel(n_jobs=-1)]: Done  46 tasks      | elapsed:    5.8s\n",
      "[Parallel(n_jobs=-1)]: Done 196 tasks      | elapsed:   24.9s\n",
      "[Parallel(n_jobs=-1)]: Done 360 out of 360 | elapsed:   42.2s finished\n",
      "/usr/local/lib/python3.6/dist-packages/sklearn/model_selection/_search.py:823: FutureWarning: The parameter 'iid' is deprecated in 0.22 and will be removed in 0.24.\n",
      "  \"removed in 0.24.\", FutureWarning\n",
      "[Parallel(n_jobs=-1)]: Using backend LokyBackend with 2 concurrent workers.\n"
     ]
    },
    {
     "name": "stdout",
     "output_type": "stream",
     "text": [
      "Fitting 5 folds for each of 72 candidates, totalling 360 fits\n"
     ]
    },
    {
     "name": "stderr",
     "output_type": "stream",
     "text": [
      "[Parallel(n_jobs=-1)]: Done  46 tasks      | elapsed:    5.9s\n",
      "[Parallel(n_jobs=-1)]: Done 196 tasks      | elapsed:   24.9s\n"
     ]
    },
    {
     "name": "stdout",
     "output_type": "stream",
     "text": [
      "Average accuracy:\t0.7888\n",
      "Average std:\t\t0.0356\n",
      "\n",
      "*****************************************************************\n",
      "\n",
      "Testing Performance:\n",
      "\n",
      "\n",
      "Accuracy:0.8202\n",
      "\n",
      "Clasification Report:\n",
      "              precision    recall  f1-score   support\n",
      "\n",
      "           0       0.81      0.95      0.87        58\n",
      "           1       0.86      0.58      0.69        31\n",
      "\n",
      "    accuracy                           0.82        89\n",
      "   macro avg       0.83      0.76      0.78        89\n",
      "weighted avg       0.83      0.82      0.81        89\n",
      "\n",
      "\n",
      "Confusion Matrix:\n",
      "[[55  3]\n",
      " [13 18]]\n",
      "\n",
      "ROC_AUC_Score:0.7645\n",
      "\n"
     ]
    },
    {
     "name": "stderr",
     "output_type": "stream",
     "text": [
      "[Parallel(n_jobs=-1)]: Done 360 out of 360 | elapsed:   42.1s finished\n",
      "/usr/local/lib/python3.6/dist-packages/sklearn/model_selection/_search.py:823: FutureWarning: The parameter 'iid' is deprecated in 0.22 and will be removed in 0.24.\n",
      "  \"removed in 0.24.\", FutureWarning\n"
     ]
    }
   ],
   "source": [
    "print_score(grid_search,x_train,y_train,x_test,y_test,part = 'train')\n",
    "print(\"\\n*****************************************************************\\n\")\n",
    "print_score(grid_search,x_train,y_train,x_test,y_test,part = 'test')"
   ]
  },
  {
   "cell_type": "markdown",
   "metadata": {
    "colab_type": "text",
    "id": "4Jy30IaM8tCq"
   },
   "source": [
    "### **Extra-Trees(Extremely Randomized Trees) Classifier:**\n",
    "\n",
    "In extremely randomized trees (ExtraTreesClassifier and ExtraTreesRegressor classes), randomness goes one step further in the way splits are computed. \n",
    "\n",
    "As in random forests, a random subset of candidate features is used, but instead of looking for the most discriminative thresholds, thresholds are drawn at random for each candidate feature and the best of these randomly-generated thresholds is picked as the splitting rule. This usually allows to reduce the variance of the model a bit more, at the expense of a slightly greater increase in bias.\n",
    "\n",
    "Imp Points:\n",
    "1.RF is based on Decision Trees.\n",
    "2.Decision Tree node splitting is based on gini or entropy criteria.\n",
    "3.Extra Trees make use of random thresholds for each feature unlike decision tree."
   ]
  },
  {
   "cell_type": "code",
   "execution_count": 60,
   "metadata": {
    "colab": {},
    "colab_type": "code",
    "id": "hpN9CqW6-UgD"
   },
   "outputs": [],
   "source": [
    "from sklearn.ensemble import ExtraTreesClassifier"
   ]
  },
  {
   "cell_type": "code",
   "execution_count": 61,
   "metadata": {
    "colab": {},
    "colab_type": "code",
    "id": "H8UgADXc_EEW"
   },
   "outputs": [],
   "source": [
    "clfExtree = ExtraTreesClassifier(random_state=42,n_estimators = 100)"
   ]
  },
  {
   "cell_type": "code",
   "execution_count": 62,
   "metadata": {
    "colab": {
     "base_uri": "https://localhost:8080/",
     "height": 151
    },
    "colab_type": "code",
    "id": "h6lHHv07_KIn",
    "outputId": "f5f3796e-1672-4ef1-da53-af03b0fca6c7"
   },
   "outputs": [
    {
     "data": {
      "text/plain": [
       "ExtraTreesClassifier(bootstrap=False, ccp_alpha=0.0, class_weight=None,\n",
       "                     criterion='gini', max_depth=None, max_features='auto',\n",
       "                     max_leaf_nodes=None, max_samples=None,\n",
       "                     min_impurity_decrease=0.0, min_impurity_split=None,\n",
       "                     min_samples_leaf=1, min_samples_split=2,\n",
       "                     min_weight_fraction_leaf=0.0, n_estimators=100,\n",
       "                     n_jobs=None, oob_score=False, random_state=42, verbose=0,\n",
       "                     warm_start=False)"
      ]
     },
     "execution_count": 62,
     "metadata": {
      "tags": []
     },
     "output_type": "execute_result"
    }
   ],
   "source": [
    "clfExtree.fit(x_train,y_train)"
   ]
  },
  {
   "cell_type": "code",
   "execution_count": 63,
   "metadata": {
    "colab": {
     "base_uri": "https://localhost:8080/",
     "height": 840
    },
    "colab_type": "code",
    "id": "z1wj7D_n_OoA",
    "outputId": "26266227-24f7-4b43-ad63-259b409beee6"
   },
   "outputs": [
    {
     "name": "stdout",
     "output_type": "stream",
     "text": [
      "Training Performance:\n",
      "\n",
      "\n",
      "Accuracy:0.8775\n",
      "\n",
      "Clasification Report:\n",
      "              precision    recall  f1-score   support\n",
      "\n",
      "           0       0.86      0.95      0.90       491\n",
      "           1       0.90      0.76      0.83       309\n",
      "\n",
      "    accuracy                           0.88       800\n",
      "   macro avg       0.88      0.86      0.87       800\n",
      "weighted avg       0.88      0.88      0.88       800\n",
      "\n",
      "\n",
      "Confusion Matrix:\n",
      "[[466  25]\n",
      " [ 73 236]]\n",
      "\n",
      "ROC_AUC_Score:0.8564\n",
      "\n",
      "Average accuracy:\t0.8063\n",
      "Average std:\t\t0.0307\n",
      "\n",
      "*****************************************************************\n",
      "\n",
      "Testing Performance:\n",
      "\n",
      "\n",
      "Accuracy:0.8427\n",
      "\n",
      "Clasification Report:\n",
      "              precision    recall  f1-score   support\n",
      "\n",
      "           0       0.85      0.91      0.88        58\n",
      "           1       0.81      0.71      0.76        31\n",
      "\n",
      "    accuracy                           0.84        89\n",
      "   macro avg       0.83      0.81      0.82        89\n",
      "weighted avg       0.84      0.84      0.84        89\n",
      "\n",
      "\n",
      "Confusion Matrix:\n",
      "[[53  5]\n",
      " [ 9 22]]\n",
      "\n",
      "ROC_AUC_Score:0.8117\n",
      "\n"
     ]
    }
   ],
   "source": [
    "print_score(clfExtree,x_train,y_train,x_test,y_test,part = 'train')\n",
    "print(\"\\n*****************************************************************\\n\")\n",
    "print_score(clfExtree,x_train,y_train,x_test,y_test,part = 'test')"
   ]
  },
  {
   "cell_type": "markdown",
   "metadata": {
    "colab_type": "text",
    "id": "lLBKdIEUFLJ_"
   },
   "source": [
    "## **Boosting(Hypothesis Boosting):**\n",
    "Combine multiple weak learners into strong learners.\n",
    "Train predictors sequentially.\n",
    "\n",
    "### **AdaBoost/Adaptive Boosting:**\n",
    "* It learns from past mistake , focuses mainly on difficult problems which did not get right in prior learning.\n",
    "* It pays more attention to training instances that are under fitted previously.\n",
    "*The core principle of AdaBoost is to fit a sequence of weak learners (i.e., models that are only slightly better than random guessing, such as small decision trees) on repeatedly modified versions of the data. \n",
    "* The predictions from all of them are then combined through a weighted majority vote (or sum) to produce the final prediction. \n",
    "* The data modifications at each so-called boosting iteration consist of applying weights w1,w2,....,wn to each of the training samples. \n",
    "* Initially, those weights are all set to wi = 1/N, so that the first step simply trains a weak learner on the original data.\n",
    "* For each successive iteration, the sample weights are individually modified and the learning algorithm is reapplied to the reweighted data.\n",
    "* At a given step, those training examples that were incorrectly predicted by the boosted model induced at the previous step have their weights increased, whereas the weights are decreased for those that were predicted correctly.\n",
    "* As iterations proceed, examples that are difficult to predict receive ever-increasing influence. Each subsequent weak learner is thereby forced to concentrate on the examples that are missed by the previous ones in the sequence.\n",
    "\n",
    "#### *AdaBoost can be used both for classification and regression problems:*\n",
    "> For multi-class classification, AdaBoostClassifier implements AdaBoost-SAMME and AdaBoost-SAMME.R\n",
    "\n",
    "> For regression, AdaBoostRegressor implements AdaBoost.R2 \n",
    "\n",
    "*SAMME.R ---> Stagewise Additive Modelling using a Multiclass Exponential loss function;*\n",
    "*R ---> Real*"
   ]
  },
  {
   "cell_type": "code",
   "execution_count": 64,
   "metadata": {
    "colab": {},
    "colab_type": "code",
    "id": "68p-kazHAuet"
   },
   "outputs": [],
   "source": [
    "from sklearn.ensemble import AdaBoostClassifier"
   ]
  },
  {
   "cell_type": "code",
   "execution_count": 65,
   "metadata": {
    "colab": {
     "base_uri": "https://localhost:8080/",
     "height": 34
    },
    "colab_type": "code",
    "id": "gAxqbjRrIcnX",
    "outputId": "1df0d534-a91b-49ef-f45d-f3c42efd8ad4"
   },
   "outputs": [
    {
     "data": {
      "text/plain": [
       "(889, 3)"
      ]
     },
     "execution_count": 65,
     "metadata": {
      "tags": []
     },
     "output_type": "execute_result"
    }
   ],
   "source": [
    "x.shape"
   ]
  },
  {
   "cell_type": "code",
   "execution_count": 66,
   "metadata": {
    "colab": {
     "base_uri": "https://localhost:8080/",
     "height": 34
    },
    "colab_type": "code",
    "id": "-hj7WaiJId91",
    "outputId": "38a4af77-69d6-4612-9819-d81155406df0"
   },
   "outputs": [
    {
     "data": {
      "text/plain": [
       "(889,)"
      ]
     },
     "execution_count": 66,
     "metadata": {
      "tags": []
     },
     "output_type": "execute_result"
    }
   ],
   "source": [
    "y.shape"
   ]
  },
  {
   "cell_type": "code",
   "execution_count": 67,
   "metadata": {
    "colab": {},
    "colab_type": "code",
    "id": "t5NxRGNxIjzP"
   },
   "outputs": [],
   "source": [
    "x_train,x_test,y_train,y_test = train_test_split(x,y,test_size = 0.3,random_state = 42)"
   ]
  },
  {
   "cell_type": "code",
   "execution_count": 68,
   "metadata": {
    "colab": {},
    "colab_type": "code",
    "id": "meJX6NW6Iu_6"
   },
   "outputs": [],
   "source": [
    "clfada = AdaBoostClassifier(n_estimators=100,random_state=42)"
   ]
  },
  {
   "cell_type": "code",
   "execution_count": 69,
   "metadata": {
    "colab": {
     "base_uri": "https://localhost:8080/",
     "height": 50
    },
    "colab_type": "code",
    "id": "qwLBLQXOIz7u",
    "outputId": "adeabe40-1145-49ea-c9f7-1f9a6d33051c"
   },
   "outputs": [
    {
     "data": {
      "text/plain": [
       "AdaBoostClassifier(algorithm='SAMME.R', base_estimator=None, learning_rate=1.0,\n",
       "                   n_estimators=100, random_state=42)"
      ]
     },
     "execution_count": 69,
     "metadata": {
      "tags": []
     },
     "output_type": "execute_result"
    }
   ],
   "source": [
    "clfada.fit(x_train,y_train)"
   ]
  },
  {
   "cell_type": "code",
   "execution_count": 70,
   "metadata": {
    "colab": {
     "base_uri": "https://localhost:8080/",
     "height": 840
    },
    "colab_type": "code",
    "id": "KO7R0HgrKowb",
    "outputId": "ba086a9d-a4d2-4692-c76f-a672a03df511"
   },
   "outputs": [
    {
     "name": "stdout",
     "output_type": "stream",
     "text": [
      "Training Performance:\n",
      "\n",
      "\n",
      "Accuracy:0.8055\n",
      "\n",
      "Clasification Report:\n",
      "              precision    recall  f1-score   support\n",
      "\n",
      "           0       0.86      0.81      0.84       382\n",
      "           1       0.73      0.80      0.76       240\n",
      "\n",
      "    accuracy                           0.81       622\n",
      "   macro avg       0.79      0.80      0.80       622\n",
      "weighted avg       0.81      0.81      0.81       622\n",
      "\n",
      "\n",
      "Confusion Matrix:\n",
      "[[310  72]\n",
      " [ 49 191]]\n",
      "\n",
      "ROC_AUC_Score:0.8037\n",
      "\n",
      "Average accuracy:\t0.7701\n",
      "Average std:\t\t0.0500\n",
      "\n",
      "*****************************************************************\n",
      "\n",
      "Testing Performance:\n",
      "\n",
      "\n",
      "Accuracy:0.7978\n",
      "\n",
      "Clasification Report:\n",
      "              precision    recall  f1-score   support\n",
      "\n",
      "           0       0.87      0.79      0.83       167\n",
      "           1       0.70      0.81      0.75       100\n",
      "\n",
      "    accuracy                           0.80       267\n",
      "   macro avg       0.79      0.80      0.79       267\n",
      "weighted avg       0.81      0.80      0.80       267\n",
      "\n",
      "\n",
      "Confusion Matrix:\n",
      "[[132  35]\n",
      " [ 19  81]]\n",
      "\n",
      "ROC_AUC_Score:0.8002\n",
      "\n"
     ]
    }
   ],
   "source": [
    "print_score(clfada,x_train,y_train,x_test,y_test,part = 'train')\n",
    "print(\"\\n*****************************************************************\\n\")\n",
    "print_score(clfada,x_train,y_train,x_test,y_test,part = 'test')"
   ]
  },
  {
   "cell_type": "markdown",
   "metadata": {
    "colab_type": "text",
    "id": "RbpCVmTwQ0kG"
   },
   "source": [
    "### **AdaBoost with Random Forest Classifier:**"
   ]
  },
  {
   "cell_type": "code",
   "execution_count": 71,
   "metadata": {
    "colab": {},
    "colab_type": "code",
    "id": "Uj2Gzi4QKzWA"
   },
   "outputs": [],
   "source": [
    "clfadarf = AdaBoostClassifier(RandomForestClassifier(n_estimators=100),n_estimators=100)"
   ]
  },
  {
   "cell_type": "code",
   "execution_count": 72,
   "metadata": {
    "colab": {
     "base_uri": "https://localhost:8080/",
     "height": 370
    },
    "colab_type": "code",
    "id": "_2zi-3UvRKQg",
    "outputId": "f7bcc5b3-11ff-4b69-a3f0-0a8476263eb0"
   },
   "outputs": [
    {
     "data": {
      "text/plain": [
       "AdaBoostClassifier(algorithm='SAMME.R',\n",
       "                   base_estimator=RandomForestClassifier(bootstrap=True,\n",
       "                                                         ccp_alpha=0.0,\n",
       "                                                         class_weight=None,\n",
       "                                                         criterion='gini',\n",
       "                                                         max_depth=None,\n",
       "                                                         max_features='auto',\n",
       "                                                         max_leaf_nodes=None,\n",
       "                                                         max_samples=None,\n",
       "                                                         min_impurity_decrease=0.0,\n",
       "                                                         min_impurity_split=None,\n",
       "                                                         min_samples_leaf=1,\n",
       "                                                         min_samples_split=2,\n",
       "                                                         min_weight_fraction_leaf=0.0,\n",
       "                                                         n_estimators=100,\n",
       "                                                         n_jobs=None,\n",
       "                                                         oob_score=False,\n",
       "                                                         random_state=None,\n",
       "                                                         verbose=0,\n",
       "                                                         warm_start=False),\n",
       "                   learning_rate=1.0, n_estimators=100, random_state=None)"
      ]
     },
     "execution_count": 72,
     "metadata": {
      "tags": []
     },
     "output_type": "execute_result"
    }
   ],
   "source": [
    "clfadarf.fit(x_train,y_train)"
   ]
  },
  {
   "cell_type": "code",
   "execution_count": 73,
   "metadata": {
    "colab": {
     "base_uri": "https://localhost:8080/",
     "height": 840
    },
    "colab_type": "code",
    "id": "Mc6UE5CWRN7Z",
    "outputId": "8eb80b29-9416-4e20-def9-ddef58dbd61d"
   },
   "outputs": [
    {
     "name": "stdout",
     "output_type": "stream",
     "text": [
      "Training Performance:\n",
      "\n",
      "\n",
      "Accuracy:0.8810\n",
      "\n",
      "Clasification Report:\n",
      "              precision    recall  f1-score   support\n",
      "\n",
      "           0       0.89      0.92      0.90       382\n",
      "           1       0.86      0.82      0.84       240\n",
      "\n",
      "    accuracy                           0.88       622\n",
      "   macro avg       0.88      0.87      0.87       622\n",
      "weighted avg       0.88      0.88      0.88       622\n",
      "\n",
      "\n",
      "Confusion Matrix:\n",
      "[[351  31]\n",
      " [ 43 197]]\n",
      "\n",
      "ROC_AUC_Score:0.8698\n",
      "\n",
      "Average accuracy:\t0.7974\n",
      "Average std:\t\t0.0233\n",
      "\n",
      "*****************************************************************\n",
      "\n",
      "Testing Performance:\n",
      "\n",
      "\n",
      "Accuracy:0.8015\n",
      "\n",
      "Clasification Report:\n",
      "              precision    recall  f1-score   support\n",
      "\n",
      "           0       0.82      0.87      0.85       167\n",
      "           1       0.76      0.69      0.72       100\n",
      "\n",
      "    accuracy                           0.80       267\n",
      "   macro avg       0.79      0.78      0.78       267\n",
      "weighted avg       0.80      0.80      0.80       267\n",
      "\n",
      "\n",
      "Confusion Matrix:\n",
      "[[145  22]\n",
      " [ 31  69]]\n",
      "\n",
      "ROC_AUC_Score:0.7791\n",
      "\n"
     ]
    }
   ],
   "source": [
    "print_score(clfadarf,x_train,y_train,x_test,y_test,part = 'train')\n",
    "print(\"\\n*****************************************************************\\n\")\n",
    "print_score(clfadarf,x_train,y_train,x_test,y_test,part = 'test')"
   ]
  },
  {
   "cell_type": "markdown",
   "metadata": {
    "colab_type": "text",
    "id": "0iFVnag9Ttte"
   },
   "source": [
    "### **Gradient Boosting / Gradient Boosting Machine:**\n",
    "\n",
    "Gradient boosting is a machine learning technique for regression and classification problems, which produces a prediction model in the form of an ensemble of weak prediction models, typically decision trees. \n",
    "\n",
    "\n",
    "*   Seqentially adding predictors.\n",
    "*   Each one correcting its predecessor.\n",
    "*   Fit new predictors to the residual errors.\n",
    "\n",
    "Compare this to adaboost:\n",
    "\n",
    "* Alter instance weights at every iteration.\n",
    "\n",
    "> $Y = F(x) + \\epsilon $\n",
    "\n",
    ">$\\epsilon = G(x) + \\epsilon_{1} $\n",
    "\n",
    ">so, $Y = F(x) + G(x) + \\epsilon_{1} $\n",
    "\n",
    ">$\\epsilon_{1} = H(x) + \\epsilon_{2} $\n",
    "\n",
    "> $Y = F(x) + G(x) + H(x)+ \\epsilon_{2} $\n",
    "\n",
    "finally , by adding weighting,\n",
    " \n",
    "> $Y = \\alpha F(x) + \\beta G(x) + \\gamma H(x)+ \\epsilon_{3} $\n",
    "\n",
    " Gradient Boosting have 3 elements:\n",
    "\n",
    " >Loss fn to be optimized.\n",
    "\n",
    " >Weak learner to make predictions.\n",
    "\n",
    " >Additve model to add weak learners to minimize the loss fn.\n"
   ]
  },
  {
   "cell_type": "code",
   "execution_count": 74,
   "metadata": {
    "colab": {},
    "colab_type": "code",
    "id": "-oIXgS13RhUU"
   },
   "outputs": [],
   "source": [
    "from sklearn.ensemble import GradientBoostingClassifier"
   ]
  },
  {
   "cell_type": "code",
   "execution_count": 75,
   "metadata": {
    "colab": {},
    "colab_type": "code",
    "id": "X2V65esvaNYg"
   },
   "outputs": [],
   "source": [
    "clfgb = GradientBoostingClassifier()"
   ]
  },
  {
   "cell_type": "code",
   "execution_count": 76,
   "metadata": {
    "colab": {
     "base_uri": "https://localhost:8080/",
     "height": 185
    },
    "colab_type": "code",
    "id": "dJGhxpBzaZ2g",
    "outputId": "9052fc04-31b6-4d12-a110-6826f02f3dc4"
   },
   "outputs": [
    {
     "data": {
      "text/plain": [
       "GradientBoostingClassifier(ccp_alpha=0.0, criterion='friedman_mse', init=None,\n",
       "                           learning_rate=0.1, loss='deviance', max_depth=3,\n",
       "                           max_features=None, max_leaf_nodes=None,\n",
       "                           min_impurity_decrease=0.0, min_impurity_split=None,\n",
       "                           min_samples_leaf=1, min_samples_split=2,\n",
       "                           min_weight_fraction_leaf=0.0, n_estimators=100,\n",
       "                           n_iter_no_change=None, presort='deprecated',\n",
       "                           random_state=None, subsample=1.0, tol=0.0001,\n",
       "                           validation_fraction=0.1, verbose=0,\n",
       "                           warm_start=False)"
      ]
     },
     "execution_count": 76,
     "metadata": {
      "tags": []
     },
     "output_type": "execute_result"
    }
   ],
   "source": [
    "clfgb.fit(x_train,y_train)"
   ]
  },
  {
   "cell_type": "code",
   "execution_count": 77,
   "metadata": {
    "colab": {
     "base_uri": "https://localhost:8080/",
     "height": 840
    },
    "colab_type": "code",
    "id": "rtZkaNdpad49",
    "outputId": "f6fe2acd-f259-4236-effe-6588198c62ed"
   },
   "outputs": [
    {
     "name": "stdout",
     "output_type": "stream",
     "text": [
      "Training Performance:\n",
      "\n",
      "\n",
      "Accuracy:0.8585\n",
      "\n",
      "Clasification Report:\n",
      "              precision    recall  f1-score   support\n",
      "\n",
      "           0       0.86      0.91      0.89       382\n",
      "           1       0.85      0.77      0.81       240\n",
      "\n",
      "    accuracy                           0.86       622\n",
      "   macro avg       0.86      0.84      0.85       622\n",
      "weighted avg       0.86      0.86      0.86       622\n",
      "\n",
      "\n",
      "Confusion Matrix:\n",
      "[[349  33]\n",
      " [ 55 185]]\n",
      "\n",
      "ROC_AUC_Score:0.8422\n",
      "\n",
      "Average accuracy:\t0.7958\n",
      "Average std:\t\t0.0485\n",
      "\n",
      "*****************************************************************\n",
      "\n",
      "Testing Performance:\n",
      "\n",
      "\n",
      "Accuracy:0.8127\n",
      "\n",
      "Clasification Report:\n",
      "              precision    recall  f1-score   support\n",
      "\n",
      "           0       0.84      0.87      0.85       167\n",
      "           1       0.77      0.72      0.74       100\n",
      "\n",
      "    accuracy                           0.81       267\n",
      "   macro avg       0.80      0.79      0.80       267\n",
      "weighted avg       0.81      0.81      0.81       267\n",
      "\n",
      "\n",
      "Confusion Matrix:\n",
      "[[145  22]\n",
      " [ 28  72]]\n",
      "\n",
      "ROC_AUC_Score:0.7941\n",
      "\n"
     ]
    }
   ],
   "source": [
    "print_score(clfgb,x_train,y_train,x_test,y_test,part = 'train')\n",
    "print(\"\\n*****************************************************************\\n\")\n",
    "print_score(clfgb,x_train,y_train,x_test,y_test,part = 'test')"
   ]
  },
  {
   "cell_type": "markdown",
   "metadata": {
    "colab_type": "text",
    "id": "-P7lG3-nsP12"
   },
   "source": [
    "## **XGBoost:**\n",
    "\n",
    "an open-source software library which provides a gradient boosting framework for C++, Java, Python, R, Julia, Perl, and Scala. It works on Linux, Windows, and macOS. From the project description, it aims to provide a \"Scalable, Portable and Distributed Gradient Boosting Library\".\n",
    "\n",
    "**XG Boost : Extreme Gradient Boosting**\n",
    "\n",
    "A supervised ML algo. Having objective fn = training loss+Regularization\n",
    "\n",
    ">training loss measures hoe predictive our model is on training data.\n",
    "\n",
    "for Regression, MSE and for classification , Logarithmic.\n",
    "\n",
    ">Regularization term controls the complexity of model, avoid overfittig.\n",
    "\n",
    "XG Boost uses more regularized model , also called as regularized gradient boosting.\n",
    "\n"
   ]
  },
  {
   "cell_type": "markdown",
   "metadata": {
    "colab_type": "text",
    "id": "uVTVMZGZtN_O"
   },
   "source": [
    "........................................................................................................................................................................................................................\n"
   ]
  },
  {
   "cell_type": "markdown",
   "metadata": {
    "colab_type": "text",
    "id": "tJ4WerxgtapT"
   },
   "source": [
    "![ensemble.JPG](data:image/jpeg;base64,/9j/4AAQSkZJRgABAQEAeAB4AAD/4RDyRXhpZgAATU0AKgAAAAgABAE7AAIAAAANAAAISodpAAQAAAABAAAIWJydAAEAAAAaAAAQ0OocAAcAAAgMAAAAPgAAAAAc6gAAAAgAAAAAAAAAAAAAAAAAAAAAAAAAAAAAAAAAAAAAAAAAAAAAAAAAAAAAAAAAAAAAAAAAAAAAAAAAAAAAAAAAAAAAAAAAAAAAAAAAAAAAAAAAAAAAAAAAAAAAAAAAAAAAAAAAAAAAAAAAAAAAAAAAAAAAAAAAAAAAAAAAAAAAAAAAAAAAAAAAAAAAAAAAAAAAAAAAAAAAAAAAAAAAAAAAAAAAAAAAAAAAAAAAAAAAAAAAAAAAAAAAAAAAAAAAAAAAAAAAAAAAAAAAAAAAAAAAAAAAAAAAAAAAAAAAAAAAAAAAAAAAAAAAAAAAAAAAAAAAAAAAAAAAAAAAAAAAAAAAAAAAAAAAAAAAAAAAAAAAAAAAAAAAAAAAAAAAAAAAAAAAAAAAAAAAAAAAAAAAAAAAAAAAAAAAAAAAAAAAAAAAAAAAAAAAAAAAAAAAAAAAAAAAAAAAAAAAAAAAAAAAAAAAAAAAAAAAAAAAAAAAAAAAAAAAAAAAAAAAAAAAAAAAAAAAAAAAAAAAAAAAAAAAAAAAAAAAAAAAAAAAAAAAAAAAAAAAAAAAAAAAAAAAAAAAAAAAAAAAAAAAAAAAAAAAAAAAAAAAAAAAAAAAAAAAAAAAAAAAAAAAAAAAAAAAAAAAAAAAAAAAAAAAAAAAAAAAAAAAAAAAAAAAAAAAAAAAAAAAAAAAAAAAAAAAAAAAAAAAAAAAAAAAAAAAAAAAAAAAAAAAAAAAAAAAAAAAAAAAAAAAAAAAAAAAAAAAAAAAAAAAAAAAAAAAAAAAAAAAAAAAAAAAAAAAAAAAAAAAAAAAAAAAAAAAAAAAAAAAAAAAAAAAAAAAAAAAAAAAAAAAAAAAAAAAAAAAAAAAAAAAAAAAAAAAAAAAAAAAAAAAAAAAAAAAAAAAAAAAAAAAAAAAAAAAAAAAAAAAAAAAAAAAAAAAAAAAAAAAAAAAAAAAAAAAAAAAAAAAAAAAAAAAAAAAAAAAAAAAAAAAAAAAAAAAAAAAAAAAAAAAAAAAAAAAAAAAAAAAAAAAAAAAAAAAAAAAAAAAAAAAAAAAAAAAAAAAAAAAAAAAAAAAAAAAAAAAAAAAAAAAAAAAAAAAAAAAAAAAAAAAAAAAAAAAAAAAAAAAAAAAAAAAAAAAAAAAAAAAAAAAAAAAAAAAAAAAAAAAAAAAAAAAAAAAAAAAAAAAAAAAAAAAAAAAAAAAAAAAAAAAAAAAAAAAAAAAAAAAAAAAAAAAAAAAAAAAAAAAAAAAAAAAAAAAAAAAAAAAAAAAAAAAAAAAAAAAAAAAAAAAAAAAAAAAAAAAAAAAAAAAAAAAAAAAAAAAAAAAAAAAAAAAAAAAAAAAAAAAAAAAAAAAAAAAAAAAAAAAAAAAAAAAAAAAAAAAAAAAAAAAAAAAAAAAAAAAAAAAAAAAAAAAAAAAAAAAAAAAAAAAAAAAAAAAAAAAAAAAAAAAAAAAAAAAAAAAAAAAAAAAAAAAAAAAAAAAAAAAAAAAAAAAAAAAAAAAAAAAAAAAAAAAAAAAAAAAAAAAAAAAAAAAAAAAAAAAAAAAAAAAAAAAAAAAAAAAAAAAAAAAAAAAAAAAAAAAAAAAAAAAAAAAAAAAAAAAAAAAAAAAAAAAAAAAAAAAAAAAAAAAAAAAAAAAAAAAAAAAAAAAAAAAAAAAAAAAAAAAAAAAAAAAAAAAAAAAAAAAAAAAAAAAAAAAAAAAAAAAAAAAAAAAAAAAAAAAAAAAAAAAAAAAAAAAAAAAAAAAAAAAAAAAAAAAAAAAAAAAAAAAAAAAAAAAAAAAAAAAAAAAAAAAAAAAAAAAAAAAAAAAAAAAAAAAAAAAAAAAAAAAAAAAAAAAAAAAAAAAAAAAAAAAAAAAAAAAAAAAAAAAAAAAAAAAAAAAAAAAAAAAAAAAAAAAAAAAAAAAAAAAAAAAAAAAAAAAAAAAAAAAAAAAAAAAAAAAAAAAAAAAAAAAAAAAAAAAAAAAAAAAAAAAAAAAAAAAAAAAAAAAAAAAAAAAAAAAAAAAAAAAAAAAAAAAAAAAAAAAAAAAAAAAAAAAAAAAAAAAAAAAAAAAAAAAAAAAAAAAAAAAAAAAAAAAAAAAAAAAAAAAAAAAAAAAAAAAAAAAAAAAAAAAAAAAAAAAAAAAAAAAAAAAAAAAAAAAAAAAAAAAAAAAAAAAAAAAAAAAAAAAAAAAAAAAAAAAAAAAAAAAAAAAAAAAAAAAAAAAAAAAAAAAAAAAAAAAAAAAAAAAAAAAAAAAAAAAAAAAAAAAAAAAAAAAAAAAAAAAAAAAAAAAAAAAAAAAAAAAAAAAAAAAAAAAAAAAAAAAAAAAAAAAAAAAAAAAAAAAAAAAAAAAAAAAAAAAAAAAAAAAAAAAAAAAAAAAAAAAAAAAAAAAAAAAAAAAAAAAAAAAAAAAAAAAAAAAAAAAAAAAAAAAAAAAAAAAAAAAAAAAAAAAAAAAAAAAAAAAAAAAAAAAAAAAAAAAAAAAAAAAAAAAAAAAAAAAAAAAAAAAAAAAAAAAAAAAAAAAAAAAAAAAAAAAAAAAAAAAAAAAAAAAAAAAAAAAAAAAAAAAAAAAAAAAAAAAAAAAAAAAAAAAAAAAAAAAAAAAAAAAAAAAAAAAAAAAAAAAAAAAAAAAAAAAAAAAAAAAAAAAAAAAAAAAAAAAAAAAAAAAAAAAAAAAAAAAAAAAAAAAAAAAAAAAAAAAAAAAAAAAAAAAAAAAAAAAAAAAAAAAAAAAAAAAAAAAAAAAAAAAAAAAAAAAAAAAAAAAAHNuZWhhIHNodWtsYQAAAAWQAwACAAAAFAAAEKaQBAACAAAAFAAAELqSkQACAAAAAzIyAACSkgACAAAAAzIyAADqHAAHAAAIDAAACJoAAAAAHOoAAAAIAAAAAAAAAAAAAAAAAAAAAAAAAAAAAAAAAAAAAAAAAAAAAAAAAAAAAAAAAAAAAAAAAAAAAAAAAAAAAAAAAAAAAAAAAAAAAAAAAAAAAAAAAAAAAAAAAAAAAAAAAAAAAAAAAAAAAAAAAAAAAAAAAAAAAAAAAAAAAAAAAAAAAAAAAAAAAAAAAAAAAAAAAAAAAAAAAAAAAAAAAAAAAAAAAAAAAAAAAAAAAAAAAAAAAAAAAAAAAAAAAAAAAAAAAAAAAAAAAAAAAAAAAAAAAAAAAAAAAAAAAAAAAAAAAAAAAAAAAAAAAAAAAAAAAAAAAAAAAAAAAAAAAAAAAAAAAAAAAAAAAAAAAAAAAAAAAAAAAAAAAAAAAAAAAAAAAAAAAAAAAAAAAAAAAAAAAAAAAAAAAAAAAAAAAAAAAAAAAAAAAAAAAAAAAAAAAAAAAAAAAAAAAAAAAAAAAAAAAAAAAAAAAAAAAAAAAAAAAAAAAAAAAAAAAAAAAAAAAAAAAAAAAAAAAAAAAAAAAAAAAAAAAAAAAAAAAAAAAAAAAAAAAAAAAAAAAAAAAAAAAAAAAAAAAAAAAAAAAAAAAAAAAAAAAAAAAAAAAAAAAAAAAAAAAAAAAAAAAAAAAAAAAAAAAAAAAAAAAAAAAAAAAAAAAAAAAAAAAAAAAAAAAAAAAAAAAAAAAAAAAAAAAAAAAAAAAAAAAAAAAAAAAAAAAAAAAAAAAAAAAAAAAAAAAAAAAAAAAAAAAAAAAAAAAAAAAAAAAAAAAAAAAAAAAAAAAAAAAAAAAAAAAAAAAAAAAAAAAAAAAAAAAAAAAAAAAAAAAAAAAAAAAAAAAAAAAAAAAAAAAAAAAAAAAAAAAAAAAAAAAAAAAAAAAAAAAAAAAAAAAAAAAAAAAAAAAAAAAAAAAAAAAAAAAAAAAAAAAAAAAAAAAAAAAAAAAAAAAAAAAAAAAAAAAAAAAAAAAAAAAAAAAAAAAAAAAAAAAAAAAAAAAAAAAAAAAAAAAAAAAAAAAAAAAAAAAAAAAAAAAAAAAAAAAAAAAAAAAAAAAAAAAAAAAAAAAAAAAAAAAAAAAAAAAAAAAAAAAAAAAAAAAAAAAAAAAAAAAAAAAAAAAAAAAAAAAAAAAAAAAAAAAAAAAAAAAAAAAAAAAAAAAAAAAAAAAAAAAAAAAAAAAAAAAAAAAAAAAAAAAAAAAAAAAAAAAAAAAAAAAAAAAAAAAAAAAAAAAAAAAAAAAAAAAAAAAAAAAAAAAAAAAAAAAAAAAAAAAAAAAAAAAAAAAAAAAAAAAAAAAAAAAAAAAAAAAAAAAAAAAAAAAAAAAAAAAAAAAAAAAAAAAAAAAAAAAAAAAAAAAAAAAAAAAAAAAAAAAAAAAAAAAAAAAAAAAAAAAAAAAAAAAAAAAAAAAAAAAAAAAAAAAAAAAAAAAAAAAAAAAAAAAAAAAAAAAAAAAAAAAAAAAAAAAAAAAAAAAAAAAAAAAAAAAAAAAAAAAAAAAAAAAAAAAAAAAAAAAAAAAAAAAAAAAAAAAAAAAAAAAAAAAAAAAAAAAAAAAAAAAAAAAAAAAAAAAAAAAAAAAAAAAAAAAAAAAAAAAAAAAAAAAAAAAAAAAAAAAAAAAAAAAAAAAAAAAAAAAAAAAAAAAAAAAAAAAAAAAAAAAAAAAAAAAAAAAAAAAAAAAAAAAAAAAAAAAAAAAAAAAAAAAAAAAAAAAAAAAAAAAAAAAAAAAAAAAAAAAAAAAAAAAAAAAAAAAAAAAAAAAAAAAAAAAAAAAAAAAAAAAAAAAAAAAAAAAAAAAAAAAAAAAAAAAAAAAAAAAAAAAAAAAAAAAAAAAAAAAAAAAAAAAAAAAAAAAAAAAAAAAAAAAAAAAAAAAAAAAAAAAAAAAAAAAAAAAAAAAAAAAAAAAAAAAAAAAAAAAAAAAAAAAAAAAAAAAAAAAAAAAAAAAAAAAAAAAAAAAAAAAAAAAAAAAAAAAAAAAAAAAAAAAAAAAAAAAAAAAAAAAAAAAAAAAAAAAAAAAAAAAAAAAAAAAAAAAAAAAAAAAAAAAAAAAAAAAAAAAAAAAAAAAAAAAAAAAAAAAAAAAAAAAAAAAAAAAAAAAAAAAAAAAAAAAAAAAAAAAAAAAAAAAAAAAAAAAAAAAAAAAAAAAAAAAAAAAAAAAAAAAAAAAAAAAAAAAAAAAAAAAAAAAAAAAAAAAAAAAAAAAAAAAAAAAAAAAAAAAAAAAAAAAAAAAAAAAAAAAAAAAAAAAAAAAAAAAAAAAAAAAAAAAAAAAAAAAAAAAAAAAAAAAAAAAAAAAAAAAAAAAAAAAAAAAAAAAAAAAAAAAAAAAAAAAAAAAAAAAAAAAAAAAAAAAAAAAAAAAAAAAAAAAAAAAAAAAAAAAAAAAAAAAAAAAAAAAAAAAAAAAAAAAAAAAAAAAAAAAAAAAAAAAAAAAAAAAAAAAAAAAAAAAAAAAAAAAAAAAAAAAAAAAAAAAAAAAAAAAAAAAAAAAAAAAAAAAAAAAAAAAAAAAAAAAAAAAAAAAAAAAAAAAAAAAAAAAAAAAAAAAAAAAAAAAAAAAAAAAAAAAAAAAAAAAAAAAAAAAAAAAAAAAAAAAAAAAAAAAAAAAAAAAAAAAAAAAAAAAAAAAAAAAAAAAAAAAAAAAAAAAAAAAAAAAAAAAAAAAAAAAAAAAAAAAAAAAAAAAAAAAAAAAAAAAAAAAAAAAAAAAAAAAAAAAAAAAAAAAAAAAAAAAAAAAAAAAAAAAAAAAAAAAAAAAAAAAAAAAAAyMDIwOjA4OjE2IDE5OjU5OjUyADIwMjA6MDg6MTYgMTk6NTk6NTIAAABzAG4AZQBoAGEAIABzAGgAdQBrAGwAYQAAAP/hCx9odHRwOi8vbnMuYWRvYmUuY29tL3hhcC8xLjAvADw/eHBhY2tldCBiZWdpbj0n77u/JyBpZD0nVzVNME1wQ2VoaUh6cmVTek5UY3prYzlkJz8+DQo8eDp4bXBtZXRhIHhtbG5zOng9ImFkb2JlOm5zOm1ldGEvIj48cmRmOlJERiB4bWxuczpyZGY9Imh0dHA6Ly93d3cudzMub3JnLzE5OTkvMDIvMjItcmRmLXN5bnRheC1ucyMiPjxyZGY6RGVzY3JpcHRpb24gcmRmOmFib3V0PSJ1dWlkOmZhZjViZGQ1LWJhM2QtMTFkYS1hZDMxLWQzM2Q3NTE4MmYxYiIgeG1sbnM6ZGM9Imh0dHA6Ly9wdXJsLm9yZy9kYy9lbGVtZW50cy8xLjEvIi8+PHJkZjpEZXNjcmlwdGlvbiByZGY6YWJvdXQ9InV1aWQ6ZmFmNWJkZDUtYmEzZC0xMWRhLWFkMzEtZDMzZDc1MTgyZjFiIiB4bWxuczp4bXA9Imh0dHA6Ly9ucy5hZG9iZS5jb20veGFwLzEuMC8iPjx4bXA6Q3JlYXRlRGF0ZT4yMDIwLTA4LTE2VDE5OjU5OjUyLjIxNzwveG1wOkNyZWF0ZURhdGU+PC9yZGY6RGVzY3JpcHRpb24+PHJkZjpEZXNjcmlwdGlvbiByZGY6YWJvdXQ9InV1aWQ6ZmFmNWJkZDUtYmEzZC0xMWRhLWFkMzEtZDMzZDc1MTgyZjFiIiB4bWxuczpkYz0iaHR0cDovL3B1cmwub3JnL2RjL2VsZW1lbnRzLzEuMS8iPjxkYzpjcmVhdG9yPjxyZGY6U2VxIHhtbG5zOnJkZj0iaHR0cDovL3d3dy53My5vcmcvMTk5OS8wMi8yMi1yZGYtc3ludGF4LW5zIyI+PHJkZjpsaT5zbmVoYSBzaHVrbGE8L3JkZjpsaT48L3JkZjpTZXE+DQoJCQk8L2RjOmNyZWF0b3I+PC9yZGY6RGVzY3JpcHRpb24+PC9yZGY6UkRGPjwveDp4bXBtZXRhPg0KICAgICAgICAgICAgICAgICAgICAgICAgICAgICAgICAgICAgICAgICAgICAgICAgICAgICAgICAgICAgICAgICAgICAgICAgICAgICAgICAgICAgICAgICAgICAgICAgICAgIAogICAgICAgICAgICAgICAgICAgICAgICAgICAgICAgICAgICAgICAgICAgICAgICAgICAgICAgICAgICAgICAgICAgICAgICAgICAgICAgICAgICAgICAgICAgICAgICAgICAgCiAgICAgICAgICAgICAgICAgICAgICAgICAgICAgICAgICAgICAgICAgICAgICAgICAgICAgICAgICAgICAgICAgICAgICAgICAgICAgICAgICAgICAgICAgICAgICAgICAgICAKICAgICAgICAgICAgICAgICAgICAgICAgICAgICAgICAgICAgICAgICAgICAgICAgICAgICAgICAgICAgICAgICAgICAgICAgICAgICAgICAgICAgICAgICAgICAgICAgICAgIAogICAgICAgICAgICAgICAgICAgICAgICAgICAgICAgICAgICAgICAgICAgICAgICAgICAgICAgICAgICAgICAgICAgICAgICAgICAgICAgICAgICAgICAgICAgICAgICAgICAgCiAgICAgICAgICAgICAgICAgICAgICAgICAgICAgICAgICAgICAgICAgICAgICAgICAgICAgICAgICAgICAgICAgICAgICAgICAgICAgICAgICAgICAgICAgICAgICAgICAgICAKICAgICAgICAgICAgICAgICAgICAgICAgICAgICAgICAgICAgICAgICAgICAgICAgICAgICAgICAgICAgICAgICAgICAgICAgICAgICAgICAgICAgICAgICAgICAgICAgICAgIAogICAgICAgICAgICAgICAgICAgICAgICAgICAgICAgICAgICAgICAgICAgICAgICAgICAgICAgICAgICAgICAgICAgICAgICAgICAgICAgICAgICAgICAgICAgICAgICAgICAgCiAgICAgICAgICAgICAgICAgICAgICAgICAgICAgICAgICAgICAgICAgICAgICAgICAgICAgICAgICAgICAgICAgICAgICAgICAgICAgICAgICAgICAgICAgICAgICAgICAgICAKICAgICAgICAgICAgICAgICAgICAgICAgICAgICAgICAgICAgICAgICAgICAgICAgICAgICAgICAgICAgICAgICAgICAgICAgICAgICAgICAgICAgICAgICAgICAgICAgICAgIAogICAgICAgICAgICAgICAgICAgICAgICAgICAgICAgICAgICAgICAgICAgICAgICAgICAgICAgICAgICAgICAgICAgICAgICAgICAgICAgICAgICAgICAgICAgICAgICAgICAgCiAgICAgICAgICAgICAgICAgICAgICAgICAgICAgICAgICAgICAgICAgICAgICAgICAgICAgICAgICAgICAgICAgICAgICAgICAgICAgICAgICAgICAgICAgICAgICAgICAgICAKICAgICAgICAgICAgICAgICAgICAgICAgICAgICAgICAgICAgICAgICAgICAgICAgICAgICAgICAgICAgICAgICAgICAgICAgICAgICAgICAgICAgICAgICAgICAgICAgICAgIAogICAgICAgICAgICAgICAgICAgICAgICAgICAgICAgICAgICAgICAgICAgICAgICAgICAgICAgICAgICAgICAgICAgICAgICAgICAgICAgICAgICAgICAgICAgICAgICAgICAgCiAgICAgICAgICAgICAgICAgICAgICAgICAgICAgICAgICAgICAgICAgICAgICAgICAgICAgICAgICAgICAgICAgICAgICAgICAgICAgICAgICAgICAgICAgICAgICAgICAgICAKICAgICAgICAgICAgICAgICAgICAgICAgICAgICAgICAgICAgICAgICAgICAgICAgICAgICAgICAgICAgICAgICAgICAgICAgICAgICAgICAgICAgICAgICAgICAgICAgICAgIAogICAgICAgICAgICAgICAgICAgICAgICAgICAgICAgICAgICAgICAgICAgICAgICAgICAgICAgICAgICAgICAgICAgICAgICAgICAgICAgICAgICAgICAgICAgICAgICAgICAgCiAgICAgICAgICAgICAgICAgICAgICAgICAgICAgICAgICAgICAgICAgICAgICAgICAgICAgICAgICAgICAgICAgICAgICAgICAgICAgICAgICAgICAgICAgICAgICAgICAgICAKICAgICAgICAgICAgICAgICAgICAgICAgICAgICAgICAgICAgICAgICAgICAgICAgICAgICAgICAgICAgICAgICAgICAgICAgICAgICAgICAgICAgICAgICAgICAgICAgICAgIAogICAgICAgICAgICAgICAgICAgICAgICAgICAgICAgICAgICAgICAgICAgICAgICAgICAgICAgICAgICAgICAgICAgICAgICAgICAgICAgICAgICAgICAgICAgICAgICAgICAgCiAgICAgICAgICAgICAgICAgICAgICAgICAgICA8P3hwYWNrZXQgZW5kPSd3Jz8+/9sAQwAHBQUGBQQHBgUGCAcHCAoRCwoJCQoVDxAMERgVGhkYFRgXGx4nIRsdJR0XGCIuIiUoKSssKxogLzMvKjInKisq/9sAQwEHCAgKCQoUCwsUKhwYHCoqKioqKioqKioqKioqKioqKioqKioqKioqKioqKioqKioqKioqKioqKioqKioqKioq/8AAEQgBzAMeAwEiAAIRAQMRAf/EAB8AAAEFAQEBAQEBAAAAAAAAAAABAgMEBQYHCAkKC//EALUQAAIBAwMCBAMFBQQEAAABfQECAwAEEQUSITFBBhNRYQcicRQygZGhCCNCscEVUtHwJDNicoIJChYXGBkaJSYnKCkqNDU2Nzg5OkNERUZHSElKU1RVVldYWVpjZGVmZ2hpanN0dXZ3eHl6g4SFhoeIiYqSk5SVlpeYmZqio6Slpqeoqaqys7S1tre4ubrCw8TFxsfIycrS09TV1tfY2drh4uPk5ebn6Onq8fLz9PX29/j5+v/EAB8BAAMBAQEBAQEBAQEAAAAAAAABAgMEBQYHCAkKC//EALURAAIBAgQEAwQHBQQEAAECdwABAgMRBAUhMQYSQVEHYXETIjKBCBRCkaGxwQkjM1LwFWJy0QoWJDThJfEXGBkaJicoKSo1Njc4OTpDREVGR0hJSlNUVVZXWFlaY2RlZmdoaWpzdHV2d3h5eoKDhIWGh4iJipKTlJWWl5iZmqKjpKWmp6ipqrKztLW2t7i5usLDxMXGx8jJytLT1NXW19jZ2uLj5OXm5+jp6vLz9PX29/j5+v/aAAwDAQACEQMRAD8A9Y+Kfi/UvB2i2d5pPlGSacxsJU3DG0n+leW/8L08V/8APOx/78n/ABrtPj9/yKmm/wDX5/7Ia8Cr0sNShKneSPOxFWcZ2TPSf+F6eK/+edj/AN+T/jR/wvTxX/zzsf8Avyf8a82orp9hS7HP7ep3PSf+F6eK/wDnnY/9+T/jR/wvTxX/AM87H/vyf8a82oo9hS7B7ep3PSf+F6eK/wDnnY/9+T/jR/wvTxX/AM87H/vyf8a82oo9hS7B7ep3PSf+F6eK/wDnnY/9+T/jR/wvTxX/AM87H/vyf8a82oo9hS7B7ep3PSf+F6eK/wDnnY/9+T/jR/wvTxX/AM87H/vyf8a82oo9hS7B7ep3PSf+F6eK/wDnnY/9+T/jR/wvTxX/AM87H/vyf8a82r0zTfCHhnw54LtPEHjhbm6l1Dm2soHKfLjIJIIPTnr3FROlRgruJUalWbsmM/4Xp4r/AOedj/35P+NH/C9PFf8Azzsf+/J/xq34T0rwVrnxD09NFtZZLKa2laeyvRu8px0wec/ma5K08Ea14i1jUF0CwMlvb3DoXLBETngZJ9KlQo3s420v+Ni+era6lfW34XOi/wCF6eK/+edj/wB+T/jR/wAL08V/887H/vyf8a4/VfCOuaLq8Omahp8iXdwQIUXDeZk44I4NW9b+H/iTw7pq3+q2HlW5YKWEqsVJ6AgGq9nQ021J9pXu1rodL/wvTxX/AM87H/vyf8aP+F6eK/8AnnY/9+T/AI1z8/w38U22htqs+mGO2SPzW3SKGVPUrnP9avXvh/7f4T8Ox6V4bmgv71yovDOpF0cdhu49ecUvZ0eiXYFUrdX5ml/wvTxX/wA87H/vyf8AGj/heniv/nnY/wDfk/411Xifwta6GdF0y18GWt9YSNGk10rKs8kvPybsg84zzx715pqPhq91fx1faX4f0Sa3dJDizLhvJA9Wzj9amEaM9o9/wLnKtBavt+J0P/C9PFf/ADzsf+/J/wAaP+F6eK/+edj/AN+T/jXJ+IfBmu+F1ibWbEwxynCSqwdSfTI71Zl+HfiiCxuby40t4oLWITSO0i424zxzzx2q/Z0LX0I9pXvbU6P/AIXp4r/552P/AH5P+NH/AAvTxX/zzsf+/J/xrzair9hS7Ee3qdz0n/heniv/AJ52P/fk/wCNH/C9PFf/ADzsf+/J/wAa82oo9hS7B7ep3PSf+F6eK/8AnnY/9+T/AI0f8L08V/8APOx/78n/ABrzaij2FLsHt6nc9J/4Xp4r/wCedj/35P8AjR/wvTxX/wA87H/vyf8AGvNqKPYUuwe3qdz0n/heniv/AJ52P/fk/wCNH/C9PFf/ADzsf+/J/wAa82oo9hS7B7ep3PSf+F6eK/8AnnY/9+T/AI0f8L08V/8APOx/78n/ABrzaij2FLsHt6nc9Uu/jV4ogs7GVFsi1xC0jAwnAIkdeOfRRVT/AIXp4r/552P/AH5P+NcPqX/IM0j/AK9n/wDR0lZ1TGhTtsVKtUvuek/8L08V/wDPOx/78n/Gj/heniv/AJ52P/fk/wCNebUVXsKXYn29Tuek/wDC9PFf/POx/wC/J/xo/wCF6eK/+edj/wB+T/jXm1eo+ANE8BeKntdKnstS/tTyC80hk2xkjrjDZ7+lROlSir8pUatWTtzFf/heniv/AJ52P/fk/wCNH/C9PFf/ADzsf+/J/wAaz9e0nw5q2pRaN4B03UDqizOki3Ei7XCg5wS3t7VjXvgXxHp8Ni93pkiG/k8u3jyC7N6YB4pRhRaWlrlSnWTavex1P/C9PFf/ADzsf+/J/wAaP+F6eK/+edj/AN+T/jWDqXwz8V6Tpb6he6YRBEN0myVWKD1IBqW+0uBvh3pFxb+H5Ybq4uDH/aJmBWc5I2hc5H4gdKPZ0OiT6C563V26mz/wvTxX/wA87H/vyf8AGj/heniv/nnY/wDfk/41iW/ws8Y3DTqujSKYPvb5EGTjOAc8/hXKTwS21w8E6NHLGxV0YYKkdRVKlQk7JITqVkrts9G/4Xp4r/552P8A35P+NH/C9PFf/POx/wC/J/xrzaiq9hS7E+3qdz0n/heniv8A552P/fk/40f8L08V/wDPOx/78n/GvNqKPYUuwe3qdz1TUfjV4os7iNI1siHt4pTuhPVkVj39TVT/AIXp4r/552P/AH5P+NcPrf8Ax+Qf9edv/wCiVrOqY0KbitCpVqib1PSf+F6eK/8AnnY/9+T/AI0f8L08V/8APOx/78n/ABrzaiq9hS7E+3qdz0n/AIXp4r/552P/AH5P+NH/AAvTxX/zzsf+/J/xrzarujPpqaxbtrkc0lgG/fJAcORjtyO+KPYUv5Q9vU7nef8AC9PFf/POx/78n/Gj/heniv8A552P/fk/41tf8I98Nv8AhC/+En/s/VfsXneTs8395nOOm7GOPWuBh8MzeK/EF3H4J0+4exQ5Tz2AMa/7TE4/WsYxoyb921jWUqsUnzXudJ/wvTxX/wA87H/vyf8AGj/heniv/nnY/wDfk/41x+s+Edc0DUYbHU7CSOe4IEIXDCTnHykda0r74Z+K9Ps47m60zakjpGAJkJDMcKCM8ZJFX7OhZPTUn2le7Wuhvf8AC9PFf/POx/78n/Gj/heniv8A552P/fk/41B4y+Fd74c0O01KyiuJoxbh78yOmIH4GBjBIye2a89ohToTV4oJVK0PiZ6T/wAL08V/887H/vyf8aP+F6eK/wDnnY/9+T/jXm1FX7Cl2I9vU7npP/C9PFf/ADzsf+/J/wAaP+F6eK/+edj/AN+T/jXm1FHsKXYPb1O56o/xq8ULo8N2Fst8lxJER5JxhVQjv/tGqn/C9PFf/POx/wC/J/xrh5f+RXtf+vyb/wBAirOqY0KfYqVap3PSf+F6eK/+edj/AN+T/jR/wvTxX/zzsf8Avyf8a82oALMAoyScACq+r0v5Sfb1O56T/wAL08V/887H/vyf8aP+F6eK/wDnnY/9+T/jWrqPwu0eDwNObdpW8Q2llHdzp5hIwckjH0B/KvM7Xw9qt7otzq1raNJY2rbZpQy/IeO2c9x2rKMaEr6bGkpV4pa7nb/8L08V/wDPOx/78n/Gj/heniv/AJ52P/fk/wCNcQnh7VZNBOspZsdPEnlefuHLegGcn8q2j8MfFw0o6gdIfygm/ZvXzNvrtzn8OtU6dBbpEqpWe1zd/wCF6eK/+edj/wB+T/jR/wAL08V/887H/vyf8a5LR/Buv69bi40nTpLiEzeRvDKMPjODk5HHfpVqy+HfibUNTu7G104tLZv5c7GRQiN6bicH8KHToJ2aQKpWeqbOj/4Xp4r/AOedj/35P+NH/C9PFf8Azzsf+/J/xrjtZ8J63oOqRafqdhJHcz48lVIbzMnHBHWtj/hVPjEpuj0oSEDLItxHuT6jdxR7OglfSw/aV721Nn/heniv/nnY/wDfk/40f8L08V/887H/AL8n/GuX0LwH4i8RxyS6Vp7SRRMUaR3VF3egJPP4Vl6to9/oWovY6tbPbXEfVG/mCOCKfsqN7WVxe1rWvdnef8L08V/887H/AL8n/Gj/AIXp4r/552P/AH5P+NebUVXsKXYn29TueqWXxq8UXMF67rZA29v5q4hPJ3qvPPoxqp/wvTxX/wA87H/vyf8AGuH0r/j01X/rz/8AasdZ1SqFO70KdapZanpP/C9PFf8Azzsf+/J/xo/4Xp4r/wCedj/35P8AjXm1FV7Cl2J9vU7npP8AwvTxX/zzsf8Avyf8aP8Aheniv/nnY/8Afk/415tRR7Cl2D29Tuek/wDC9PFf/POx/wC/J/xo/wCF6eK/+edj/wB+T/jS6L4U8P6Z8OYvFPiHT7rVjcSlBBbymNYlyRkkfT9RVPw74O0rxx40eHQYr220VIw0zO6+ZCxHTnORkH1rLko3a5djTnrWT5ty3/wvTxX/AM87H/vyf8aP+F6eK/8AnnY/9+T/AI1zmseAtc03xQujR2ErzXDMbVdykyICQGODgdO+K7Hw/wDDi50jw94mk8VaRH5sViZLSViHCsA2SCOh6UpRoKHNZDUq7ly3KP8AwvTxX/zzsf8Avyf8aP8Aheniv/nnY/8Afk/415tRW3sKXYy9vU7npP8AwvTxX/zzsf8Avyf8aP8Aheniv/nnY/8Afk/415tRR7Cl2D29Tuek/wDC9PFf/POx/wC/J/xr034V+M9T8ZadfXGreSGglCIIk2jGM/1r5pr3b9n7/kBar/18r/6CK58RShGneKOjD1ZyqWbJ/j9/yKmm/wDX5/7Ia8Cr334/f8ippv8A1+f+yGvAq0wn8IzxX8QKKKK6jlCiiigAooooAKKKKACiiigAr2TxlpN540+GfhnUPDsLXn2OHypoYuWU7VB49iv6143WnpHiPWNBLf2PqVzaB+WWKQgN9R0rOpBySa3RpTkot32asd/8LPDmraD8RtPbWLKS0+020zRLJgMQAM8dR+NSaT4Xt7rw/rOs3/8AamowpqUiJpmnuRls43MBn/8AVXn03inXp9TXUZdXvDeKpVZ/OYMoPUA54FJpnifW9GaY6Zql1bGc5l8uQjefU+/vWcqc5Pmvrb9bmkakIrltpe/4WPXPHEt9p+o+A5tI06V7yCJzHZzPufhUyhPc4zVDxZottrfhi68WWVlqOi6iLpBPZXZISeQsOQG68nrwOvFeXS+INXmmt5ptTu5JLVi0DtMxMRPJKnPFTar4q1zW4449V1S6uo4zuVJJCQD649fekqMlaz2f63G6sXe60a/Sx63qenJ450nUb3V9L1Hw/renWZ8yckiCYAH5eeCDjt69TXPeLnaL4O+DmjYqys2GU4I4ribzxh4h1DTvsN7rN5NbYwY3lJDD39az59Uv7mxgs7i8nltbf/UwvISkf0HQURpSTXa6f5g6sfnZr8j2nxZLJ/wujwnHvbYYYmK54zl+avaN9nk8TfEKIQSXF0zD9zC+ySRMHIU9q8Nm13Vbi/hvZ9SupLqAARTvMxeMDpg5yKIdc1W31VtTh1C5S+Y5a4Ep3sfc9TU/V3y8t+j/ABaY/bpSvbt+CaO/8R6wIfh0+jW/hbVdPtPtSstxfuxCP1wNyjrg/rVj41aneR32j2UdzIlsdPVzErYDEkgk+vAFef6t4p1zXYli1fVLm6jQ7lSSQlQfXHrVO/1O+1SRJNSvJ7t40CI00hcqo7DParVJ3Tfe/wCFiXVVml2t+NyrRRRXQc4UUUUAFFFFABRRRQAUUUUAFFFFAGjqX/IM0j/r2f8A9HSVnVo6l/yDNI/69n/9HSVnVMdipbhRRRVEhXofwR/5KMn/AF6yf0rzyrNhqN7pd0LnTbqa0nAIEkLlGwe2RUyXNFruOLtJM7v4e/8AJbU/6+J/5NUTJf8Aiv4ySafcarcQZv5VSVXIMYXPC+hwMVxNtqN7ZXwvbS7mgugSRPHIVfJ68jmmLe3S3321biUXW/zPODnfuznOeuazVO0k+ysaupdNd3c980LSbPSrXxZbWel6rAsdpJG93fyErckK3KjH45HrXLXf/JHPCH/YUH/obVwN14z8SXrE3Ot3z5jMR/fsMqeo+hrPbVtRaxhs2vrg2tu++KEynZG3qB0BrONGSd2+q/C5cq0WrJd/xse1eINVv4/j7o1ol3MtsEQeUHO3DIc8e9eXfENQvxE1oKMD7W/T61ky63qk2ppqM2o3T3seNlw0rGRcdMNnNVbm5nvLmS4u5nnmkbc8kjFmY+pJ61VOi4NeSf5iqVedNd7fgiOiiiug5wooooA0db/4/IP+vO3/APRK1nVo63/x+Qf9edv/AOiVrOqY/CipfEwoooqiQooooA9RH/JuA/6//wD2Y1o/D9bWf4O6tELG4v5BdZuLazk2Suvy4wRzj2+teT/2rf8A9mf2d9tn+xbt/wBm8w+Xu9dvTNSaVrepaJcGfSb6ezkYYZoXK7h7+tYSpNqSvu7/AJf5G8aqTi+y/wA/8z0jWfEF81r4ZstK8L6haSWV3us/t7ktLj+AbgD6Vd8WaVbeJPCuq+KBY6loGp27L9phuCwjnOR0z1+oxzXmGoeJ9b1W6hudQ1S6nmgO6F3lP7s+q+n4U/VPFeva1arb6rqt1dQqciOSQlc+uO5qfYy0to7le1jfXax6J8T7TUrzwf4bvLSOeazj09TcSJkqOFxuryStT/hJta/sT+yDqdydPxj7OZDtxnOMentWXWtOLhdebMpyUregUUUVoZhRRRQBoy/8iva/9fk3/oEVZ1aMv/Ir2v8A1+Tf+gRVnVMdipbhXVfDbQv7f8d2Fu65ghbz5vTavP8APArlatWGp32lyvJpt5PaPIpR2hkKFl9DjtTd7O24la+p7vpWu+FZ/iXdXcXiGWe41Ffshs2gIjwOAA2Pb9awPB1iuj+O/Engi9OLbUInWHd34JU/98nP4V5BFNLDOs0MjJKjBldTgqR3B9atya5qs2qLqUuo3T3yY23LTMZBgY+9nPSub6vZWvpa3+R0uvd3t1ueta39m8LSeCvCVyyBIbhLm8543FuM/iTW1rV//YnxHlv7fwrrV/dlQqTwTMYZEK9MYIArwa/1K91S6NzqV3NdzkAGWaQu2B7mtWLxz4nhsRaRa7fLCF2hRMeB6ZodCTV7663+YKtG9raaW+R6Dp2q3EHwZ8TX1jvspJdSbCqeYwxXK5+hxWV4R8OR6j4Hvdc1V9V1NBc7Rp1jIcu2B87dTXALquoLp8lgt7cC0lffJAJDsdvUr0JqfSfEesaEsi6RqNxZrL98RSFQ34VXsmk7dbfhYn2qbV+l/wAbntHiSFk1/wCHaRQG1ZSwEV2+5kAC/Kx7n+tR+I4G8NQ+KL3TtM1q6udVDK7SRDyYRk5YFSSRycV5h4b8YTWPirTdQ8Qy3Op21m7MsUkhcpuHJUE4znmu5j+I2haRealqVrq2tarLeI4jsbkAQxlueee3tWE6c4pJa7/i72NqdSLbb02/Bbl9Usrj4P8Ah8jSL/VYIyfNj0+UqySdywAJPOa4f4na3LrWqae1xo91pbw2oQLdHMki5OCeAfzrntM8U61orSf2RqVxZpIxZkikIUn6dKqalqt/rF2brVLua7nIx5kzljj05reNJqfN53+8xdVcnKu1ipRRRXQc5o6V/wAemq/9ef8A7VjrOrR0r/j01X/rz/8AasdZ1St2U9kFFFFUSFFFFAHp/gO+8c+H7G1Fjo8mp6LencsTKHXBOCQR938eK6r+ztN0b49abHpKpa/arVpLi3jOFVyrcYHtzXj2meLvEGjWpttL1e7toP8AnnHKQo+g7VRGqXw1IagLyb7YH3i48w793rnrXPKk5TcvX8e5vGolDl9D2LwTZX9j8WNaXU4pYbmeCY2Rn/iG/que1O8Laf4msfBvjE+JFukjkt5DEtw+cttbcQPTpzXk134o1y+1OHUbrVLqS8gGIpjIdyD2Pan3ni7xDfvI13rN7IZY/KcGZsMndSPT2qHQk4202t9xp7aPNfXe5j0UUV1nIFFFFABXu37P3/IC1X/r5X/0EV4TXu37P3/IC1X/AK+V/wDQRXLiv4R04X+IT/H7/kVNN/6/P/ZDXgVe+/H7/kVNN/6/P/ZDXgVGE/hDxX8QKKKK6jlCiiigAooooAKKKKACiiigAooooAKKKKACiiigAooooAKKKKACiiigAooooAKKKKACiiigAooooAKKKKACiiigDR1L/kGaR/17P/6OkrOrR1L/AJBmkf8AXs//AKOkrOqY7FS3CpreyursMbW2mnCct5cZbb9cVDXtvgS8t/AvhHQ5LtF8/wAQ33z7hysWNoP6qfxNKpJxjdbjhHmlZ7HiVFd7rHgKaf4uS+HbU+TFczGWOTHCxEbs/gOKj8R6H4Nt2uNM0C91KTWLeZYFE6qYrht20gEdMfhUxqqSjbqVKk4uXkcNRXpGueEPBnhcLpOtalqP9sNb+a00KKYY2IyFI64rF1bwhaaf8NtJ8RxXEz3F7M0bxtjYAN3TjPb1oVWLV/kHspJ2+ZyNFekS/DbTY9f8K2AvLox61b+bO2Vyh25+Xj+eap+JfDPg/Q9Sg0lNYu2vI7nZezGMMkaYPQAcsOBR7WN7f1vYPZytf+tdTg6K9Qh8CeFte0HU5vDz6zBc6fAZlkvogsc4AJ4x9Pas3RvB+g2XguLxL4xubxYbqUx21vZhdzYzyc/Q0e2jr/W4eylp/WxwNFd/D4I0HWfDuvah4b1G8uJtMIkijlVRviKgnIxnI+YfhWbqvhG00j4daXrlzcTDUdRlPl2/GwRjPPTOenfvT9rH8vxF7OX5/gclRRRWhmaOt/8AH5B/152//olazq0db/4/IP8Arzt//RK1nVMfhRUviYVNb2dzeFhaW005UZYRRlsfXFQ17J4BvIPAvgix1S8RfO1zUEj+YfdhHGf6/jSnLljdbjhHmdmeNkEEgjBHUGiu88aeDZV+KzaRYgImpTLLA2OAr8k/Qc/lT/E/h7wTon2zSYNQ1JtZtE/1jIphkk7pxyKiNVOKfcuVJqTXY4CivSr3wZ4R8L2VhbeLdQ1BdTvoRKTaqpjtwemQeT+vSsWTwfYj4Yv4mjup3nF4YFTgIVyRnGM5/Gn7WP8AX3C9lL+vS5x9Fd9L4BsE0vwldC6ud+uShJxlcRg4+7x7981J4w8I+EvC8x0savdyan56b2KApDEx74HLAc8U/axvb5fcL2crX8rnntFeqaR4E8IeJYrmz0ObWlu4oDLHd3MIWGUj046fkaxfDXg3SG8K3XibxXc3MdhFN5EUNqBvlbp3/wA8UvbR18v1H7KWnmcLRXommeCfDPiZNZ/4RvUb6Sa1thcW0UyqCeDlW45IIxx6isn/AIRC0tvhkfEl/PNHdzXPk2sK42sAeSeM9j39KPax6+X4h7KXTz/A5GiiitTI0Zf+RXtf+vyb/wBAirOrRl/5Fe1/6/Jv/QIqzqmOxUtwooro/Ctj4culnk8RT6gzqQIbSwiDPJ6kk8Ypt2VxJXdjnKK9B8VfDy1tZNBm8OSXRg1pxGkV4oDxNx1x9f0pfEvhnwT4d+1aRLqOpNrNvDu83YphaTGQmOoz/k1n7aLWn9WNPZSv/XU89or0iXwZ4U8N6NpreMb3UBfalH5irZqpWBT3Oev+eKyk8HadL8OtT8Rw3k8klreeRCMAI6ZGCRjOefWj2sf69bB7OWn9dLnGUV3D+BrFfCfhvVRc3Hm6tdiCZMrtQFsZXjr9c1d8Z+DvCfhMS6f/AGreS6ozI0YKgrFGSM7sDk4yaftY35fOwlTk1zeVzzqivVNC8DeDfEsj6dpNxrZuhEXS+lhCwOR6cdKxfDPgnTZND1LXvFN1cQ6bYS+SEtgN8r5xxn60vbR1v0H7KWljhaK9F0fwX4V8VXuoweHdR1AyR2f2i2inCg7+co3HP8PT1rJtvB1qnw4vfEepzzwzrceRawrgLIc4OcjP97p6Ue1j18vxD2Unt/VtTkKKKK1MjR0r/j01X/rz/wDasdZ1aOlf8emq/wDXn/7VjrOqVuynsgoooqiQooooAKKKKACiiigAooooAKKKKACvdv2fv+QFqv8A18r/AOgivCa92/Z+/wCQFqv/AF8r/wCgiuXFfwjpwv8AEJ/j9/yKmm/9fn/shrwKvp34meE5vGOnWOnW9yls0crTb3XcCAMY/wDHq85/4UPqH/Qat/8Avyf8axw9anCFpM2xFGc53ijyiivV/wDhQ+of9Bq3/wC/J/xo/wCFD6h/0Grf/vyf8a6PrNLuYfV6vY8oor1f/hQ+of8AQat/+/J/xo/4UPqH/Qat/wDvyf8AGj6zS7h9Xq9jyiivV/8AhQ+of9Bq3/78n/Gj/hQ+of8AQat/+/J/xo+s0u4fV6vY8oor1f8A4UPqH/Qat/8Avyf8aP8AhQ+of9Bq3/78n/Gj6zS7h9Xq9jyiivV/+FD6h/0Grf8A78n/ABo/4UPqH/Qat/8Avyf8aPrNLuH1er2PKKK9X/4UPqH/AEGrf/vyf8aP+FD6h/0Grf8A78n/ABo+s0u4fV6vY8oor1f/AIUPqH/Qat/+/J/xo/4UPqH/AEGrf/vyf8aPrNLuH1er2PKKK9X/AOFD6h/0Grf/AL8n/Gj/AIUPqH/Qat/+/J/xo+s0u4fV6vY8oor1f/hQ+of9Bq3/AO/J/wAaP+FD6h/0Grf/AL8n/Gj6zS7h9Xq9jyiivV/+FD6h/wBBq3/78n/Gj/hQ+of9Bq3/AO/J/wAaPrNLuH1er2PKKK9X/wCFD6h/0Grf/vyf8aP+FD6h/wBBq3/78n/Gj6zS7h9Xq9jyiivV/wDhQ+of9Bq3/wC/J/xo/wCFD6h/0Grf/vyf8aPrNLuH1er2PKKK9X/4UPqH/Qat/wDvyf8AGj/hQ+of9Bq3/wC/J/xo+s0u4fV6vY8oor1f/hQ+of8AQat/+/J/xo/4UPqH/Qat/wDvyf8AGj6zS7h9Xq9jyiivV/8AhQ+of9Bq3/78n/Gj/hQ+of8AQat/+/J/xo+s0u4fV6vY8oor1f8A4UPqH/Qat/8Avyf8aP8AhQ+of9Bq3/78n/Gj6zS7h9Xq9jyiivV/+FD6h/0Grf8A78n/ABo/4UPqH/Qat/8Avyf8aPrNLuH1er2POdS/5Bmkf9ez/wDo6Ss6vXp/gtfXcFtbrq0CmzjMTEwn5iWZ89f9vH4VB/wofUP+g1b/APfk/wCNKOIpJbjlh6rex5daJDLewR3MvlQtIokkwTsXPJ49q9S8U/FeG11GCy8M2mn3um2cKJDLcW5JyBzjOCB07dqT/hQ+of8AQat/+/J/xo/4UPqH/Qat/wDvyf8AGplWoTau9io0q0L2W5fvPiNoM2veGfE3nA30UTQajbxxsCisOoJGDgk965/xLaeDrC8uPEGjeIGvr17lbi2s1jICneGbcSOmM+laP/Ch9Q/6DVv/AN+T/jR/wofUP+g1b/8Afk/41EZ0YtOMrW/zvbYpwrSTUo3v/la5J4rbwL4wuR4jn8QyWsrW4ElkIiXZwOBnHHYelV9L1Lwt4i+F9loWu6w2lz6bO0n+rLGRcnpx6H86k/4UPqH/AEGrf/vyf8aP+FD6h/0Grf8A78n/ABpc9FR5VL08vwHyVnLmcdfz/Etah418MyeM/CF3Y3zCx02Fo5mkjbdENuADxyfpmuUtte0ZfjHJrN7i40tr6SUOUJGDna2088Eg10P/AAofUP8AoNW//fk/40f8KH1D/oNW/wD35P8AjVRqUIu/N3/F3FKnWkrcvb8NDoJvGuiWba6LvxedRTULaQWluluyxwZBwvA684/Dmua0rVfDXir4b2fh7X9W/si606UtHK0ZZXXn09j+lS/8KH1D/oNW/wD35P8AjR/wofUP+g1b/wDfk/41CdBK3N2/D5FNV278vf8AH5lPwDfabo3xUbTNGnlv9Jv4/spd15k+XO7GOmQfwNVfjFqcU/iyLSLLC2mkwLbog6A4yf6D8K6nw/8ACXXPDWsR6lputWf2iMEKZLYsBkY6E1Uvvgpq+o3895d67A888hkkbyDyScnvT9pS9opc2y/ESp1eSUeXd/1+h5BRXq//AAofUP8AoNW//fk/40f8KH1D/oNW/wD35P8AjW/1ml3Mfq9Xsec63/x+Qf8AXnb/APolazq9euvgtfajIkqatAgjiSAgwk5MahCevfbmoP8AhQ+of9Bq3/78n/GlHEUkkrjlh6rex5XCqPPGsj+WjMAzkZ2jPJr1XxN8UbTTmsdL8LW1hqGnWdsiLLc25PzY5xnGO1J/wofUP+g1b/8Afk/40f8ACh9Q/wCg1b/9+T/jUzrUZ2u9io0q0L2W5LrPxC0bUW8LeIzIv9r2Eu28tI42HyEYJBIxxzgZ71Q8ZWvgjUbnUPEdl4ieS5uR5sNikRB80+pI6Va/4UPqH/Qat/8Avyf8aP8AhQ+of9Bq3/78n/GoU6MXeMrf8H5F8tZq0o32/An1278E+PbfTtX1XX30y5trcRXFsIizNjnC8epPNUfDWqeGNU+HV54X1jVm0zy7szwzPGW3LnI6Dr14qf8A4UPqH/Qat/8Avyf8aP8AhQ+of9Bq3/78n/Glz0bW5tPy1v2DkrXT5df+BYdrPivwv5Pg610i/kkt9Iu/3xljYMqAqNx45zjPFc74j1/R774vHWAwvNK+0xOx2H51AAPBwe1dB/wofUP+g1b/APfk/wCNH/Ch9Q/6DVv/AN+T/jVRqUYu/N3/ABJlTrSjy8vb8L/5nVR+OvD9j4kuL+fxgZ7C5hK29hHbMEg46tgdeMdO9cX4Y1rw9rXw/ufCniHUTpjrcme3uChZTk5/qatf8KH1D/oNW/8A35P+NH/Ch9Q/6DVv/wB+T/jUJ0Erc3b8PkW1Xbvy9/x+ZleG73SvCnxS05PDl9LqVnLtt55SmPML8HAx0Bx+VXvjVf28Gp2Hh3TlEdrp8W9kXoHfn+WPzrU0f4Oaxomr2+o2Ws2nn27bk8y2LDOPTNGsfB3W9d1afUdR123kuLhtzsICB+WabqUnOMnLb+v8xKnVUJJR3PG6K9X/AOFD6h/0Grf/AL8n/Gj/AIUPqH/Qat/+/J/xrf6zS7mP1er2POZf+RXtf+vyb/0CKs6vXm+C189hHp/9rQBopWnL+ScEOFXHX/Y/WoP+FD6h/wBBq3/78n/GlHEUl1HLD1X0PKK9L+HGu6RY+FNV0+XVU0TVp5A0V88Jf5OOBj6H86uf8KH1D/oNW/8A35P+NH/Ch9Q/6DVv/wB+T/jSnXozjyuQ40asZKSRJ4p8d6SYPC0lhqkmrXGlXJe4eSNlaQDA3c8c4OKreM4PA+u3N74kh8RSC4uIdyWKxHcZduACSOBnr/Opf+FD6h/0Grf/AL8n/Gj/AIUPqH/Qat/+/J/xrJToraXf8fkaONZ7x/pfMl1S+8G+PdG0m71jXW0m7sYBDcQ+UWLgf3ePr+dU/Cuq+GLvwVrXhXUtUbToZbozW1xIhO5ARjOB146e9T/8KH1D/oNW/wD35P8AjR/wofUP+g1b/wDfk/40+ejZrm0/4N+wuStdPl1X+VhuueJvC8fh3wzpei6hJMml6grytLGwbYG5fpjB64HNYXjbxBo+q/FJdWt3F7pokgLkIRvVQu4YIHoa3/8AhQ+of9Bq3/78n/Gj/hQ+of8AQat/+/J/xpxqUYy5ubv+Nv8AIUqdZx5eXTRfcdXH468PWfihdTbxeTpksWyHTYrZgsJx1bA9vTvXG+GvEHh7VfCuseF9evzp8dxdNcW91sJHXP8AT9an/wCFD6h/0Grf/vyf8aP+FD6h/wBBq3/78n/GoToJfF/W/Y0arv7P9Wt3MTS7vSfCHxI0l/DWoy6nbgrFcy7Cu8uSCFGOmCPxFbvxtv7e0l0/w9pyiKCENdSov99zkf1P41Y0z4L6tpWqW9/a6zama3cSJvtywyOnGam1z4Ra74i1ibUtT122kuJiNxFuQBgYAAzTdSk5xblt/SJjTqKMko7/ANM8Yor1f/hQ+of9Bq3/AO/J/wAaP+FD6h/0Grf/AL8n/Gt/rNLuY/V6vY850r/j01X/AK8//asdZ1evW/wWvrKO4jbVoGN3F5CkQn5TuD56/wCxj8ag/wCFD6h/0Grf/vyf8aSxFK71G8PVstDyiivV/wDhQ+of9Bq3/wC/J/xo/wCFD6h/0Grf/vyf8af1ml3F9Xq9jyiivV/+FD6h/wBBq3/78n/Gj/hQ+of9Bq3/AO/J/wAaPrNLuH1er2PKKK9X/wCFD6h/0Grf/vyf8aP+FD6h/wBBq3/78n/Gj6zS7h9Xq9jyiivV/wDhQ+of9Bq3/wC/J/xo/wCFD6h/0Grf/vyf8aPrNLuH1er2PKKK9X/4UPqH/Qat/wDvyf8AGj/hQ+of9Bq3/wC/J/xo+s0u4fV6vY8oor1f/hQ+of8AQat/+/J/xo/4UPqH/Qat/wDvyf8AGj6zS7h9Xq9jyivdv2fv+QFqv/Xyv/oIrA/4UPqH/Qat/wDvyf8AGvQvhn4Pm8GW99ZXF0ly0zrMGRCuBjGP0rDEVqc6dos3oUZwneSOtvf+Qhb/APXOT+aUlLe/8hC3/wCucn80pK809AKKKKACua8d6zrmh+GZ7vw1p8N5cors7zybY4EVSxcjq3TAA7mulrmvHs+qr4Tu7XQ9Fl1e4vYpLcxxTJH5YZCN5LEAjPaonfldioW5lcb8ONfvPFHw+0rWNT2farqMtJ5a7VyGI4H4V09eVeCX8beGvhL/AGZD4SKavpiKlvFcXUZS63OSxG1uMA9zXp9o88llC93GIp2jUyRqchWxyM/WtpW5nbYzjeyuTV5j4g8S+Lrv4uP4T8MXtjZRR6aLzfc2/mbjuwR1HqK9OrybxJYeLdG+NUnijQPC8mt2kmlLaDbdxwhW3ZJO454x6d6z+0r+f5P9S/sv+uq/Q0/C/wATJQniGy8dpb6ff+HSDdSwEmKWNvusoPOT6e4rV0L4o+H9cvJrXbe6bNFbG7C6jbGHzIR1kXPVa89u/hd4p8QeFvGGp6wsEGva+8TxWUUmVjSJgQhb1I4/AUaV4Gu9diu47rw3rWnaj/ZU1ql9qWqedHG7LjYq5JIJJ57UXdtd7fjb/MLK+m1/1X/BO4tvifpWv6bqP9jjUrPy7Kae31C4sD5LhBy6E8Ng4ODjNU9N+KWn6b4Z0MalcX+v6nqFqbgf2fYfvHQEguYwcKO34Vl+F/8AhMJPAM3hDUPCLWX2TSJrQXjXKFZpNm1Aqj17kmub1LwXr1r4J8OW0HhjUh4gsNP8uDUdPvkja3l3MfLcZwV6HIPc03o3bbT/ANu/4H9WEtVr5/p/wf6uejxeKmn+JcFmNYMNhJo3246fLaBSo3f6xpDyMD+GorP4x+F7zUra2QahHb3c/wBnt9QltCttNJnGFf6+1c4PBHinUvGSXWsIM3HhNtOuL1XXaLluoxnPvnGKxIvDHi/V/B3h7wLdeGnsF0u+jluNUadDEY0YnKAHJJBppe8l/XxP8lYTel/6+Ffqd3q3xp8J6PeXlrcG/llsZzBdeRalxDg43Mc4C5OM/pXV6jPe6n4Za48LXVul1cRLJazzIWjwcHJH0rzFfA2vDQfiZA2m5m1m5d9PG9Mzr2I54/HFeleD7G40zwVo1jfR+Vc29lFFKhIO1ggBGRx1pLWOu+n4rX7hvSWnn+G33nm3hHxF8SNc8aarpVzqWkiHQ7qOO8xbEGVSSTs9OAa6zSPiz4Z1u6nisnu/KtopJbi6e3KwwhDyGbsccgelVPA/hvVdJ+IHjfUNQtDDa6ndI9pIXU+aoDZOAcjqOuKw/DHw/wBZT4J694cvrYWOpX0tw0YZ1OctlclSeDjFK75flf5jsub52+Wp1WgfFPw/4h1iDTbaO/tZbtGktJLy1MUd0o6mNj145qFPi94Yk1hLJTfeRJc/ZE1H7KfsrS5xsEnrn2riPBHg67bVNGi1vwvrcF3psLR/bbnVBJbwN5ZXKJuOQeOB0/Csjw78PNT05INA8Q+F9Z1BYL/zEuINV2WhXfkSbM8EA5xjJq0lzJf1v/kTryt/1sfQ9FCjCgDsKKkYUUUUAFFFFABRRRQAUUUUAFFFFABRRRQBBB/x8XX/AF0H/oC1PUEH/Hxdf9dB/wCgLU9ABRRRQAUUUUAFeYeKvGesWfiLXLSLWbXRV0y3SWzt57YSNqBK54J5PzfLhea9PryXxJoFzd+ItebxB4Wvdfe5wNHurd49tsm0YUbmBjIfksBzUu9ylY09Z8X6yt7oVndX1v4YS+043U95cwh1EwxmEFvlBAyeea6TwHrOo694Rt77WI1W4d3USIhQTIGIWQKem4AH8a4i80DWhcaL/wAJro1x4osINLWKSC3KP5d1zudldlDErgBu3Ndf8OdM1TSfCxttWjkgH2iRrW2lkEj28Bb5I2YZyQPetNNfn+f9W8jPWy+X5f18zq6KKKkoKKKKACiiigCC0/1T/wDXV/8A0I1PUFp/qn/66v8A+hGp6ACiiigAooooAK828WeLtUs/FOpaemtWugQWNktxbG4txIb5iDkKW9CAMLzzXpNeWeJ9Dmu/F2ry+I/C954itJ4UTSntmjItvl+YYZl2Nu53DNTK5Ssbeq+JfFEXw0g1mx0y3i1JrFrm5+0MQlvtTcfl6knsO3eum8OX82qeGdNv7nb51zaxyybRgbmUE4rj7i38TWXwhj0e60y51jV7qwktpfJmjzEWQhdzOwzjIGRnpXQeBWv18IWNrqulT6ZcWcSW5jndGL7VA3AoxGM/jxWjtzS+X6/8AhXtH5/p/wAE6KiiipGFFFFABRRRQBAv/IRk/wCuSfzap6gX/kIyf9ck/m1T0AFFFFABRRRQAVx/j3xDf6I2kQWd1DpsF/cmK41KeLelsAuV4PALHjJ4rsK4f4habfX1/o0j6ZNrGhwu7X+nwMu6RsDy2KsQHAOeM0n0GupjweO9ci8M3WJba/upNWTTNN1ERbIrjdj95tBwQvzdODitvRNW13TfHR8NeIr6HUhcWX2y2uo4BCy7W2shA4PUEGuRj8Ia4dGurjSdJmsrOz1eDUNL0eeVd4RBiRRglU3ZJC5wK6vRrfU/EHxBXxJfaTcaVaWlgbSCK6K+ZI7OGZsKSABgDrzVR3/r+X/Ml7af1r/kdxRRRSGFFFFABRRRQBBc/wCttv8Arr/7K1T1Bc/622/66/8AsrVPQAUUUUAFFFFAHnN7r/inV5fEV94dvrWzs9CleFLeW2Ehu3jXc+5iflHYYrqrDxLFdeBYvEkke2JrH7YyA9AE3EVxklt4h8OSeKdJsdBuNRTWrmW4srqF0EaGVcESZII2nJ4BzW9aaJfW3hWLwabIm0OjNA+pCUbVl27Nmzr3zmp19m7b2X32dytOdX2u/uurGFD4n8WWGn6F4j1W8tJtO1e5iik09LcKbdZfuFXzkkcZz61d8Yat4r8L+VrA1Szns5L+O3TTBa4Lo77Rh853459Pasq3sPEWtaJ4d8LX2g3Fl/ZdzBJeX0joYXWHkeXhiSWIHUDFTXreJL/x21/rPhHULzT9NkK6ZDBPB5eennNucEsewxwK005tNr/hp/wSNba9vx1PT1O5QSMZGcUtIpyoJGCR0PalqRhRRRQAUWn/ACEpv+uSfzaii0/5CU3/AFyT+bUALe/8hC3/AOucn80pKW9/5CFv/wBc5P5pSUAFFFFABRRRQAUUUUAFFFFABRRRQAUUUUAFFFFABRRRQAUUUUAFFFFABRRRQAUUUUAFFFFABRRRQAUUUUAFFFFABRRRQBBB/wAfF1/10H/oC1PUEH/Hxdf9dB/6AtT0AFFFFABRRRQAUUUUAFFFFABRRRQAUUUUAFFFFAEFp/qn/wCur/8AoRqeoLT/AFT/APXV/wD0I1PQAUUUUAFFFFABRRRQAUUUUAFFFFABRRRQAUUUUAQL/wAhGT/rkn82qeoF/wCQjJ/1yT+bVPQAUUUUAFFFFABRRRQAUUUUAFFFFABRRRQAUUUUAQXP+ttv+uv/ALK1T1Bc/wCttv8Arr/7K1T0AFFFFABRRRQAUUUUAFFFFABRRRQAUUUUAFFp/wAhKb/rkn82ootP+QlN/wBck/m1AC3v/IQt/wDrnJ/NKSkvywvrbZG0h8uThcZ6p6mmb5v+fOf/AMd/xoAkoqPfN/z5z/8Ajv8AjRvm/wCfOf8A8d/xoAkoqPfN/wA+c/8A47/jRvm/585//Hf8aAJKKj3zf8+c/wD47/jRvm/585//AB3/ABoAkoqPfN/z5z/+O/40b5v+fOf/AMd/xoAkoqPfN/z5z/8Ajv8AjRvm/wCfOf8A8d/xoAkoqPfN/wA+c/8A47/jRvm/585//Hf8aAJKKj3zf8+c/wD47/jRvm/585//AB3/ABoAkoqPfN/z5z/+O/40b5v+fOf/AMd/xoAkoqPfN/z5z/8Ajv8AjRvm/wCfOf8A8d/xoAkoqPfN/wA+c/8A47/jRvm/585//Hf8aAJKKj3zf8+c/wD47/jRvm/585//AB3/ABoAkoqPfN/z5z/+O/40b5v+fOf/AMd/xoAkoqPfN/z5z/8Ajv8AjRvm/wCfOf8A8d/xoAkoqPfN/wA+c/8A47/jRvm/585//Hf8aAJKKj3zf8+c/wD47/jRvm/585//AB3/ABoAkoqPfN/z5z/+O/40b5v+fOf/AMd/xoAkoqPfN/z5z/8Ajv8AjRvm/wCfOf8A8d/xoAZB/wAfF1/10H/oC1PVWBpvtFzi1mP7wZA28fKvvU2+b/nzn/8AHf8AGgCSio983/PnP/47/jRvm/585/8Ax3/GgCSio983/PnP/wCO/wCNG+b/AJ85/wDx3/GgCSio983/AD5z/wDjv+NG+b/nzn/8d/xoAkoqPfN/z5z/APjv+NG+b/nzn/8AHf8AGgCSio983/PnP/47/jRvm/585/8Ax3/GgCSio983/PnP/wCO/wCNG+b/AJ85/wDx3/GgCSio983/AD5z/wDjv+NG+b/nzn/8d/xoAZaf6p/+ur/+hGp6q2jTeU+LWY/vX6bf7x96m3zf8+c//jv+NAElFR75v+fOf/x3/GjfN/z5z/8Ajv8AjQBJRUe+b/nzn/8AHf8AGjfN/wA+c/8A47/jQBJRUe+b/nzn/wDHf8aN83/PnP8A+O/40ASUVHvm/wCfOf8A8d/xo3zf8+c//jv+NAElFR75v+fOf/x3/GjfN/z5z/8Ajv8AjQBJRUe+b/nzn/8AHf8AGjfN/wA+c/8A47/jQBJRUe+b/nzn/wDHf8aN83/PnP8A+O/40AMX/kIyf9ck/m1T1VVpv7Qk/wBFmz5S8fLnq3vU2+b/AJ85/wDx3/GgCSio983/AD5z/wDjv+NG+b/nzn/8d/xoAkoqPfN/z5z/APjv+NG+b/nzn/8AHf8AGgCSio983/PnP/47/jRvm/585/8Ax3/GgCSio983/PnP/wCO/wCNG+b/AJ85/wDx3/GgCSio983/AD5z/wDjv+NG+b/nzn/8d/xoAkoqPfN/z5z/APjv+NG+b/nzn/8AHf8AGgCSio983/PnP/47/jRvm/585/8Ax3/GgBlz/rbb/rr/AOytU9VLhpvMt82sw/e8Z28/K3vU++b/AJ85/wDx3/GgCSio983/AD5z/wDjv+NG+b/nzn/8d/xoAkoqPfN/z5z/APjv+NG+b/nzn/8AHf8AGgCSio983/PnP/47/jRvm/585/8Ax3/GgCSio983/PnP/wCO/wCNG+b/AJ85/wDx3/GgCSio983/AD5z/wDjv+NG+b/nzn/8d/xoAkoqPfN/z5z/APjv+NG+b/nzn/8AHf8AGgCSi0/5CU3/AFyT+bVHvm/585//AB3/ABp1kXOozb4njPlJw+OeW9DQBYk/5Clv/wBcpP5pVmq0n/IUt/8ArlJ/NKs0AFFFFABXP+LdS8R2FpAvhLRodTupXIc3E/lxwgDqe5z04roK89+MXivXvDXhiKHwtpl7d3uoOYjcWtu0xtUwMvtXvzxUydkVHVk/wt+IVx4907Uv7S05bC/0y6NtcJG+5Cw7g/nXd1494D1/TvCHw1v/APhHvCniS4uLFkluEvbEwzX0shwzL1zjHPHAxXrdnO11YwXDxPC0sauY3+8mRnB9xWjX6fkZr/MmrzbxP8Q/EFh8Q5vC/hvRLO+kg08X0j3NwY/lzggcY9K9JrwH4jaNYXHxymvPE+ga1qWkPo6Ro+mW8r/vd3TcmO2e9Zu90l5/kzRWs/66o9G8OfFTRdV+H1t4q1qRdGt5ZGhZZ23fvFJBC4GW6dhWxZePPC+o+H7jW7PWrWTTbU4muMlRGfQgjIPPTFeJ6c/jPwp8LdLik065htG1lxDJLZi6uLC0I+U+WQeeW69K569ttRtPBnjO4vbbUAL7WrGS1lu7UQyT8k7hEMBj0+UetW7XdvL8bf5kpaL5/r/kfQunfEnwfqz3C2OvWztbQtPMGDIY4xjLHcBgcj86qf8AC0PC+o211DoGuWU+opbSTQxTB0UlULZbIB28ZJHavFNQ1Kwm8J+PZtVlux4lv7K3aS2ubEWIWJWVVKLubPJGeea0/DV1DqF/rf8AbBvx4juvDklrY2kulfZVeJUPKgM25ifpUy+F+n6P+vvGt16/5f5nrWl/EDTLfwppWoeLNW0y0ub6BpgYJG8lwvUoW5Par9r4+8LXnhuXXrbW7V9LhbZJcZICt/dIIznnpivHdH8L31zL8I4dR0a4eC0huPtaTWzbYTtyu8EfLyBjNYXijT7vQ7PxUqadPaxzeL7eSxUQHD43HdHGcCTtwKqXxP1/9uS/UmOy9P0b/Q+gtA8c+GvFF5JaaDq0N5cRJvkiVWVlXOMkMB3qwfFWhg6mG1OAHSf+P7JP+j8Z+b8q86+Dt7YXHiXxHJdzXX/CR3bRz3dvc2H2Ty4wMLtTc3Hqc88VzvxO8Ma2PifcWmi2FzNpvjCC2gvp4Y2KwlJRuZiBgfIO/rSd7pLr+f8Al0GrWbfT8v61PZJfFuii3sJItTtidURjYZY4nwuePbFcHL8abfQfCejah4kbTrm71O8aAjTpm8qOMOVMmWBJ24GR61yHw58La8fHC6frdhdR2HhCzurexmliYLO0jsFZSRg/IccegrNbQdTsvgP4WnudFvHl03xB9pubcWzGZYfNck7CM4PH5ihW36O33N2/LcHe1uuv32uej3/xf0/TfiPb2V5qNnD4bn0cXyXjA5dy+BjueO2K9D0jWdP1/S4dR0a7jvLOYZjmjOQa8pt9Mi8S/HbTdZfQrj+yX8OZiN3aFVjcvwpyMBsE8dea2PgTpt5pXgC4tb+zns2XUrgpFNGUITdwQD2px2s/P/0poT3uvL/0m5Rh+KHi7UtU8QroPhW11Cz0K8ktpR9rKTSbe6jGM4rqtH+JvhzU/AsHiq6vE06xkYxuLg/NHIDgpgdTx2rzDw34o1LwN4i8cQN4S16/utQ1eaazMFk3kuOQCZDwB781h33gHxJ4b8A+Erq8hula31Wa+1CKyhE8lt5mNrbOQ20Dn0zUxfuq/aOvm9ypL3n6v7lex73ZeOfDOo+H59cs9atZNNtzia4LbRGfQg8g+2KwNY+JdjdeHodR8F6rpN3/AKfFazNetIiqGzwABnce3avJtX8MS3/gvWtW8PjW9XeXVbW7v4buwFv9oRA27y0AG7qM8dq6LxxqieOPBdnJ4a8MapbeRrVkZDLYmNpAA2TtHO1emelUlr81+n4ak9Pk/wBT1K88f+F9O8QRaHe61bxanKyotv8AMTuboCQMAnPc1U0LxdLPeeJW1y70mGx0i6MaSW8rZjQf89d3Ab6V5hrxvdE+LElz4NtdVkvtQ1CJdRsLrT99tKo6zJL/AAgdc+tZ2ueFvEF94e+JCWmmXZaXX0uVi8plN1Cpy2z+8O/HpUp6X/reP+ZTWtv62f8Ake1aJ8Q/CfiOS4j0XXLa6e3jMkqDKlUHVsMBke4qK1+Jfg291a20208Q2ct5dgGGJWPz56DOMA+x5ry+TPjP4h6dqnhnQb+xstL0S5hu5J7Qwb2aNlWIA/eIJFZFt4Qu7f4R+A3g0G4j1OLXo5bnbasJkXzGyz8ZAwF5PtVJaq/l+La/4JL208/wSf8AwD2jxzrfiPQdMS78M6Pb6mI1d7kTz+X5aKM5Hr3rmvAfxK1zxHo58QeItHs9J8O+Q8ovluCxBVtuCvp1/Ku78QRvN4W1OOJGeR7OVVVRksShwAK8m0fR9Sj/AGTbjTX0+6W/NnMBamFhKSZSQNmM5xUXcVJ9v+CXbmcV3f8AkekQfEHwnc2N/eQa7aPbacVF1MGO2MnoM45J9s1Jo/jnwzr+m3V/pOs209rZjNxJuKeUPVg2CB715R408I3sXwO8KJo2mTRNZS2lzf29tbgzEBPmYoR8zAnOCKw9Q8MzeJPC/i6/8O3Ou3+p3VpAsq3enC1SVUcHaoAG5gF9P51UtHJdv6v6Ex1UX3/qx7l4e8d+GfFdzLb+H9Yt72aEbnjTIYD1wQMj3FdBXh/w1sLTUvHenao13r8l9Zae0BjutKW2hiXj5GYKMkE8fSvcKpqxKdytbf8AH1ef9dR/6AtWarW3/H1ef9dR/wCgLVmpKCiiigAooooAK8+17x5rFtrGvW2i2eneR4fgWa6N9MyPMCm/5AOgxxk55r0GvD/Genafq3i7X5fGEGp297bqseiGxtJHWVAoZTlFIdt/UPwKlt3/AK/p+hSt/X9fidpdeO9Tvb/RtO8P2NrDd6np39ok6lIyqicfIAOS3PPoK3PBPiSTxX4Yi1Oe2W2lMkkTojbkLI5Usp7qcZFeZa3DLrc3h+D4n2d5b6emkiUyWVu5P2tshlZogWXC446E13fwt/tBfBaQ6hHMkME8kVibiLy5Xtg2I2dexxWllr8/zt/Xdametl8vy/r02OyoooqSgooooAKKKKAK1j/qZP8ArtJ/6Gas1Wsf9TJ/12k/9DNWaACiiigAooooAK5HxVrXirREvb+ys9HbSrWIymW6uJFfAXJyAuPpXXVxHxAtrzX73RvC9tBMbO+uPP1GcIdiwRkNsLdMs2Bj0BpO70Q1ZasrReOtdvrfw/Y2Ok2sWt6vZteyR3MjCK3iXHXHJJLDit3wb4mn8RWd6mo2qWmo6bdvZ3cUbFk3rg5UnnBBBrI8e2ugQXWmXmpXGqadeW6Olrd6XDI7BTjMZ2KRg8cH0pvwq0S603S9Vv7xbxDquoPdRrfMWn8vAVS+f4iFzjtmqVm38/z0/Al3SX9dNfxO8ooopDCiiigAooooArJ/yFZf+uKf+hNVmqyf8hWX/rin/oTVZoAKKKKACiiigArl/GHii80O60jTtLt7eS91adoYpLtysMe1dx3Y5JPQDvXUV518VIlvLnRLHWbe5bw5JM7381rC0jo6gGMfKCygnPIpPdDXUWP4lXsGg6i19psEmrWmprpcUdtKTDcTNjaQx5AGeeuMGtTQPFGst4tk8OeKrK0t7xrQXlvLZOzRyJu2sCG5BB/nXnEGmX8HhuRtEs7668P6Hr1ve2AmgZbiWEA+bhWAZgCxwSMnFdrpF2PFnxVi17Tbe5TTNP0trbz7i3eHzJXcMQoYAnAXk46mqjv/AF/Lf8/8iXs/6+1/kehUUUUhhRRRQAUUUUAVrv8A11p/13/9karNVrv/AF1p/wBd/wD2Rqs0AFFFFABRRRQB5/qnjjxBJda3N4Z0qzutO0FzHdPcyssk7qu51jxwMDjnqa6yz8QWd54Vi18ErZvafaiT1VNu4/pXm66pJ4SHjTRb3Tr+a71K8nuNOEFq8i3ImXgBgMDB65IxW/YWE9t4Ah8DPbXX299AZTcCL9wrbNmwv/eyenpU3fs21vZffZ3KsudLpd/ddWK1r8QdfRNH1bV9Is4NC1m4SCBo5mM8Pmf6tnB4IPt0zVvxL4u8TeGbmO+vNK086K97HagLOxuCHbargY2++39a5VL6bxJ4V8KeFLfTb+LU7G7tmv1mtXRLdYOWJcjackDGCc5pPHr6ZquoC50G01v/AIS22vI/ssMkExhDKwBYg5i2bc81ppzJLa/3rT/gka217fjqeyqdyg+ozS02Pd5SeZ9/aN31p1SMKKKKACqy/wDIVl/64J/6E1WarL/yFZf+uCf+hNQASf8AIUt/+uUn80qzVaT/AJClv/1yk/mlWaACiiigAoorz34v69qGmaPo+laJdSWd/reqQ2aTxNteNCcuQex6D8aOqXey+8D0KiuM8Q/E3QfCmpf2TcrqF/ewwCWeKxtjO0KY+857etSX3xQ8MWXhrT9bF3JdW+ptss4raIyTTt3VU65HejpcPU6+ivI/G/xYhu/hXreq+ELq4sdT02aKKaG6g8uaAs4HzKc9Rmuk8I/FXw/4q1aPRrV7uPUDbiZPtNuYluFA5aMnqPyoWv8AXlcHpY7ggEYIyKxfFXhPS/GGkLp+sxu0ccqzxPFIUeORejKR0IzXnnxp8dX+g6poGhaXc6hYG/uN11dWVsXfyum2M45bPb6Vu3vxX0Hw2qWmqJrEyWyxxXOomwbykYgcu3AB55wOppK0lfzG7p/IlPwf8MXFrfpqq3mp3GoRrHNd3l08k21SCoDE5GCAePSr+gfDvSNB1sax519qGopD5EVzf3LTNFH/AHVyeBWBf+N7jT/jU1lc6gI/D8Xh5tQkXaNoIf7+evStrRPifoWt6fe36xahY2VnB9pa5vrUxRyR/wB5DzuH/wBamnZX9f1X6MVr6en6P/I7GsLxX4Q0vxjp8Frq6yg20wnt5oZDHJDIOjKw71leGvij4f8AFGsppdol9a3M0Rmt1vbYxC5jH8UZP3hWBrfiG8v/AI0x2Vnc3S6V4Z0573UYrXJ86Rx8kZUfeOOQPrSe6v8A1bX9PvBbNr+r/wDDnW+GvA2leGL671C2e6u9RvAq3F7eTtLK6joNx7V0leVeDPjdZ614T1PWPENlPYrpzsZXitn8sx7wq4YnluRkVvWPxb8M6g1n5JvVS+vRZWsslsVWdyAQyk9V561Wrt/W4tFf+tjt6CARgjIrnW8d6DHqWt2U90YZNCiSW+aRcKisMgg96y9D+Jmg+L75tGsjqNhd3Vu0ls11bmEzJjG+I98dan0Htudt06UV5/8ABzxDf654OuLfWrh7nUdJvprGeaQ5aQoeCT64I/KvQKpgFB560UUgEAAGAAB6UoAAwBge1FFACYGc4GfWloooAQADoAPpS0UUAFFFFABSABfugD6UtFACBQOgA+gpaKKAK1t/x9Xn/XUf+gLVmq1t/wAfV5/11H/oC1ZoAKKKKACiiigApCoJBIBx04paKAEIDDDAH60tFFABRRRQAUUUUAFFFFAFax/1Mn/XaT/0M1ZqtY/6mT/rtJ/6Gas0AFFFFABRRRQAUUUUAIQD1AP1paKKACiiigAooooAKKKKAKyf8hWX/rin/oTVZqsn/IVl/wCuKf8AoTVZoAKKKKACiiigAoIBGCMiiigAwAMAcUAADAGB7UUUAFFFFABRRRQAUUUUAVrv/XWn/Xf/ANkarNVrv/XWn/Xf/wBkarNABRRRQAUUUUAIQCQSBkdKWiigBMAHIAyepowM5wM+tLRQAUUUUAFFFFABVZf+QrL/ANcE/wDQmqzVZf8AkKy/9cE/9CagAk/5Clv/ANcpP5pVmqdxLHDqVu0rqi+VIMscd0qX7daf8/MP/fwUAT0VB9utP+fmH/v4KPt1p/z8w/8AfwUAT15X8a0a0uvBmuuP9G03XIvPbsquQNx/KvTft1p/z8w/9/BVTVLfRtb06Sw1YWl3aS43wysrK2DkcfUUdU+zT+5h0a7p/ieYX9h4k8I/E3xPrWneG5tfs/ENtEIHglQGF1XbtbcfunNYNl8OfE/hDSPA2rQ6d/atzos9xLe6fDIAyiYk/KTwSufzr3dLuzjRUS4gVVGABIOBS/brT/n5h/7+Che7a3T9P+HB+9e/X/Kx4FrngPxZ4p0bxxrQ0R7K716W1S0015U37ImGXY5wMjn866Dw/pHinxD8WdC1nWPDf9hWnh+we3d2mVxcSMpX5cfw855r137daf8APzD/AN/BR9utP+fmH/v4KI+7t/Wlgeu/9df0OF+IvhzVNa8YeCLzTLRp7fTdRaa7cMo8pCBycnnp2rzn4geGfH/iO+8UadLpuqX0c84bTDBerHaLCCCAyZG5uO/evoD7daf8/MP/AH8FH260/wCfmH/v4KVtLf10/wAh31v/AF1/zPJb3wfrR+IA1ObQjqGnr4T+wyRGVVE0uRmLOcgkd+lc1p3gPxfqnhnxVoNhaahpWg3Fki6fY6pcrIyTq6sVQjomARz6ivf/ALdaf8/MP/fwUfbrT/n5h/7+CnL3r363/Ft/qKOlrdLfhZfoeKeCtFOmavYax4i8Na7Zy6HZSNJe3+pCSGDEeGCLk5B5+ldL8FbGa70HU/FuoLi88SXr3XPVYgSI1+mMn8a9CuJtPureSC5lt5YZFKujupDA9QRRbzafaW8cFtLbRQxqFSNHUBQOgApt3bb/AK1u/wBBW0S/rsjwex8K+Lk+E3i7wS/hqYXDzvPa3QmTZc7plIVRn0BOTXUePvDGuL4X8E3miaUb258PXUE09jG6qzAKAQD04Ir1T7daf8/MP/fwUfbrT/n5h/7+Ckrpfd/5LsN6t/P8dzwyTwN4v8V/8LCutQ0f+yJfEFrbGziadXyYznYSO+AAe3NXvh94ami8S6Te634Z120utKtnU3t/qQkhhOzBCLk5B/SvZft1p/z8w/8AfwUyeewubeSCeeB4pFKOpcYYEYIoXu/D/W/+YP3t/wCtv8jzb4ERPPoPiDWcEQ6trdxcQe6ZC5/MGvU6ztNi0jR9OhsNM+y2trCu2OGJlVVHsKtfbrT/AJ+Yf+/gp6aJdLL7tBdW31u/vJ6Kg+3Wn/PzD/38FH260/5+Yf8Av4KQyeioPt1p/wA/MP8A38FH260/5+Yf+/goAnoqD7daf8/MP/fwUfbrT/n5h/7+CgCeioPt1p/z8w/9/BR9utP+fmH/AL+CgCeioPt1p/z8w/8AfwUfbrT/AJ+Yf+/goAnoqD7daf8APzD/AN/BR9utP+fmH/v4KAJ6Kg+3Wn/PzD/38FH260/5+Yf+/goAbbf8fV5/11H/AKAtWaoW95bC5uybiIAygglxz8i1Y+3Wn/PzD/38FAE9FQfbrT/n5h/7+Cj7daf8/MP/AH8FAE9FQfbrT/n5h/7+Cj7daf8APzD/AN/BQBPRUH260/5+Yf8Av4KPt1p/z8w/9/BQBPRUH260/wCfmH/v4KPt1p/z8w/9/BQBPRUH260/5+Yf+/go+3Wn/PzD/wB/BQBPRUH260/5+Yf+/go+3Wn/AD8w/wDfwUAT0VB9utP+fmH/AL+Cj7daf8/MP/fwUANsf9TJ/wBdpP8A0M1ZqhZXlssL7riIfvpDy4/vmrH260/5+Yf+/goAnoqD7daf8/MP/fwUfbrT/n5h/wC/goAnoqD7daf8/MP/AH8FH260/wCfmH/v4KAJ6Kg+3Wn/AD8w/wDfwUfbrT/n5h/7+CgCeioPt1p/z8w/9/BR9utP+fmH/v4KAJ6Kg+3Wn/PzD/38FH260/5+Yf8Av4KAJ6Kg+3Wn/PzD/wB/BR9utP8An5h/7+CgCeioPt1p/wA/MP8A38FH260/5+Yf+/goAan/ACFZf+uKf+hNVmqC3lt/acrfaIsGFBnePVqsfbrT/n5h/wC/goAnoqD7daf8/MP/AH8FH260/wCfmH/v4KAJ6Kg+3Wn/AD8w/wDfwUfbrT/n5h/7+CgCeioPt1p/z8w/9/BR9utP+fmH/v4KAJ6Kg+3Wn/PzD/38FH260/5+Yf8Av4KAJ6Kg+3Wn/PzD/wB/BR9utP8An5h/7+CgCeioPt1p/wA/MP8A38FH260/5+Yf+/goAnoqD7daf8/MP/fwUfbrT/n5h/7+CgBt3/rrT/rv/wCyNVmqF1eWzS2uLiI4mycOOPlarH260/5+Yf8Av4KAJ6Kg+3Wn/PzD/wB/BR9utP8An5h/7+CgCeioPt1p/wA/MP8A38FH260/5+Yf+/goAnoqD7daf8/MP/fwUfbrT/n5h/7+CgCeioPt1p/z8w/9/BR9utP+fmH/AL+CgCeioPt1p/z8w/8AfwUfbrT/AJ+Yf+/goAnoqD7daf8APzD/AN/BR9utP+fmH/v4KAJ6rL/yFZf+uCf+hNTvt1p/z8w/9/BUUMsc2qSmKRXAhQEq2f4moAZfAG/t8jP7uTr9UpNif3V/KnXv/IQt/wDrnJ/NKSgBNif3V/KjYn91fypaKAE2J/dX8qwvFPizSPCFnDPqyzMZ3KRRW0BkkkIGTgD0rerm/Gl5LBp8MFhrWm6PqErkwzagisrKB8wAJHPIpPYaJfCXi/RPGulvfaFIZI45DFKkke142HYit7Yn91fyrxH4MeItM0DR/Fra3cQobLUi95qqMWhuGckArgcDI6D1r2yCaO5t454HDxSKHRh0YHkGqfdeX4oldn5jtif3V/KuR8RfEjw54Y1z+yNR+0veCETtHb2rSbUPc4rr68M8YQ+IJvj/AH//AAiVxbwagnh7ePtEQkEgDD5RnoScc1Ddmvn+TZSWj/rqkewaBruk+J9Ii1PRLiO6tJcgOq4wR1BB5BrS2J/dX8q+dtE1Pw9Z/BnQ7ERX9zcahqjxz2qXn2bdc/xCRx91OQQPpWVHrGo2Pw18f2lrdS28en6hbC1SO8M/kbn5VZO44q3o2l/W3+Yopu39d/8AI+ntif3V/KsDxV4qsPCUemtfwSSDUL2Oyj8tR8rP0J9q8ke2vfAvxFjTRtRvrp7/AMN3F5MtzMZPMnVWIbB75Arjxa6XJ4f8D6wuvz3utajrML3ttJdb+fM6lP4SOmfehK8kvNfm1+jFf3W/J/lf9T6pCIf4V/Kl2J/dX8q+f9RFp4l1f4g3ninWJ7S80V3TTIRdmIQqqkoyqCN2SB6/rUOmf2p428T+DNN1/Ur+GK+8PNJdLDMY2nw7YJI9QFNStUrf1dN/oN6f15pfqfQ2xP7q/lVLV9RstE0e61PUDstbWMyysFyQo9q+Zls72H4V3fiX+29Se+0TWRaWW64bbHGHAxjvnd+le7/EpzJ8IdeduracxP5UpO1NzX9aXX5lRV5qL/rWwvhf4keHPF+o/YtGF00hiMoaW1ZFKjHRjx3rrtif3V/KvENAl8baD8FZdX+2WL2kehq1ilvb7ZozhcMW74XJrKsI7XQ7z4eap4b1q4utV1m4jXU0N2ZfORgDIWTJxjJ/yK0aXNy+i+9v/IzTbjzev4Jf5n0JsT+6v5UbE/ur+VeCeDLa8fwz4u8YG/vrnVNKnvorGNpmMcQCk529Cctnn0FUvh3Za3cap4Y1zT7qGFrgk6jNNrHmteBhkjyj0YHPAqY629E/vKlpf5/gfQ+xP7q/lVDRta0rxDZNd6Ncx3cCyNEzopADKcEcivEPC0EVl8QxpPieSXUrvWjci21ax1NnSaMqcqyA/KQOh7Gtr9nrTdMttG1G4huWOo/a5oZIGuCdqB+Dszx9cUR1+6/4hLT77HsuxP7q/lRsT+6v5UtFACbE/ur+VGxP7q/lS0UAJsT+6v5UbE/ur+VLRQAmxP7q/lRsT+6v5UtFACbE/ur+VGxP7q/lS0UAJsT+6v5UbE/ur+VLRQBWgRftFz8o/wBYO3+wtWNif3V/KoYP+Pi6/wCug/8AQFqegBNif3V/KjYn91fypaKAE2J/dX8qNif3V/KlooATYn91fyrmNZ8d6LouoXFnNDd3Mlmge7a1tjItupGQXPbjnjPFdRXjXiGz1TWfEnjGfwrfx6bb28awapDO3/H4yoCSD/yzGw7d3epbsUlc9B1Dxnpdgts62l/eRXUKzRS2dm0qFT05H8queHPEOm+KdLN/pSyGESNEfNi2MGU4IwfeuYvPFUVj8H9PvdBtmt57+2itdNticlZJBtUe+Oufaup8LaHF4b8MWOlQ8/Z4gHfu7nlmPuSSa0as5Lt/X9epmndJ9zV2J/dX8qNif3V/KloqShNif3V/KjYn91fypaKAE2J/dX8qNif3V/KlooAr2iL5T/KP9a/b/aNT7E/ur+VQ2n+qf/rq/wD6EanoATYn91fyo2J/dX8qWigBNif3V/KjYn91fypaKAE2J/dX8q5vWvG2kaHqMtjLBd3dxBEJrhbO2MnkIehb06E+tdLXkfiOz1XWvHXiX/hENQj0mW2s44dSM5yLv5crgfwYUkb/AHqW7FJXO7vfGGk2ml2V9BDdX8V+nmW62VsZWZcA59uo61d0DXNN8S6RHqOlNvgclSHTayMDgqwPQg1zPh69k1X4c6KvhK6tdEme3HlRXSCYqijacDIJGQOaZ8IZFHha9s2VWuLPUp4bm4Rty3Mu7c0i+xJ6Vo0lKS7f5kK/Kmd5sT+6v5UbE/ur+VLRUjE2J/dX8qNif3V/KlooATYn91fyo2J/dX8qWigCuqL/AGhJ8o/1S9vdqn2J/dX8qhX/AJCMn/XJP5tU9ACbE/ur+VGxP7q/lS0UAJsT+6v5UbE/ur+VLRQAmxP7q/lWRr/iHTvDsVub5JJJbp/Lgt7eLfJKwGTgewrYrz/4jrJe6/4a07SphZ6088k1pfOfkgVVG8Ff48ggbaXVIZtQeOtAm0G81aR5LeKyk8m4inhKyxycYTZ1JORjHXNTaB4u0rxDeT2dvDc2t5Agke2vIPKfYejAdxXk8skllbvZ6wUmvrLxTay6rfo2Y7jePlbH8OPlBXtiu+ldLj452bWjK/kaI4uChzt3SgoD+RNUtbef/wAjcl6X/rrY7nYn91fyo2J/dX8qWikMTYn91fyo2J/dX8qWigBNif3V/KjYn91fypaKAK1wi+ZbfKP9b6f7LVY2J/dX8qhuf9bbf9df/ZWqegBNif3V/KjYn91fypaKAE2J/dX8qNif3V/KlooA5XWfH+haJqE9pcR3U5tQDdy21sZI7YHn52HTjnvXSRTW09ol1E0bQOnmLIMYK4znNeaaNdWtrovxGTU5I0kS+u2lEhAJRo/k/AjAFaeltJH8FYtNMqjVDoDMtuXHmf6ojO3r14zUt2g5eSf3psdrzS82vusaNj8RPD+oanb2kS3KJdSGK2u5bYrBOw7K/focetOvPiBoen6qLO8hvIkNwLb7W9owgEhONu8+/Gelcbfz2t18K/A0Fg6NO99Y+SiEbsry/HsAc1r+K7238Z65B4VsZolsrK5juNUui4AUodywr6sTjPpWlrSt52/LX8Sb3V/K/wCeh6IEQjIVcfSl2J/dX8qFAVQB0AwKWpGJsT+6v5UbE/ur+VLRQAmxP7q/lRZgDUZsAD90nT6tS0Wn/ISm/wCuSfzagBb3/kIW/wD1zk/mlJS3v/IQt/8ArnJ/NKSgAooooAKy9d8NaP4mtUt9e06C+ijbcgmTOw+o9K1KKAMWDwd4dttBfRYNGs102Q5ktfJGxznOSO/IrYiiSGFIoUCRooVVUYAA6CnUUAFUxo+nDWTqwsoP7QaLyTdbB5hTOdufTParlFAGBc+BfC93YzWc+hWRt55/tEiCEANL/f8Ar706PwT4Zh0+4sY9CsVtbrZ58IgG2XZ93cO+K3aKAKL6LpkmpQ6g9jbteQRGGKcxjeiHqoPp7Vk23w88I2d01xb+HtPSVpRNvEAyHByGHoQea6SijzDpYwNW8C+GNc1IX+raJZ3V0MAyyRAlsdM+taP9iaYNSg1AWFuLy3i8mGfyxvjj/ug9h7Veoo2AyD4T0A6XNpp0ez+xTzefLb+SNjyZzuI7nI61oXdja39hJZXlvHPayp5ckMi5Vl9CPSp6KOlg63K8FhaWunJYW9tHHaRx+UsCqAipjG3HpisjSfAvhjQ9SN/pOiWdrdHOJY4gCueuPSt+ijrcOlilYaNpulW80Gm2MFtFPI0sqRIFDs3UkdyaytP8AeFdK1Ualp+h2dvdqSyyJGAVJ6kenWuiooAwtM8EeG9G1V9S0vRrS2vHzmaOMBhnrj0zU2meFND0bVLrUdK0y3tbu8/18sSAF+c8/jWvRQAUUUUAFFFFABRRRQAUUUUAFFFFABRRRQBBB/x8XX/XQf8AoC1PUEH/AB8XX/XQf+gLU9ABRRRQAUUUUAFYWqeCfDmtagb3U9Itri4IAaR05cDoD6/jW7RQBTl0jT5vsnm2UD/Ym3W2UH7k4xlfTjirlFFABRRRQAUUUUAFFFFAEFp/qn/66v8A+hGp6gtP9U//AF1f/wBCNT0AFFFFABRRRQAVh6v4M8Pa7ei71bSbe5uMBTI6csB2PqK3KKAMbUvCGgavaW9tqGlW8sNqu2BSmPLHoMdBV/TdLstHsUstLtYrW2j+7FEu1RVqigAooooAKKKKACiiigCBf+QjJ/1yT+bVPUC/8hGT/rkn82qegAooooAKKKKACs7WfD+leIbdINZsYbtI23IJFyUPqD2rRooAyLbwroVpo0uk2+l2yWM3+tg8sbZD6n1NP0Tw1o/hyORNF0+G0Epy5jXBb6mtSigAooooAKKKKACiiigCC5/1tt/11/8AZWqeoLn/AFtt/wBdf/ZWqegAooooAKKKKAMTUvBvh7V9UXUdS0m2uLtcfvXQEnHTPrj3rR/syy/tFb/7LF9rWHyFm2DcI85259M9qtUUAYdh4M8O6ZqzalYaRawXbEnzUjAIJ649M1DN8P8AwlcXUtzN4d0955nMkkhgGXY9ST610VFAAAFUBRgAYAooooAKKKKACi0/5CU3/XJP5tRRaf8AISm/65J/NqAFvf8AkIW//XOT+aUlLe/8hC3/AOucn80pKACiiigAooooAKKKKACiiigAooooAKKKKACiiigAooooAKKKKACiiigAooooAKKKKACiiigAooooAKKKKACiiigAooooAgg/4+Lr/roP/QFqeoIP+Pi6/wCug/8AQFqegAooooAKKKKACiiigAooooAKKKKACiiigAooooAgtP8AVP8A9dX/APQjU9QWn+qf/rq//oRqegAooooAKKKKACiiigAooooAKKKKACiiigAooooAgX/kIyf9ck/m1T1Av/IRk/65J/NqnoAKKKKACiiigAooooAKKKKACiiigAooooAKKKKAILn/AFtt/wBdf/ZWqeoLn/W23/XX/wBlap6ACiiigAooooAKKKKACiiigAooooAKKKKACi0/5CU3/XJP5tRRaf8AISm/65J/NqAHXcCz6hbq5YDypD8jEHqnpTv7Nh/56T/9/Wp0n/IUt/8ArlJ/NKs0AVP7Nh/56T/9/Wo/s2H/AJ6T/wDf1qt0UAVP7Nh/56T/APf1qQ6dCASZJgB1Jmarleb/ABh8Urpum2PhuG/j0+51+QwvdyPtW3tx/rHz64OB9aTfRDS7ncQW1ldRl7a6eZAcFo7gsM/gal/s2H/npP8A9/Wryb9nW5sI9F8RabZXizi31eUxL5m5vKwoVvocda9kqmtn3SJT3RU/s2H/AJ6T/wDf1qhubexs4TNeXbQRDq8twVUfiTWjXiPiG0Txt8dtW0jXkmvdN0HS1uLXS45NgupGUEn35OOfapvrb+tNSul/63seu2sFhfQiayvGuIicB4rkuv5g027TTrARG+vvswmcRx+dc7N7HooyeT7V4tYeLdN8KeFvG934Q8P3GgappK2/n2d1KJIwzNgEKDgHBPT2q54l1bxGvhzwpqHi6PS7+TU9etWt4Rb5FojjOAT1Yf3qpavTy/EnZO/n+CuewXNtZ2VrLc3dzJDBCheSR5yAqjqSc0lpBZX9nFdWd1JPBMoeORJyVZT0IOa8X8YeK/GPiq28eQ6JNY2+haHHJZz280WZJ/lO9g3UEckV3Xg6xu9T+AGmWOmz/Z7u40RYoZc42OY8A/nU3fK5Ly/G/wDkV9pR9fwt/mdVB/Zd1cPBa6is00f3447vcy/UA5FWv7Nh/wCek/8A39avCPh1f6X4H1q20bxf4WfSfElrazNDqKNuW/VVLMSe5wO/6U7QfjH4p1LUNJ1LzI7uz1G/EEulQ6dJm3iZiofzsYbHU1Vk2kiW7Jtnuv8AZsP/AD0n/wC/rUf2bD/z0n/7+tXi/j34pa54a1S+udP8Rabcx2V2sTaTDYs5CbsYeboGx2zW7L4u8Y6z8Wr/AMNaDcWVpYWMFtdyyzQ722MoLIPc569sUlqk/wCu/wCQ3pv/AFrY9L/s2H/npP8A9/Wqpp7aXqsckmm37XSRSGJ2iuCwVx1U89a4PwH4l8Z+Orp/EFtfWFtoS3z2409rfMjRKcFvM6hvavMfD3iLxl4R8G+IvEOh3FiukWOvS+fbSxbpJyzqDz/CBkdPehbpPt/l/mNrt3t+f+R9K/2bD/z0n/7+tVQPpLXT2y6mpnQEvELv5lx1yM5FYHxM8QXmk/B/V9Z0wtHc/Y1MbL1TeVXI+gaue8B/CfwrN4N0PVJrd59Rmt47mW985t8jOuWBOeRyRijW78hXVk+//A/zPR47S0lhE0VzI8RGQ63BK4+uaWKytZ4hJBcSSI3RknJB/EGvn+y8SXnhD4X+MPBTSu2q2OoHT7EE/M6XDfKR+G8/lXr6aZf+D/hH9i0Eq2oabpuYi67g8irk5HfJz+dJtKLn00/K/wCGg0nzKPXX87fidJ/ZsP8Az0n/AO/rVXuU06yeFLy++ztO/lxLLc7TI3ouTyfYV4/H8cr2fVvBaxJCbPUIIzq77f8AVSSMYwM/w/MpNVLrx1qHiS/8P6jf2VjcWM/iprXTmlgBZIVIG8H+9nv7VVne3nb8Uv1Jvpfyv+Df6HuMljbxRNJLNMqICzMZmwAOpqDT107VbGO8029e5tpM7JYpyVbBxwc14z4WXxRJ4/8AiKl3q8EtrbKwu4vJP7zMT7NnPyY7+tYvgLxR4x8I+B/B1559i/h6+1H7ALQRfvcPI3zl/XOeB6ClH3redvxHL3b+V/wPon+zYf8AnpP/AN/Wo/s2H/npP/39arYORRQBU/s2H/npP/39aj+zYf8AnpP/AN/Wq3RQBU/s2H/npP8A9/Wo/s2H/npP/wB/Wq3RQBU/s2H/AJ6T/wDf1qP7Nh/56T/9/Wq3RQBmW+nxNcXQLzfLIAMSn+4pqx/ZsP8Az0n/AO/rU62/4+rz/rqP/QFqzQBU/s2H/npP/wB/Wo/s2H/npP8A9/Wq3RQBU/s2H/npP/39aj+zYf8AnpP/AN/Wq3RQBU/s2H/npP8A9/Wqrc/2XZSpHeaiLeST7iS3e0t9ATzWrXhfjssni7xZ5GijxFHcWsay3IXJ0k7NuMd+DvwvNJuzGlc9huo9OsYRLfXxtoycB5rnYCfqTU0djbSxrJFPK6MMqyzkgj1BzXmWhWOneIvHdhp2oSprOnad4dt3tWmG5JWdiGkwe+FArf8AhTm30nW9NRmNrpus3NtbAnO2MNkKPYZIqra29fwdib6X9PxVzsP7Nh/56T/9/Wo/s2H/AJ6T/wDf1qt0UhlT+zYf+ek//f1qP7Nh/wCek/8A39ardFAFT+zYf+ek/wD39aj+zYf+ek//AH9ardFAGZZ6fE8LkvNxLIOJSOjGrH9mw/8APSf/AL+tTrH/AFMn/XaT/wBDNWaAKn9mw/8APSf/AL+tR/ZsP/PSf/v61W6KAKn9mw/89J/+/rUf2bD/AM9J/wDv61W6KAKn9mw/89J/+/rVVuhpdgyLfagLYycIJrrZu+mTzWrXinj1nh8d689toi+KBLpqJJGBk6YQCM89QQd2BzxUt2Glc9ZuY9PsoRNeXxt4j0eW52r+ZNSRWVrPEssM8kkbDKuk5II9jmuOsLPwqnwx0jUtemg1Wx06xGy6nXIb5QDhT3OMY69qs/CbSrzSvAsa3sT24uLiW4gtnPNvE7kontgY4rRq0muxKd4p9zq/7Nh/56T/APf1qP7Nh/56T/8Af1qt0VIyp/ZsP/PSf/v61H9mw/8APSf/AL+tVuigCp/ZsP8Az0n/AO/rUf2bD/z0n/7+tVuigDMXT4v7SkXfNgRIf9ac9Wqx/ZsP/PSf/v61OT/kKy/9cU/9CarNAFT+zYf+ek//AH9aj+zYf+ek/wD39ardFAFT+zYf+ek//f1qP7Nh/wCek/8A39ardFAFT+zYf+ek/wD39aoLmLT7MKbu9MG77vm3O3P5mtKsfxJpmhXemveeJLK3ubeyjeUtOgYIoGSR+VJuyuNK7sSxJps8TywX/mRx/fdLrIX6kHii0TTb+MvYX/2lFOC0N1vAP4GvIF0KK2+DmpasRHp0ut30d5DZBTtkTePKt9o5+ZQB+Nbnw4dJfiFqktxpJ8NXRsYkXSP+eigkmbI4PJ28dMc1SWtv62v/AMD8diW9L/1vb+vuPS/7Nh/56T/9/Wo/s2H/AJ6T/wDf1qt0UhlT+zYf+ek//f1qP7Nh/wCek/8A39ardFAFT+zYf+ek/wD39aj+zYf+ek//AH9ardFAGZc6fEstsA83zTYOZT/darH9mw/89J/+/rU67/11p/13/wDZGqzQBU/s2H/npP8A9/Wo/s2H/npP/wB/Wq3RQBU/s2H/AJ6T/wDf1qP7Nh/56T/9/Wq3RQBl3A0y0njhutQEEsn3I5Lraz/QE81Y/s2H/npP/wB/mry610TT/FNj4/1HW4EuLuG8ubeGWTlrdIk+Taf4cdeK6fSNZvf+FHw6u7s16mimfeepcREg/nU81oOXkn96uO3vKPm19x0UY0ya8e0i1APcp96FbrLr9VzkUh/stb0WbaiBdHpAbv5z/wABzmvK7jRLDRvAHgvXtNhWPVWvrMyXS/6ybzjiQMe+cmpviVZWdjeW7xeHJNPj/tOG4uPEQwRH84JPB3ck7fSrtaVn3t+X+ZN7q67X/P8AyPWP7Nh/56T/APf1qP7Nh/56T/8Af1qsxkGNSDuBAwfWnUhlT+zYf+ek/wD39aj+zYf+ek//AH9ardFAFT+zYf8AnpP/AN/WpltAtvqUqoXIMKH52Ld29avVWX/kKy/9cE/9CagAk/5Clv8A9cpP5pVmq0n/ACFLf/rlJ/NKs0AFFFFABWZq/hvRdfaI61pdrfGEERmeIPtz1xn6Vp0UAed2fwZ0PTvDWt6Rp11dWn9sXHnSXMO1JYhuDCNSB90Y6H1Nd9Z2ws7GC2V2kEMaoHc5ZsDGT71NRR0sHW4VxPjD4Z2fifW7fXbLUrzRdat08tb2ycKzJ/dYHqK7auQ8R/E7w54W1z+yNUluTeiETmOC3aTah7nFJ2uhq5hWfwWsk0HxFY6nruo39z4h8v7ZeSld/wAhyMcY/Oui17wDYeINK0Kwubq4ij0S6huYWjxmRohgBsjofatjQPEOl+J9Hi1TQ7tLu0lyFkXjBHUEHoa0qrVfh+GxOj/H8dzzPWvgtY6rrurXlvrup6fZ6181/Y20gEcz46nj8cV11n4Ut7HwJD4Xt7u5SCG0FqlyjbZVAGAwI6Gt6sDxX4vsfCMemvqEcsg1G+jsovKAOHfoT7UunL3t/wAD8x9ebsc1o/wkit/EkOteI9f1LxDcWsTw2q3zArErAhug5JBNGgfCqXw1eQR6T4q1SHSIJ/Oj0/5No+bcU3Yztz2r0Qc0UbMNzyvUvgVYajJq0P8Ab+pQabql0bySyiK7RKTnOSMkcdDXX6X4IstK8bah4mhuJ3ub+2itnifGxVjAAI4zk4rpap6vqtpoej3Wp6i5jtbSMyysBnCjrxS0ivT/ACt+Q/if9ev5nD6L8JY/D/iJrzSfEWqW2ltdm8OkpIBCZD26Zx7VKfhFpJ8Dax4Y+33n2bVr1ryWX5d6MWVsDjGPlFaHhb4neHPGOpfYtEkunl8oygyW7IpUY6MeO9dfTtZJf10/yX3Cvrf+v61M+80Sy1Hw9Jot/H59nLB5EiN/EuMfnXD+HvhLN4dvbNLbxhrT6TZSiWHTWlHl8HIU8ZK+1ekUUX15hW05ehwmr/CXRNZ+JFr4xuJ7hbq3MbtbLt8qV0BCs3GcjP6V3TKGUqwyCMEetLWfo2u6Z4hsmu9FvEu4FkaJpEBwGU4I59KOnKPrzHntr8BPDlpomuabHeXpTV5EfzCV3W2xyyiPjpknrWunwn0eLRfDGmxXVykXhy5F1Aw25mfOTv47nniu7ooWm3l+GwPXfz/E4U/DGFPHWp+IbPWb62i1aMpe2MZHlynYUBPGeM5+tMX4S6Uvg7QvDv267+z6LfLewy/LvkZWLYbjGPm7V3tFC028vw2B67/1cBwKKKKACiiigAooooAKKKKAK1t/x9Xn/XUf+gLVmq1t/wAfV5/11H/oC1ZoAKKKKACiiigAri77wBcNqmq3Oi+IbvS4dYbfewRxRuGbaFLKWBKkgdq7SilZDucTL8N4bRtMm8M6pc6Pd6fZixWaNVk82HOcMGBBIPOfet/wz4dtfC+irp9o8k3ztLLPKcvNIxyzt7kmteiquybBRRRSGFFFFABRRRQBWsf9TJ/12k/9DNWarWP+pk/67Sf+hmrNABRRRQAUUUUAFcfqHga5bXtQ1TQtfutJfVAovI44kkVyq7Qy7gdpx6V2FFKwzg9R+FdndaLoml2Wr31hbaMS8SRhHEr/AN9wwIJByR9a6rQtLu9JsWgvtWudVcvuE1wiKyjA+X5QBjj9a0qKq4gooopAFFFFABRRRQBWT/kKy/8AXFP/AEJqs1WT/kKy/wDXFP8A0Jqs0AFFFFABRRRQAVkeJ/D8XijQZdJuriaC3nZfNMOMuoYEpz2OMGteigDB8SeFLXxFocGnGaWzNpNHPazQY3QyJ90gHg/SquieD5rHxE2u6zq8+raj9n+yxyPGkaxx5yQFUAZJ711FFGzuHSwUUUUAFFFFABRRRQBWu/8AXWn/AF3/APZGqzVa7/11p/13/wDZGqzQAUUUUAFFFFAHEap8OTeahqcmna7eabZaw27ULSFUKynGGIJGVLAYOK3I/DMEU0SR3VwunR2Bsf7O3DySv94j+9jj6Vt0UrK1h31ucLpvw0FnPp0N5rl5faVpUvnWNhKqBY2GduWAy23PGTUmrfD+81xpbTVPE9/caNLMJXsGRPmw24IXxu25HTNdtRTEIihEVV4CjApaKKACiiigAqsv/IVl/wCuCf8AoTVZqsv/ACFZf+uCf+hNQASf8hS3/wCuUn80qzVaT/kKW/8A1yk/mlWaACiiigAooooAKKKKACvBfGcPiGb9obUP+ERmtotQTw5vAuYvMWRQw+UDsScc171VEaLpo1w6yLKEak0PkG62fvDHnO3Ppmpau/v/ACaHeyfy/NM+fNC1Tw7Y/BTQrELqNxcalqrxz2sV39mL3P8AEruPupyCB9Kyk1vVLD4Y/EG0tbye2j03UbYWqLeGf7OGflVk7jivoS5+H/hS7sJrKfQbI289x9pkQRAbpf7/ANfenReBPC0Om3Onx6DYraXez7RCIRtl2fd3Dviq3bfe36f5MFZW/rv/AJnj7wah4C+JEaaPql/ePqHhq4vZlupjJ5k6qxDYPTkCuM+yadJ4d8Ca1/wkNxfa1qWtwSXtrJdb/m8zqU/hK9Pxr6kfQtLk1SDUpLCBr23hMEU5QbkjPVQfT2rGtfht4Os7prm28O2CTNMs+8QjIcHII9MHmnF2kn2/zbt935Ete61/WyX9ep5BqP2fxPrHxEvfFGtXNneaE7x6XCt2YRCqqSjBQRuyQP8AJqHS31bxz4o8FaZr2qX9vFqHh1pLtYJjG0+12wTj1AU5r2vV/AHhbXtTGoavodpdXXAMrx8tjpn1rSGg6UNUt9SGn24vbaHyIZwg3Rx/3Qew9qmKskn/AFo1f53uOWrdv61X5WPmBbXUYfhPd+Jzr2pvf6FrQs7INcHYkYkAwR3zu7+le+fE5zJ8G/EDt1bTXJ/Kto+D/Dp0mbSzo1n9hnm8+W38obHkzncR65ArRvNPtNQ0+WwvbeOe0mTy5IXXKsvoR6UpJypuP9bJP8dSotKopf1vdfgeI+HZvHHh/wCCMusfadPezi0JWsVt7fE0Z2rhi3fC5P1FZVgkGg3nw51Xw5rt1eaprdxGmpxtdmXzkdQXLJn5duT/AJFfQVvp1na6YmnW9tFHZxx+UkCr8gTGNuPTFY2keAPC2g6mdQ0jRLS1uucSpHyueuPT8K0bvNy9P1/O5mlaHL6/p+R4/wCCoL+Twv4v8ZtqN9c6npM99DYQtMTHGApOdvc5bP4CqXw5s9fuNW8L67p9ykRuSTqU0+seabxWGSPKPRgc8CvoDTtD0zSbae30ywgtYbiRpZkiQASO33iR3JrJ074d+E9J1Yanp2h2lvdqxZJETGwnqR6dTUx0a8kl92/3lS1T82/x2+48e8KQpY/Eb+yPFc1xqF7rZuRa6tY6mzxzRlTlWQH5SB0PY1t/s56Zpttoeo3MN27ah9smhkt2uCdqB+G2Z4PvivS9K8CeGNE1dtT0vRbW2vGz++ROVz1x6ZqfSvCOg6Hq13qek6Xb2l5ef6+WJMF+cnP48046fdYJa39bmzRRRSAKKKKACiiigAooooAKKKKACiiigCtbf8fV5/11H/oC1Zqtbf8AH1ef9dR/6AtWaACiiigAooooAKKKKACiiigAooooAKKKKACiiigCtY/6mT/rtJ/6Gas1Wsf9TJ/12k/9DNWaACiiigAooooAKKKKACiiigAooooAKKKKACiiigCsn/IVl/64p/6E1WarJ/yFZf8Arin/AKE1WaACiiigAooooAKKKKACiiigAooooAKKKKACiiigCtd/660/67/+yNVmq13/AK60/wCu/wD7I1WaACiiigAooooAKKKKACiiigAooooAKKKKACqy/wDIVl/64J/6E1WarL/yFZf+uCf+hNQBX1CNJb62WRQw8uQ4P1Wo/sdv/wA8lqe9/wCQhb/9c5P5pSUAQ/Y7f/nktH2O3/55LU1FAEP2O3/55LWdrGpaF4ftkuNaubeyhkbYrzNgFsZxWvXCfFLwpqnim10X+xobK4l0+/F08F65WOVQpGDgc9RSY0dJo2p6F4htnuNEure9ijfYzwtkBsZx+taP2O3/AOeS1598MvFlncw67p17pNhoFzo90I7z7M4EDMeAwY/7uOfavRlYOoZCGUjIIOQap+RK8yL7Hb/88lrD1fxN4V0G8FprOp2dncFQ4jlfBwehroq8P8UW+qXX7R0qaJp+m6hcf2IpMWokiMLvHIx36frU9Uv62bK6N/1ukew2D6bqljFe6e0VxbTLujlQ5Vh6inzDTreWKO4eCKSZtsSO4UyH0AJ5P0ryn4m+K9d+HQ8P6pZSQBJbeSC50eH/AFe8IT5iDrhSefYCua8RWGr6pP8ADO7uvFFzNc6lKx+0RbSInYBtycdcMF5/u01q9O9hbLXtc+gfsdv/AM8lo+x2/wDzyWvKY5fE+s/GTUfDcPiW6tdO0u2tbh9ijfMdoyCewYkk1zHivxzqljfy6v4f8Ra1epBqy28gMCrYhd2DGO5IHehatef+dvzB6J+X+Vz23WNR0Pw/arc61cwWULvsV5WwC3XH6VQ0vxZ4R1q/Sy0rVbO6uXBKxRvljgZNa+paXYaxYCLVLOG7jHzhJUDAHHXmvGvhLY2lj8G9Z1y1tYY9TtTemG6CDem1TjBpXtzX6K47Xtbq7Htv2O3/AOeS0fY7f/nkteDP4o8X6P8ACC08V3Gv3F3ea5JDaxR7BttQS3zqO7kL1Pc1oaf4o8ZeGbHxJd3SaveaZbaZ9otbjV0USJPkDHynlec/hTl7t79P0VxLW1uv/DHtP2O3/wCeS0fY7f8A55LXiHg3W/Hk+raRdwSaxqFrqFq7XjagiC3icpuRoyDkLu4+lavwv13V28XS6X4x1XV01xoZHfT7tV+zuN3DxEeg7U7O9hX0uetfY7f/AJ5LR9jt/wDnktTUUhkP2O3/AOeS0fY7f/nktTUUAQ/Y7f8A55LR9jt/+eS1NRQBD9jt/wDnktH2O3/55LU1FAEP2O3/AOeS0fY7f/nktTUUAQ/Y7f8A55LR9jt/+eS1NRQBD9jt/wDnktH2O3/55LU1FAEP2O3/AOeS0fY7f/nktTUUAUoLSAz3AMa4EgA/75Wp/sdv/wA8lpIP+Pi6/wCug/8AQFqegCH7Hb/88lo+x2//ADyWpqKAIfsdv/zyWj7Hb/8APJamooAh+x2//PJaxtV8ReGNEvBa6rf21tOQGKMSSoPQnHQfWt+vGfE8erT+JvGD+E7SHULSaFIdUa4UboXCAEQ5+8dhzg8ZqW7DSuej6l4i8MaRJFHqWoWtu0qCSMMx+ZT0Ix2q3pV5o+uWf2vSJobuDcU8yM5GR1Fcxc61pGj/AAktdW02FbuNbKOHTxOgLyOwCxrz3yRn8a3PBHh8eGfCNlp7YM4XzLhwPvysdzn8ya0as2uxKd0n3Nn7Hb/88lo+x2//ADyWpqKkZD9jt/8AnktH2O3/AOeS1NRQBD9jt/8AnktH2O3/AOeS1NRQBStbSBo3zGD+9cf+PGp/sdv/AM8lpLT/AFT/APXV/wD0I1PQBD9jt/8AnktH2O3/AOeS1NRQBD9jt/8AnktH2O3/AOeS1NRQBD9jt/8AnktY+r6/4a0K4WDVr23tpWXcEYkkL6nHQe5reryHxSmry+OvEb+DbSDUXaxjh1NboDELbflER7ttJODxnFS3YaVz1Ef2cbH7YGhNt5fmecG+XbjO7PpimadNpWr2KXumSQ3VtJnZLGcq2Dg15dceIdEbwj4X8OW91cQaNc2qyXVxLE5ZoYzjyjtB5Zhg+wPrXQfBbULK68AJb2Mm77PczBlCEbQZWI6j0rRrV26E30Vzu/sdv/zyWj7Hb/8APJamoqRkP2O3/wCeS0fY7f8A55LU1FAEP2O3/wCeS0fY7f8A55LU1FAFJbSD7fIvljHlKcfi1T/Y7f8A55LSL/yEZP8Arkn82qegCH7Hb/8APJaPsdv/AM8lqaigCH7Hb/8APJaPsdv/AM8lqaigCH7Hb/8APJao6re6NodqLnVpobWJm2qzk/MfQDqT9K1K8/8AiUJpNZ8NLoyrPrkdzJJaW0wzDIm3Ehc9gARgjnNIZ01trPh680eXVbe9tnsYc+ZPvwqY6g56H2NGjax4f8QCX+xruC7MJAkVCQVz0yDzXkTOxsXstXh+z6lc+KrY6vaqB5KhhlAvqhCr1613ckEVp8crMWMaxibRHM6xjAO2UbCcfU1S1t5//I3Jel/662O2+x2//PJaPsdv/wA8lqaikMh+x2//ADyWj7Hb/wDPJamooAh+x2//ADyWj7Hb/wDPJamooApXFpAJLfEa8y4P/fJqf7Hb/wDPJaS5/wBbbf8AXX/2VqnoAh+x2/8AzyWj7Hb/APPJamooAh+x2/8AzyWj7Hb/APPJamooA5/U/EfhjRr9bLVNQtba4bB8t2ORnpn0/GthbW1ZQyxqVIyCDwRXm2kWtpqGj/ESbVIo5JTfXccjSAEqix/IOegAxitnSbm8T4FRXO5vta6GXVv4twiODUuVoOXkn96bHa8lHza+417TxJ4WvtWOmWmo2st5kgRKx+YjqAehI9qJPE3hWLWBpUmpWq3pfyxEWP3/AO7npn2zXBahZ2lt8LvA9xYRxrci+sTFIgG5i33+e+QTmrfxQhvre0jluNKs4vD8F/BcXV7A2bgYcHIXH948nPSratKz72/L/MlO6uu1/wA/8j037Hb/APPJaPsdv/zyWpIiGiQr90qCM06kMh+x2/8AzyWj7Hb/APPJamooAh+x2/8AzyWn2ESRahMI1CgxIePq1PotP+QlN/1yT+bUALe/8hC3/wCucn80pKW9/wCQhb/9c5P5pSUAFFFFABWB4r8G6b4wt7eLU3uojbsWiktp2iYZ4PTr0rfootcDj7X4W+FrTwnd+HY7OQ2V64kuWMzeZKwIIJfr2rq7W3js7SK2gG2KFAiDOcADAqWincArkvEPwz8O+Jte/tnUo7tb7yRD5tvdPFlAc4+U11tFIDl4vh14eS7tLia3mupLO0ezh+0ztIFjbO7gnqckZ61QvPhL4Yu/DVloZiuo7XT5mmtWW5bfCzdcNnOPau3oo/r9Q/r9DD0rwfpGj67PrFlFIL24t47aSR5S25IwAvB74HWudm+DHhGe6uJZbe6Mc8/2k24uXEaSZyWCg4B4rvqKOtw6WE2jZt7YxWDpHgvRdD8M3Wg6fA6afdeZ5qNIWJ8z73J571v0UWA5yXwHoE/gqPwrNaF9KiQLHGzksuDkEN1yPWq+jfDrRdHhvIi95fJeQG3lW8uWlHl/3QCeK6uije77h28jitH+FegaJciS0l1BokR44reS8do41ZSpAXPoTVjw78NtC8Na0dVtPtU94IjDHJdXDSmKPOdq56V1tFO/UAooopAFFFFABRRRQAUUUUAFFFFABRRRQAUUUUAFFFFAEEH/AB8XX/XQf+gLU9QQf8fF1/10H/oC1PQAUUUUAFFFFABXLal8P9K1DUru8S4v7Nr/AB9sjtLpo0uOMfMB3xxmupooAxZvCWjzWmlWrW2LfSZFktIVYhVZRhSR3x71tUUUXAKKKKACiiigAooooAgtP9U//XV//QjU9QWn+qf/AK6v/wChGp6ACiiigAooooAK5nVPAem6lq1xqKXN9Y3F2oS6NnctEJwBgbgOvHGa6aigCjp2i6fpWmW+n2NrHHbW6BI0IzgU3RNCsPD2mix0qIxQB2fBbJyzFjz9Sa0KKL3dwCiiigAooooAKKKKAIF/5CMn/XJP5tU9QL/yEZP+uSfzap6ACiiigAooooAKxfEHhaw8RSWs101xBdWbFre5tpTHJHng4I7H0raooA5hPh7oQ0a9064jmuRfSCW4uJ5maZ5Bja2/qCMDHpVrQPCOn+H7qe7hkubu8nUI9zdzGWQoOignoB6Vu0UAFFFFABRRRQAUUUUAQXP+ttv+uv8A7K1T1Bc/622/66/+ytU9ABRRRQAUUUUAcrqvw70XVtTubyVruH7Zj7ZBb3DJHc46b1HB/rWuPD2nLqcd8sTCSO0NmsYc+X5ROcbOn41p0UdLB1ucnpvw40TS9Qt7mE3ckdo5ktbWa4Z4bdj1KIeB1/Ckuvhzo97eGS7uNQmtWm882L3bmAvnOdmcYz26V1tFAAAFUADAAwBRRRQAUUUUAFFp/wAhKb/rkn82ootP+QlN/wBck/m1AC3v/IQt/wDrnJ/NKSlvf+Qhb/8AXOT+aUlABRRRQAUUUUAFFFFABRRRQAUUUUAFFFFABRRRQAUUUUAFFFFABRRRQAUUUUAFFFFABRRRQAUUUUAFFFFABRRRQAUUUUAQQf8AHxdf9dB/6AtT1BB/x8XX/XQf+gLU9ABRRRQAUUUUAFFFFABRRRQAUUUUAFFFFABRRRQBBaf6p/8Arq//AKEanqC0/wBU/wD11f8A9CNT0AFFFFABRRRQAUUUUAFFFFABRRRQAUUUUAFFFFAEC/8AIRk/65J/NqnqBf8AkIyf9ck/m1T0AFFFFABRRRQAUUUUAFFFFABRRRQAUUUUAFFFFAEFz/rbb/rr/wCytU9QXP8Arbb/AK6/+ytU9ABRRRQAUUUUAFFFFABRRRQAUUUUAFFFFABRaf8AISm/65J/NqKLT/kJTf8AXJP5tQAt5E02oW6pIYz5chyAD3T1pfsEv/P4/wD3wtSSf8hS3/65SfzSrNAFL7BL/wA/j/8AfC0fYJf+fx/++Fq7RQBS+wS/8/j/APfC0fYJf+fx/wDvhau15X8cPE13pNv4f0e0uLu2j1i9MdzJZKWmMSgFlQDucik3su40j0f7BL/z+P8A98LR9gl/5/H/AO+FrifhRqHhyaDVLHw7JqqT20y/arXVXYyxMRwRuJwDivQ6pqxKZS+wS/8AP4//AHwtH2CX/n8f/vhau15N8ZNR1HU9U0XwZ4f1FrC8vRLeTzo+0pHGh2gn0ZuPwqW7FJXPTPsEv/P4/wD3wtM+yN5nl/bjvxnbtXOPXFeW6J8XHsPgXYa7cQm/1eOZdMMBbBkuAdo3H3Az+NUPD+teJLz9oPf4k0tLG9i8PORawT7o5fnBBBPTrjn0qmvet/W1/wCvUn7N/wCt7Hsn2CX/AJ/H/wC+Fo+wS/8AP4//AHwtebab8V9WXx1pOha7YaSsWrO8cR0+986SBlGcSDoKi+PupT6fpnhpYrm8gguNWSO5FkxEjx4OQMck+lJ7J93b8bDW7XzPTvsEv/P4/wD3wtH2CX/n8f8A74WvE/h545XQ9Q8aS3eo6jLoulwJcWtjqmRdAY5OD0BJA/EV0em/FTxDFqHhyTxN4ftrPSfEkgispoJy0kbMAU3g8c5HSna9rdbfiLv/AFsek/YJf+fx/wDvhaPsEv8Az+P/AN8LXl9/8Xtektda1zQPD1tdeHdFuWguJ5Zys0u0gMyKOMDPeprz4vX934vtdH8O2Fh5c1nBdh9SuTCZ1lUMBH2JAP50o+9a3X/hxvS9+n/DHpX2CX/n8f8A74Wk+wS/8/jf98LXl2j+KPGlx8ftZ0aSGGTTYYoi1u1wdsER6SKMcsR1FZGh/EdPCnhK4u9J0ea6e78TS2HkS3TOzMR1Ut0ycDHShapPv/ml+oPRtdv8rntP2CX/AJ/H/wC+Fo+wS/8AP4//AHwteZQfGHVNOTxRb+K9BjtdQ0K2S6WG2lLrKj4C5J+ozV/wl8RPEOteO4/D+paZpiobEX0lxZ3BfYjfdH1zTWu39b/5MHp/Xp/mjvvsEv8Az+P/AN8LR9gl/wCfx/8Avhau0UgKX2CX/n8f/vhaPsEv/P4//fC1dooApfYJf+fx/wDvhaPsEv8Az+P/AN8LV2igCl9gl/5/H/74Wj7BL/z+P/3wtXaKAKX2CX/n8f8A74Wj7BL/AM/j/wDfC1dooApfYJf+fx/++Fo+wS/8/j/98LV2igCl9gl/5/H/AO+Fo+wS/wDP4/8A3wtXaKAMq3spTcXQF0w2yAE7F5+RasfYJf8An8f/AL4WpLb/AI+rz/rqP/QFqzQBS+wS/wDP4/8A3wtH2CX/AJ/H/wC+Fq7RQBS+wS/8/j/98LR9gl/5/H/74WrtFAFL7BL/AM/j/wDfC0fYJf8An8f/AL4WrteHfETVI7Hxhr0WtvqE7taxtpD2UzCOzYrt/ebfufP82T1FJvWw0rnsn2CX/n8f/vhaPsEv/P4//fC15zBa3HivxfY+Htd1Gae10/Q4bmY2sxQXM8hI3lh1AC8fWt74YXl3Louqade3Ml0dJ1SexjmlbLNGjfLk9yAcfhVW1t6/g7E30+78Vc6j7BL/AM/j/wDfC0fYJf8An8f/AL4WrtFIZS+wS/8AP4//AHwtH2CX/n8f/vhau0UAUvsEv/P4/wD3wtH2CX/n8f8A74WrtFAGVZ2UrRORdMP3sg+4P7xqx9gl/wCfx/8Avhaksf8AUyf9dpP/AEM1ZoApfYJf+fx/++Fo+wS/8/j/APfC1dooApfYJf8An8f/AL4Wj7BL/wA/j/8AfC1dooApfYJf+fx/++Fo+wS/8/j/APfC1drz34maPpdlot/r00t+b+RVhtoYbx0WSZsKihQcdcfrSbsNK52v2CX/AJ/H/wC+Fo+wS/8AP4//AHwteXarayaLJ4S0PxZqV4uirYyG7uQ7gS3I24V2HOMFiK3vhPq326y1yygvJb2y03U3gs5piSxiKqygk8nG7HNVbV2/qzsTfRP+trnZ/YJf+fx/++Fo+wS/8/j/APfC1dopDKX2CX/n8f8A74Wj7BL/AM/j/wDfC1dooApfYJf+fx/++Fo+wS/8/j/98LV2igDKWyl/tGRftTZESHOwerVY+wS/8/j/APfC1In/ACFZf+uKf+hNVmgCl9gl/wCfx/8AvhaPsEv/AD+P/wB8LV2igCl9gl/5/H/74Wj7BL/z+P8A98LV2igCl9gl/wCfx/8AvhaPsEv/AD+P/wB8LV2sTxJ4f07W7ZJNVnuYIrVWctBcNFgY5Jx16Um7DWpe+wS/8/j/APfC0fYJf+fx/wDvha89+HvhqPXPCd/dXtzqIsNTvTNZRm6cPHAvyp82c89fxqT4f6Wh8ea9e6XdXj6RY4sIVnuGlWWUcyPz6HC/gaq2tvK/9fPQnpf+v66nffYJf+fx/wDvhaPsEv8Az+P/AN8LV2ikMpfYJf8An8f/AL4Wj7BL/wA/j/8AfC1dooApfYJf+fx/++Fo+wS/8/j/APfC1dooAyrmylWW2zdMd0uB8i8fK1WPsEv/AD+P/wB8LUl3/rrT/rv/AOyNVmgCl9gl/wCfx/8AvhaPsEv/AD+P/wB8LV2igCl9gl/5/H/74Wj7BL/z+P8A98LV2igCl9gl/wCfx/8AvhaPsEv/AD+P/wB8LXmMmmyeMV8ZaxeaheQ3Ol3U9tpwgnZFt/JXIOBwSW5Oa67S/EtzL8IYvEc3zXQ0k3TZHVxHu/mKV0oOXkn9+o7e9y+q+46D7BL/AM/j/wDfC0fYJf8An8f/AL4WvJjY3Gg+GfCvi+HUr2XVL68tlvmknZknSc4ZdvTAyMfSn+Zp+m+KtTvPGaa9bg6qxtrtXcWqxlhszg8DPtVW97lf9bf5k30uv63/AMj1b7BL/wA/j/8AfC0fYJf+fx/++Fq4pBUFTkEcGlpDKX2CX/n8f/vhaPsEv/P4/wD3wtXaKAKX2CX/AJ/H/wC+FptrC0OpTK8pkJhQ5IAxy3pV+qy/8hWX/rgn/oTUAEn/ACFLf/rlJ/NKs1Wk/wCQpb/9cpP5pVmgAooooAK4z4h+CbrxYukXukXqWWq6Ndi5tZZU3IT3Vh6HArs6KAPMNP8Ahr4itrHxJqH/AAkcdt4n154ma9t4SI4FQ8Kq5z0yM16TZxSwWMEVzL50yRqry4xvYDk/jU1FHSwdbhXnd/8ACay8QfEHUvEXimZb+GaGOGytk3J9nVRzk55yea9Eoo63DpY8ZufgM8ema7p2kaulrZXV9FqGmxGMk2kyZ6nPIIOPwFaWnfC/xHc+J7rX/E/iSG5vLrSJdNItoPL8oN0Zee3X6mvVKKXS39bW/IOt/wCt7/meMeGvgpq+la14dvL/AFXTjHoMzMi29oVe4Uggl2zy3T9a7H4k+B7/AMaW+jnSdRhsLrSr9byN5ojIrFRwMAjvXbUVTba+d/mG35f1955bH8ILrVr7XNS8Za0l/qOrWH2APaweVHEnBBC9zlQai0r4X+I5r/w5F4q121u9L8NOslnFbwFHlZQAhck9sCvV6KS0f9f11Df+v67Hj1z8IvEUFnrWgaJ4gtrfw5rV01xNHJblpogxBZVbOOcYqfxf8JNV8Qx2ek2uo6fDo1qkEcDyWubq2WNVBCSD12/rXrVFC0t5W/Db7h3bv/W+556fAWtWPxXHinRdWgjs7q2itr63ni3O6oAPlPYnArGi+C91HpFtZ/2xCTD4k/tot5J5XP8Aq+vX3r1uihaW8v8AO/5oXS39bW/I8W+LHgm+tLXxj4ntJJLr+1bC3tFtbeMl49rrlj6jA5AHSqXwjmvdM8dLpelLZalpdxZeZd39tprW3kuPuoWI+Y+1e7EAjBGRTY4o4gRFGqA9doxRH3f6/rvcJe8v68v8h1FFFABRRRQAUUUUAFFFFABRRRQAUUUUAFFFFAFa2/4+rz/rqP8A0Bas1Wtv+Pq8/wCuo/8AQFqzQAUUUUAFFFFABXn974M8QW2ra/Jod3pslrrzbphfQs7wHYEO0g4I4yAa9AopWTHdo87g+H2reHLjSr3wnqFubq001dOuFvkLJOinKtwQQQSa6Xwd4bbwxor29xcfary5uJLq6nC7RJK7ZYgdh2H0rfoqrv8Ar1v+ZNv6/D8gooopDCiiigAooooArWP+pk/67Sf+hmrNVrH/AFMn/XaT/wBDNWaACiiigAooooAK53XvDEmveJNFvLm5UafpcjXBtdpzLNjCMT6LyfrXRUUdbh0sYfiS2164WEaAdMK8iVL+JnHsRg9uaZ4Q8Nf8Izpc0c9wLq9u53ubucLtDyN1wOwAAAHoK36KFoD1CiiigAooooAKKKKAKyf8hWX/AK4p/wChNVmqyf8AIVl/64p/6E1WaACiiigAooooAKxPF+iXXiPwxc6RZXgszd7Y5ZSpJ8rPzge5GRn3rbopNXGnYz3057bw62naM6WskdsYbZyuVjO3CnHtVbwl4di8K+GLTSYn81oVzLLjBlkJyzH6kk1s0VV9W+5NtEuwUUUUhhRRRQAUUUUAVrv/AF1p/wBd/wD2Rqs1Wu/9daf9d/8A2Rqs0AFFFFABRRRQB57f+CPEMF5rsHh3VLS30zXpGluBPEzSQM67XKEHHI9elb8Phie3s4tGju4/7AXTDZNamL94zY279/ptyMV0dFKytb+uw763PObDwDr7w6PpGt6paT6Los6TQiKJhNP5f+rDknHHt1xVvxD4Y8V+KLafRdS1HTY9GnlBkkhhbz2jDBgnJwDwBnFd3RVX7i9BsaCONUXooAFOoopAFFFFABVZf+QrL/1wT/0Jqs1WX/kKy/8AXBP/AEJqACT/AJClv/1yk/mlWarSf8hS3/65SfzSrNABRRRQAUUUUAFFFFABRRRQAUUUUAFFFFABRRRQAUUUUAFFFFABRRRQAUUUUAFFFFABRRRQAUUUUAFFFFABRRRQAUUUUAVrb/j6vP8ArqP/AEBas1Wtv+Pq8/66j/0Bas0AFFFFABRRRQAUUUUAFFFFABRRRQAUUUUAFFFFAFax/wBTJ/12k/8AQzVmq1j/AKmT/rtJ/wChmrNABRRRQAUUUUAFFFFABRRRQAUUUUAFFFFABRRRQBWT/kKy/wDXFP8A0Jqs1WT/AJCsv/XFP/QmqzQAUUUUAFFFFABRRRQAUUUUAFFFFABRRRQAUUUUAVrv/XWn/Xf/ANkarNVrv/XWn/Xf/wBkarNABRRRQAUUUUAFFFFABRRRQAUUUUAFFFFABVZf+QrL/wBcE/8AQmqzVZf+QrL/ANcE/wDQmoAhvXlS/tzDs3eXJ9/OMZSk+0Xv/TD8mp17/wAhC3/65yfzSkoAT7Re/wDTD8mo+0Xv/TD8mpaKAE+0Xv8A0w/JqPtF7/0w/JqWuc8YaRreqW0B0LxA2ieRuaZxGG3jA656YwaTdhrU6L7Re/8ATD8mo+0Xv/TD8mrzH4Lax4h1+01m/wBa1R9R09bs29hK6BS4TO5/ocj8q9PqmrEifaL3/ph+TUfaL3/ph+TUteb/ABZ8Sa5ZPpOgeDp/J1jUWkl3AZKxRoWP5nAqW7FJXPR/tF7/ANMPyaj7Re/9MPyavOdH+KlnD8HrLxZrG+WfC28sMQ+aS4B2lQPcgn6Vh6B461LXPjdsubPUdMtotDeSTTbjklw4IYAcHINU1aXL/W1yb+7f+t7HsX2i9/6Yfk1H2i9/6Yfk1cHYfFATeKNP0bV/D2oaSdTLCzmuGUiUqM4IHK8etUfjP4m1Hw3p2hf2bqZ0tLzUlgubkLu2Rkcn8OtJ6JPuPrY9K+0Xv/TD8mo+0Xv/AEw/Jq8j+HvxCuZLzxT/AGvrkWr6Ho0ayxalsCO3GWG3qfStnSfi5bX2qaVb6hoWoaZaay23T7yfaUnPYYHIzx19adtrdRdz0P7Re/8ATD8mo+0Xv/TD8mrzjUvjJZ2c+oy2eh6hf6Vpc/kXupQ7fLibODgHk4z2q1efFW1/4SJNI0LR7vWJPs8VzK9uyqI45ACpAPLcEHiktbWG9NzvftF7/wBMPyaj7Re/9MPyavMNM+I2uXXxm1Lw1Lo9w2nwpGEAVQ0OesrHup7V1+veMLTw94i0TSr2GT/icStDFOPuo4GcH65oWqT7g9G12Og+0Xv/AEw/JqPtF7/0w/Jq4BPjFoEmneJbxUlK+HpRFMuRmbLbQV+pFc/q3j68sNZ8U3mnPqU9za6RBcx6dIFMNsXQHfj2zk/jSv1/ra47a2/re36nr/2i9/6Yfk1H2i9/6Yfk1eD+IPiNrt58N/CeuXNve2Ez6rbCdogB9sTbubYo7H0r0jwb8Q4PFmr6hpM2l3elahYKryW91jJRujcf55qrO7Xb/JP9Sb6J9/8AhjsPtF7/ANMPyaj7Re/9MPyavH/iN4s1Gw+Ktlog8Uf8I9pkmmG4efYCPM3sAOfXH6VoeA/Huv3Xw7fVdX0251i5F61taG1iCNdR9pOeAOvNJaq/9b2G9Hb+trnqH2i9/wCmH5NR9ovf+mH5NXntv8XrA6Fr17qGlXdjc6CU+12cjKzAOcKQRwak0D4s2Ot+KLfRptJvtO+2wNcWVxdKAtwgGSQO3ANH9fqB332i9/6Yfk1H2i9/6Yfk1eEfEH4vy6v4VnHhyx1O0thfxww6svEcpV/mX1FdxrHxSi0zVLvTdL0S+1qXTIFl1CS2IC24Izznqcc4FHS/9bXDrb+t7Hf/AGi9/wCmH5NR9ovf+mH5NXAX/wAX9HtbHQrmzs7y/Guxu1pHAuXLLgbCPXPHtisdvj1Yrp091/wjeq5sZfL1FMDFn82PmPfnsKAPV/tF7/0w/JqPtF7/ANMPyaorO7iv7GC7t23RTxrIh9QRkVNTas7MSd1dCfaL3/ph+TUfaL3/AKYfk1LRSGV4J7sXFzjycmQZyD/cWp/tF7/0w/Jqhg/4+Lr/AK6D/wBAWp6AE+0Xv/TD8mo+0Xv/AEw/JqWigBPtF7/0w/JqPtF7/wBMPyalooAT7Re/9MPyaj7Re/8ATD8mpa8j8beKb3TvFGs2t/r11ozQ26Po0ECjbeMV5z6nfxg9qV9RpXPW/tF7/wBMPyaj7Re/9MPyavL/ABP4j1PT7jQI/E+rS6BYXOnl7m7tQOboAEoT2GMmur+Ht9qepeC7S61pzLNIXMcrABpItx2MQO5XBqrb+RN9vM6X7Re/9MPyaj7Re/8ATD8mpaKQxPtF7/0w/JqPtF7/ANMPyalooAT7Re/9MPyaj7Re/wDTD8mpaKAK9pPdiJ9vk481+oPXcan+0Xv/AEw/JqhtP9U//XV//QjU9ACfaL3/AKYfk1H2i9/6Yfk1LRQAn2i9/wCmH5NR9ovf+mH5NS0UAJ9ovf8Aph+TUfaL3/ph+TUteVeOvE9zpniy/tdV1650O1SyWXS/s6jF1JzuBPc7sDFJuw0rnqn2i9/6Yfk1H2i9/wCmH5NXnDar4i1i78M+HZ71tLvbvTmvtRntwN/y7VCr2GWPP0rY8CapqMt1rmiavdNez6PeeSly4AaSNlDKWx35xVW1a/rR2/Mm+l/611Ov+0Xv/TD8mo+0Xv8A0w/JqWikMT7Re/8ATD8mo+0Xv/TD8mpaKAE+0Xv/AEw/JqPtF7/0w/JqWigCus93/aEh/c7vKXPBxjLVP9ovf+mH5NUK/wDIRk/65J/NqnoAT7Re/wDTD8mo+0Xv/TD8mpaKAE+0Xv8A0w/JqPtF7/0w/JqWigBPtF7/ANMPyaj7Re/9MPyalrI1/SbvU44jZ63c6UIsl2gVTvHvn0xSA1vtF7/0w/JqPtF7/wBMPyavHbfxL4htfBtzqJ1qWW1v9ZSxs764Rcw2+7a0vpyQcfUV0vhjV7mz+IV14bk1w61avYLeRTO6s8TbtrKSO3QiqWv9eV/yB6f152/M737Re/8ATD8mo+0Xv/TD8mpaKQCfaL3/AKYfk1H2i9/6Yfk1LRQAn2i9/wCmH5NR9ovf+mH5NS0UAV7me7Mltu8nIlyMA9drVP8AaL3/AKYfk1Q3P+ttv+uv/srVPQAn2i9/6Yfk1H2i9/6Yfk1LRQAn2i9/6Yfk1H2i9/6Yfk1LRQAn2i9/6Yfk1H2i9/6Yfk1eZ3N34g8Rt4o1PTdbn06PRZ5be0tolBSRolyxfPXJ4rq9O8TG4+G8XiWaMbv7O+1ug6ZCbiKV1y83z+8dve5f60Oh+0Xv/TD8mo+0Xv8A0w/Jq8qTUvEek6P4e8U3mtzXS6pdQR3ViygRIk3TZ6FSRV/xw+u+HGtdXs/ENxNcXOoxQw6aUXypEdsFAOuQvOfaqs72fe3z0/zJvpddr/n/AJHo32i9/wCmH5NR9ovf+mH5NQpJQFuDjmlpDE+0Xv8A0w/JqPtF7/0w/JqWigBPtF7/ANMPyals3lk1KYz7M+UmNmfVqKLT/kJTf9ck/m1AC3v/ACELf/rnJ/NKSlvf+Qhb/wDXOT+aUlABRRRQAVzPxC0/XNX8EX2m+F/KW+vFEO+WTYEQ/eOfXHH4101FJpNWY07O6OQTw9q3hb4YwaL4J+zDU7SFEia4+4zZG9j9fmNdTZ/aPsUP23b9o8tfN2dN2Oce2amoqm222+pKVkkugV5lqvw21PxP8Tr7XtX1CawsoLZLfTTZT4kx1ct6c16bRS63H0seET/BzxJZaBrWjaXPDLaR6pDqektNLlndc7lcY47flW5YeEvHWqeObnxNrKWGmzTaJLYQLbSljDIT8hPrzk163RR0t/W1vyDrf+t7/meEeGvhf4qh8T+GtS1OxtYW0m4dry5a8aWS5yD8+DwO3HvXcfFbwnrPie30KTQILW4m0zUUu3iuZNiuqjpnBrv6KbeiXnf+vuDrfyt/X3nja/CvXdf1DxHqeuJYaPLqmm/YorSwYtGGBBDseM8qPzNPsPBvjLWrrwlYeIrOysdP8MypKZ4Zt7XLRgBMDsOOa9hopLT+u13+of1+S/Q8Sk8BeNdL0PxD4R0m1sbjS9au3mS/lmw0KORuBXuQBTvFnw18QXc2nWWg6baRS2MFvBba4ly0cyJGqht6j73Q4r2uihaW8rfhsNu9/O/47nmyeGvE+k/GaTX7C3trzTdStIbe6lkk2vFsABIHc8frWn8U/CWoeLPDFuugtGmrWF5Hd2jyNtAZTyM/T+VdtRSavFLt/ncS0d/62seBn4H65Hc6DHBLbi0lih/t4GTmV0lMhI4+briuwv8A4fareeMvGV8pgSz1nSFsrVt/zBwm3kdhmvTKKb1VvX8QWjv6fgeMQ+BvGOpeB/C+j6lZWVtLoGqW8mVnz5kEY5bp19q7HSvCmo2fxh1vxJMIvsF7YwwRYfL7lAzkduldtRTu783r+KsK2lv60dzz3XfAE2vfF221y/tra40ZdJezlSQ5YuWJ4X6HrXKP8O/HFj4Bfw7aTxTW1lq3nW0a3JRrm0yT5bMOV57V7bRU2srf1vcq+t/62seFW3wm8SHw/wCNIBZ2VnJrsNuLS3S5LrGUbLBmPP411954F1S58Y+D9Q/ci10nTpLW7PmfMGaPaNo7816NRT/r8Gv1F/X5f5HgMnw1+IH/AAhL+CoYNMOm2199piu2mIeZfM3BcY46k/pXR3PhPxj4c8TeJbnwzZWWoWviKNctPNsa3k2lT9RyTXrdFG6s/wCtv8kHW/8AXc8m0r4Xapo994BEUsM0OgC4N65bBLSgn5R3GSaSb4b66/hv4g2Si287xBfNPZfveCpYH5uOOletUUPVNPrf8XcFo0+1vwv/AJmd4fspdN8N6bY3O3zra1jifacjcqgHH5Vo0UU5Nyd2JKysFFFFIZBB/wAfF1/10H/oC1PUEH/Hxdf9dB/6AtT0AFFFFABRRRQAV5lrHhjWhrfiJpNBtdei1cgW1xNcBDbLsACEEHABGcivTaKTVxp2PL18I6/pF5pFzdWUPiaG10pbKSCaYL5cueXG4EHI4z14rqPh/oN94e8OPa6lsjeW5lnjto33LbIzZEYPcCuooqr7/wBdbk22/rpYKKKKQwooooAKKKKAILT/AFT/APXV/wD0I1PUFp/qn/66v/6EanoAKKKKACiiigArzjWvDmrr4r1q8fQrbxBa6nCkduZpwhtQFwVwQeM85HNej0UmrjTseZ2nhDxF4bTw1qlmseq3+m2UlleQPNs8xGIYbWP90jHPauj8F6HqGnyatqmtLHHf6vd/aHhjbcsKhQqpnuQB1rqaKq+t/wCtXf8AMm39fgFFFFIYUUUUAFFFFAEC/wDIRk/65J/NqnqBf+QjJ/1yT+bVPQAUUUUAFFFFABWH4xstV1Lwrd2GgsiXd0oh8x22+WjHDsPcLnFblFJpPRjTs7o5680gaV4Lh0rTNIh1OGCNIvscrhA6jryR1rH8G+EprHxJd6/e6Za6SZLdba2srZt2xAdxZm7sT/Ku5oqru/MTbSwUUUUhhRRRQAUUUUAQXP8Arbb/AK6/+ytU9QXP+ttv+uv/ALK1T0AFFFFABRRRQB5vcaF4p0efxHp+h2Nvd2euzyTxXTz7PszSLh9y45x1GK3rbw9fW2hReFhHAdHGkm1e53nzfNxtxt6Yxk5rqqKVly8v9dkO+tzzG08N+KdR03QvDmsWVvb2Oj3EUst6k+77QsX3Aq44zxnNSTaV4yl8cz6zfaLZahDbsY9NQ32xYI/7+3H3z616VRVXd7k2VrCLkqNwwcciloopDCiiigAotP8AkJTf9ck/m1FFp/yEpv8Arkn82oAW9/5CFv8A9c5P5pSUt7/yELf/AK5yfzSkoAKKKKACiiigAooooAK8E+JOrRJ8azp+ta1qthpa6Wkirp5YnzN3oPbNe91x58Du/wAWZPF8txDJbvpwsxatHlg24Hdnp2pWvJfP8mO/uv8ArqjBHji/t73TPCngex/tm7TTUu5LjUZTHiIgbd3fccj86pSfGuc+GtLvbXQjLqF3qUmmS2fmfcnUDgH0JIrb8Q+BtbXx1/wlfg3UbW0u5bMWdxDdRFkZQeCMdCMD8qy7P4Oz2mn6BH/aqSXNhrB1a9laM4ndsZCjt0FNavXv/wC3f5C2Wnb9P8yTW/ihrOj3mm6JJpmnRa9cWrXV0lzd7LeFQxAAfuTiqc/xteTwjo2o2GmwLealdyWb/aptsEDp1y47HIxWv43+HN7rXjC08TaJNY/a4rY2s1vfw+ZHImcg+xGaTUvBHiO68H22lxS6E0m6Q3UL2OIXDfdKjsV9e9LW1/63/wAh6XX9dP8AMwPGfjPxtbax4KFhbWsLahKwkhgu90Vy4/gLf3cYIPvXsFq0z2kTXUaxzsgMiKchWxyAe/NeVT/CPV7Twj4XtNG1mL+1PD9y9wk1xGWjcuckAeg7V6raLOlnCt46yXAQCV0GAzY5IHbmr0Sa8ydbp+X6ktFFFSMKKKKACiiigAooooAKKKKACiiigAooooAKKKKACiiigAooooAgg/4+Lr/roP8A0BanqCD/AI+Lr/roP/QFqegAooooAKKKKACiiigAooooAKKKKACiiigAooooAgtP9U//AF1f/wBCNT1Baf6p/wDrq/8A6EanoAKKKKACiiigAooooAKKKKACiiigAooooAKKKKAIF/5CMn/XJP5tU9QL/wAhGT/rkn82qegAooooAKKKKACiiigAooooAKKKKACiiigAooooAguf9bbf9df/AGVqnqC5/wBbbf8AXX/2VqnoAKKKKACiiigAooooAKKKKACiiigAooooAKLT/kJTf9ck/m1FFp/yEpv+uSfzagBL9it9bFUdz5cnCDJ6pTPNk/59Z/8Avj/69WpP+Qpb/wDXKT+aVZoAzPNk/wCfWf8A74/+vR5sn/PrP/3x/wDXrTooAzPNk/59Z/8Avj/69Hmyf8+s/wD3x/8AXrTrjviD45k8Gx6VBY2K3uoatdC2tkkk8uMN6s3YcigDe82T/n1n/wC+P/r0ebJ/z6z/APfH/wBeue+H/jq68W3Gs6fqunJY6jo9wILgQyeZExIP3W/Cu0oAzPNk/wCfWf8A74/+vR5sn/PrP/3x/wDXrTrgvF/xHuNJ8UQeF/C+jvrWuSxee8W/bHBH6uaXkB1Xmyf8+s//AHx/9ejzZP8An1n/AO+P/r1h6B4u1T7Dfy+OdHXw/wDYgjNcGbfDIrHGQ3sf5ir58eeFlsLm9Ou2f2a1m8iaXzOFkxnb7nHpT2Au+bJ/z6z/APfH/wBejzZP+fWf/vj/AOvUNj4v8P6los2r2Or2s2n2+fNuFf5Y8euelcY3xYg1H4h2mjeGbix1HT5tLnumnDn5ZUzhSew4H50bO39bXDdX/rsdz5sn/PrP/wB8f/Xo82T/AJ9Z/wDvj/69Y2i+N7YeBbTX/Fd3p+n+cSGaGffFncQAp6ngVpw+MPD1xoq6vDq9q+ntIIhcCT5d5OAvsabVnYV9Lk3myf8APrP/AN8f/Xo82T/n1n/74/8Ar1mj4h+FpbLUrmz1q0uRpsZkuFjk+4B/9fj8aj8BePtK+IGhLqGlsI5B/rrVnDPDyQN2PXGaS1G9DW82T/n1n/74/wDr0ebJ/wA+s/8A3x/9evPda+Ler2PiPxJZaZ4bS9s/DoV7uY3ARtpXdkA/Q12Fr490J/Bun+JNRvI9Nsr+JZI/tLYPIzj3P0oWqv8A1rsD0djS82T/AJ9Z/wDvj/69Hmyf8+s//fH/ANem2HijQ9T0aTVrDVLaewjBMlwsg2pjrn0qvo3jbw14hkmj0bWrS7eBd0io/Kr689vegC15sn/PrP8A98f/AF6PNk/59Z/++P8A69Y03xN8JrpmpXlprNrd/wBmwmWaON+eOAPxOB9TVjwP440vx54fi1PSnCsQPOtywZ4SezY70LUNjR82T/n1n/74/wDr0ebJ/wA+s/8A3x/9etOigDM82T/n1n/74/8Ar0ebJ/z6z/8AfH/1606KAMzzZP8An1n/AO+P/r0ebJ/z6z/98f8A1606KAMzzZP+fWf/AL4/+vR5sn/PrP8A98f/AF606KAMzzZP+fWf/vj/AOvR5sn/AD6z/wDfH/1606KAMzzZP+fWf/vj/wCvR5sn/PrP/wB8f/XrTooAxYJH+0XP+jzH94Oi9PlWp/Nk/wCfWf8A74/+vVq2/wCPq8/66j/0Bas0AZnmyf8APrP/AN8f/Xo82T/n1n/74/8Ar1p0UAZnmyf8+s//AHx/9ejzZP8An1n/AO+P/r1p0UAZnmyf8+s//fH/ANejzZP+fWf/AL4/+vWnXBa7491S11fXLbRdNtZ4dBhWW8e6n8tnBTfhB9O570m0hpNnVebJ/wA+s/8A3x/9ejzZP+fWf/vj/wCvXNXXjjVbq+0a08OaRFcS6npxvyt1N5flrlRj6/NXXabJey6dC+qQR292w/eRRPvVT7HvVWZN0VvNk/59Z/8Avj/69Hmyf8+s/wD3x/8AXrTopDMzzZP+fWf/AL4/+vR5sn/PrP8A98f/AF606KAMzzZP+fWf/vj/AOvR5sn/AD6z/wDfH/1606KAMW0kcRPi3mP71+i/7RqfzZP+fWf/AL4/+vVqx/1Mn/XaT/0M1ZoAzPNk/wCfWf8A74/+vR5sn/PrP/3x/wDXrTooAzPNk/59Z/8Avj/69Hmyf8+s/wD3x/8AXrTooAzPNk/59Z/++P8A69Hmyf8APrP/AN8f/XrTrh9d8bapb+IdT0vQtOtZzpNqlzdPdz+XuDAkBPwHXpSbS3Gk2dL5sn/PrP8A98f/AF6PNk/59Z/++P8A69c/qPxB+y/D+08SWej3V091aG5W2UY8tQm5i7dgB+ddLoeo/wBsaBY6l5fl/a7dJtmc7dwBx+tVZ3a7E30T7kXmyf8APrP/AN8f/Xo82T/n1n/74/8Ar1p0UhmZ5sn/AD6z/wDfH/16PNk/59Z/++P/AK9adFAGZ5sn/PrP/wB8f/Xo82T/AJ9Z/wDvj/69adFAGKsj/wBoSH7PNnyl4289WqfzZP8An1n/AO+P/r1aT/kKy/8AXFP/AEJqs0AZnmyf8+s//fH/ANejzZP+fWf/AL4/+vWnRQBmebJ/z6z/APfH/wBejzZP+fWf/vj/AOvWnRQBmebJ/wA+s/8A3x/9ejzZP+fWf/vj/wCvWnWRr11r1ssP/CPadbXpYnzRcT+Xt9MevegCTzZP+fWf/vj/AOvR5sn/AD6z/wDfH/164q2+J+of2TqE97o0YuodTTS7VIJ9yXE7cH5vQHOT7Gt3w/4p1G68TXXh7xFYQ2eoRW63URt5C8csRJGRnuCMGha7f1pf8tQen9edvzNjzZP+fWf/AL4/+vR5sn/PrP8A98f/AF606KAMzzZP+fWf/vj/AOvR5sn/AD6z/wDfH/1606KAMzzZP+fWf/vj/wCvR5sn/PrP/wB8f/XrTooAxbiR/Mt828w/e916/K1T+bJ/z6z/APfH/wBerV3/AK60/wCu/wD7I1WaAMzzZP8An1n/AO+P/r0ebJ/z6z/98f8A1606KAMzzZP+fWf/AL4/+vR5sn/PrP8A98f/AF606KAMzzZP+fWf/vj/AOvR5sn/AD6z/wDfH/165XVfHmsi71l/D2iw32n6GxS8llm2M7Ku51jHsPXvXV2mu2d54Zj11G22clr9q3Hsm3d/KldW5g62E82T/n1n/wC+P/r0ebJ/z6z/APfH/wBeuOtPiJq//Ep1LVNEittC1i4WC2mWbMqF8+WXXpg47etaHi74hJ4b8Q6ZpNrZm9kup4o7lw2BbLI21Sfc88e1VbVL5fMO7+Z0Pmyf8+s//fH/ANejzZP+fWf/AL4/+vWnRSAzPNk/59Z/++P/AK9Hmyf8+s//AHx/9etOigDM82T/AJ9Z/wDvj/69OsWLahNujeP90nDjHdq0arL/AMhWX/rgn/oTUAEn/IUt/wDrlJ/NKs1Wk/5Clv8A9cpP5pVmgAooooAK8j+PMcl3beHrG8tZjokt9u1C7toTJLbhQNu3HK555r1ykZQykMAQeoIpNXsNOx4R8Ndan8E6F4uu7HTdR1Pw9a3UclgzQFbm4LnD9RlgOOa9ys7j7XYwXPltF50avscYZcjOD71KqhVAUAAdABS1V9PuJtqFeJ+KRN4K+Mmq+INVsb640LxBpq2j3ViheS2cKF7cjpnPvXtlIyhlIYAg9QRU21v/AFqV0t/Xc+YoxqGqeAfiVHpo1m70lhbDTRfI7SMA/wA2AeTXceLlPg74deFYtF0W3ijmlhF3ctZeebX93gyFMctyRk17KqqihUAUDoAMUModcMAwPYin0t6fh/mLrf1/E+Vjo2tX3gXx+bS1vJ45dStbrH2UwG5hGSxVB+BwK37JtP1v4qW+p+FfD13Yaf8A8I9cwPI1oYlklCHjGOvIHvX0XjjHakVQi4UBR6AUraW/rblHfW/9b3Pl59J1ez+H/wAOL64hurexsZbr7UfshmMDM52O0RHP41b1nw/DL8Jtel0Se+1T7frdvLIhsDCob+IogHTnk+1fSxAZSGAIPUGhVCKAoCgdABVX1b87/in+hPRen+f+Z4rdeE4rT41SW+l6OIrG48KvGypDiJpN2ADxjPArU/Z9ubRPAa6V/Z81pqdgzLeGW2Me4l3K/MfvYH5V6vSKiqSVUDJycDrQnZf13b/UGr/15JfofMvinSdKl+JXj0eJLLXGN1sGnmwik2St5f8AFt4Izt6+9Xktta0dvhzrHj3Tp7jTrG3niuI1g8zyGOfKZ0Hfbt/Kvo2kZQykMAwPUEVMfdSS6W/C6/Ucvebb63/T/I+ZtQ0LVdY8G+PtU8PaZdQ6RqGqW89vaeUY2miQnzCqehyD+Fbch0vxX8RNP1Dw3o95baRp+h3MWqPHamEsrRsBGBgbmGa9/AAGAMAdAKRUVBhFCg88DFFla39bWHd3v/W9z538DQ3UsWv+F9MtTq2iJos32a8udP8AJmjkI+WIkj5jnn8K7v4DXlnJ8OrawhsZrS+sVEV55tuY9z5OOT97ivTVRUzsULk5OBihUVM7VC5OTgdaq+/9d/8AMm39fd/kLRRRSGFFFFABRRRQAUUUUAFFFFABRRRQBWtv+Pq8/wCuo/8AQFqzVa2/4+rz/rqP/QFqzQAUUUUAFFFFABXhvjOz0zVvF3iOXxVNeabeWqLFpS2sL7blAoZWbaMSZbjaele5U1kRmBZVJHQkdKTWtxp2PLr248OXuiaJP8RLaaz1kacp/cRyLt3dVUp0OR0rpPhf/av/AAglt/bRuDJ5knkfaf8AW+TvPl7vfbiutZFfG9VbHIyM4p1VfV+ZNtEuwUUUUhhRRRQAUUUUAVrH/Uyf9dpP/QzVmq1j/qZP+u0n/oZqzQAUUUUAFFFFABXivjmz0vWfHWsr4wnvNMW1tUj0yS0if/SQRuJJUfP83G017VTWRHxvVWx0yM4pNXGnY81vfEFxb/A1V8R20sGo3+mSwJBDbsSWMZC/Ko+XII/Ouk+HOp2+peBNMW3Eqta28dvKssTRlXVBkYIHrXUUVV9ZPv8A8H/Mm2iXb+v0CiiikMKKKKACiiigCsn/ACFZf+uKf+hNVmqyf8hWX/rin/oTVZoAKKKKACiiigArB8baxc6H4RvbvToJLi+ZRDaxxqWJlc7VPHYE5P0reopNXVhp2dzz678J6LovwtstL164mgS2kjna8gBMiXOd3m8An7xP51neBNPl1H4jXniCLUNQ1GwgsFs47u9TZ5zl9x2DA+Ucc+pNeolQykMAQeoIoACqAoAA6AVV/e5v62sTb3bf13FooopDCiiigAooooArXf8ArrT/AK7/APsjVZqtd/660/67/wDsjVZoAKKKKACiiigDyGPWY/CSeN9G1O3uTe395cXFgiQswuhMvyhSBjrwc9K37C0kt/h5D4HkinGqP4fYbvLPlg7Nm3f0zk9K74orMGZQSOhI6UtTy3jyvsl9yaQ7+9zer+88YGqL4k8IeE/CtlbXI1W0vLVr2J4WUWywcsWJGO2B65qr4l8PeNNOtYpZrTTr2a716C5e4RnLkh/kBHZFGB7V7gEUMWCgMepA5NLV3vLm87/l/kTbS3lb8/8AMjtzKbaM3IVZto3hOgPfFSUUUhhRRRQAVWX/AJCsv/XBP/QmqzVZf+QrL/1wT/0JqACT/kKW/wD1yk/mlWarSf8AIUt/+uUn80qzQAUUUUAFFFFABRRRQAUUUUAFFFFABRRRQAUUUUAFFFFABRRRQAUUUUAFFFFABRRRQAUUUUAFFFFABRRRQAUUUUAFFFFAFa2/4+rz/rqP/QFqzVa2/wCPq8/66j/0Bas0AFFFFABRRRQAUUUUAFFFFABRRRQAUUUUAFFFFAFax/1Mn/XaT/0M1ZqtY/6mT/rtJ/6Gas0AFFFFABRRRQAUUUUAFFFFABRRRQAUUUUAFFFFAFZP+QrL/wBcU/8AQmqzVZP+QrL/ANcU/wDQmqzQAUUUUAFFFFABRRRQAUUUUAFFFFABRRRQAUUUUAVrv/XWn/Xf/wBkarNVrv8A11p/13/9karNABRRRQAUUUUAFFFFABRRRQAUUUUAFFFFABVZf+QrL/1wT/0Jqs1WX/kKy/8AXBP/AEJqAGzukepW5kZVHlScscd0qb7TB/z2j/77FPeNJMeYitjpuGcU37NB/wA8Y/8AvgUAJ9pg/wCe0f8A32KPtMH/AD2j/wC+xS/ZoP8AnjH/AN8Cj7NB/wA8Y/8AvgUAJ9pg/wCe0f8A32KPtMH/AD2j/wC+xS/ZoP8AnjH/AN8Cj7NB/wA8Y/8AvgUAJ9pg/wCe0f8A32KPtMH/AD2j/wC+xS/ZoP8AnjH/AN8Cj7NB/wA8Y/8AvgUAJ9pg/wCe0f8A32KPtMH/AD2j/wC+xS/ZoP8AnjH/AN8Cj7NB/wA8Y/8AvgUAJ9pg/wCe0f8A32KPtMH/AD2j/wC+xS/ZoP8AnjH/AN8Cj7NB/wA8Y/8AvgUAJ9pg/wCe0f8A32KPtMH/AD2j/wC+xS/ZoP8AnjH/AN8Cj7NB/wA8Y/8AvgUAJ9pg/wCe0f8A32KPtMH/AD2j/wC+xS/ZoP8AnjH/AN8Cj7NB/wA8Y/8AvgUAJ9pg/wCe0f8A32KPtMH/AD2j/wC+xS/ZoP8AnjH/AN8Cj7NB/wA8Y/8AvgUAJ9pg/wCe0f8A32KPtMH/AD2j/wC+xS/ZoP8AnjH/AN8Cj7NB/wA8Y/8AvgUAJ9pg/wCe0f8A32KPtMH/AD2j/wC+xS/ZoP8AnjH/AN8Cj7NB/wA8Y/8AvgUAJ9pg/wCe0f8A32KPtMH/AD2j/wC+xS/ZoP8AnjH/AN8Cj7NB/wA8Y/8AvgUAJ9pg/wCe0f8A32KPtMH/AD2j/wC+xS/ZoP8AnjH/AN8Cj7NB/wA8Y/8AvgUAJ9pg/wCe0f8A32KPtMH/AD2j/wC+xS/ZoP8AnjH/AN8Cj7NB/wA8Y/8AvgUAJ9pg/wCe0f8A32KPtMH/AD2j/wC+xS/ZoP8AnjH/AN8Cj7NB/wA8Y/8AvgUAJ9pg/wCe0f8A32KPtMH/AD2j/wC+xS/ZoP8AnjH/AN8Cj7NB/wA8Y/8AvgUAJ9pg/wCe0f8A32KPtMH/AD2j/wC+xS/ZoP8AnjH/AN8Cj7NB/wA8Y/8AvgUAJ9pg/wCe0f8A32KPtMH/AD2j/wC+xS/ZoP8AnjH/AN8Cj7NB/wA8Y/8AvgUAVra4hFzdkzRgGUY+Yc/ItWPtMH/PaP8A77FL9mg/54x/98Cj7NB/zxj/AO+BQAn2mD/ntH/32KPtMH/PaP8A77FL9mg/54x/98Cj7NB/zxj/AO+BQAn2mD/ntH/32KPtMH/PaP8A77FL9mg/54x/98Cj7NB/zxj/AO+BQAn2mD/ntH/32KPtMH/PaP8A77FL9mg/54x/98Cj7NB/zxj/AO+BQAn2mD/ntH/32KPtMH/PaP8A77FL9mg/54x/98Cj7NB/zxj/AO+BQAn2mD/ntH/32KPtMH/PaP8A77FL9mg/54x/98Cj7NB/zxj/AO+BQAn2mD/ntH/32KPtMH/PaP8A77FL9mg/54x/98Cj7NB/zxj/AO+BQAn2mD/ntH/32KPtMH/PaP8A77FL9mg/54x/98Cj7NB/zxj/AO+BQBWsriEQyZmjH76Q8sP75qx9pg/57R/99il+zQf88Y/++BR9mg/54x/98CgBPtMH/PaP/vsUfaYP+e0f/fYpfs0H/PGP/vgUfZoP+eMf/fAoAT7TB/z2j/77FH2mD/ntH/32KX7NB/zxj/74FH2aD/njH/3wKAE+0wf89o/++xR9pg/57R/99il+zQf88Y/++BR9mg/54x/98CgBPtMH/PaP/vsUfaYP+e0f/fYpfs0H/PGP/vgUfZoP+eMf/fAoAT7TB/z2j/77FH2mD/ntH/32KX7NB/zxj/74FH2aD/njH/3wKAE+0wf89o/++xR9pg/57R/99il+zQf88Y/++BR9mg/54x/98CgBPtMH/PaP/vsUfaYP+e0f/fYpfs0H/PGP/vgUfZoP+eMf/fAoArLcQ/2pKfOjx5KDO4f3mqx9pg/57R/99il+zQf88Y/++BR9mg/54x/98CgBPtMH/PaP/vsUfaYP+e0f/fYpfs0H/PGP/vgUfZoP+eMf/fAoAT7TB/z2j/77FH2mD/ntH/32KX7NB/zxj/74FH2aD/njH/3wKAE+0wf89o/++xR9pg/57R/99il+zQf88Y/++BR9mg/54x/98CgBPtMH/PaP/vsUfaYP+e0f/fYpfs0H/PGP/vgUfZoP+eMf/fAoAT7TB/z2j/77FH2mD/ntH/32KX7NB/zxj/74FH2aD/njH/3wKAE+0wf89o/++xR9pg/57R/99il+zQf88Y/++BR9mg/54x/98CgBPtMH/PaP/vsUfaYP+e0f/fYpfs0H/PGP/vgUfZoP+eMf/fAoArXVxCZrXE0ZxNk/MOPkarH2mD/ntH/32KX7NB/zxj/74FH2aD/njH/3wKAE+0wf89o/++xR9pg/57R/99il+zQf88Y/++BR9mg/54x/98CgBPtMH/PaP/vsUfaYP+e0f/fYpfs0H/PGP/vgUfZoP+eMf/fAoAT7TB/z2j/77FH2mD/ntH/32KX7NB/zxj/74FH2aD/njH/3wKAE+0wf89o/++xR9pg/57R/99il+zQf88Y/++BR9mg/54x/98CgBPtMH/PaP/vsUfaYP+e0f/fYpfs0H/PGP/vgUfZoP+eMf/fAoAT7TB/z2j/77FH2mD/ntH/32KX7NB/zxj/74FH2aD/njH/3wKAE+0wf89o/++xUMUiSapKY2Vh5Kcqc/wATVP8AZoP+eMf/AHwKckUcefLRVz12jFAH/9k=)"
   ]
  },
  {
   "cell_type": "code",
   "execution_count": null,
   "metadata": {
    "colab": {},
    "colab_type": "code",
    "id": "9TXE0v73rdFF"
   },
   "outputs": [],
   "source": []
  }
 ],
 "metadata": {
  "accelerator": "TPU",
  "colab": {
   "name": "Ensemble Learning ML - 11.ipynb",
   "provenance": [],
   "toc_visible": true
  },
  "kernelspec": {
   "display_name": "Python 3",
   "language": "python",
   "name": "python3"
  },
  "language_info": {
   "codemirror_mode": {
    "name": "ipython",
    "version": 3
   },
   "file_extension": ".py",
   "mimetype": "text/x-python",
   "name": "python",
   "nbconvert_exporter": "python",
   "pygments_lexer": "ipython3",
   "version": "3.7.5"
  }
 },
 "nbformat": 4,
 "nbformat_minor": 1
}
